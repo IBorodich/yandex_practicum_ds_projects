{
  "cells": [
    {
      "cell_type": "markdown",
      "metadata": {
        "toc": true,
        "id": "dUJixAJ8imkK"
      },
      "source": [
        "<h1>Содержание<span class=\"tocSkip\"></span></h1>\n",
        "<div class=\"toc\"><ul class=\"toc-item\"><li><span><a href=\"#Подготовка\" data-toc-modified-id=\"Подготовка-1\"><span class=\"toc-item-num\">1&nbsp;&nbsp;</span>Подготовка</a></span><ul class=\"toc-item\"><li><span><a href=\"#Импорт-библиотек\" data-toc-modified-id=\"Импорт-библиотек-1.1\"><span class=\"toc-item-num\">1.1&nbsp;&nbsp;</span>Импорт библиотек</a></span></li><li><span><a href=\"#Загрузка-данных\" data-toc-modified-id=\"Загрузка-данных-1.2\"><span class=\"toc-item-num\">1.2&nbsp;&nbsp;</span>Загрузка данных</a></span></li><li><span><a href=\"#Баланс-классов\" data-toc-modified-id=\"Баланс-классов-1.3\"><span class=\"toc-item-num\">1.3&nbsp;&nbsp;</span>Баланс классов</a></span></li><li><span><a href=\"#Лемматизация-данных\" data-toc-modified-id=\"Лемматизация-данных-1.4\"><span class=\"toc-item-num\">1.4&nbsp;&nbsp;</span>Лемматизация данных</a></span></li><li><span><a href=\"#Очистка-данных\" data-toc-modified-id=\"Очистка-данных-1.5\"><span class=\"toc-item-num\">1.5&nbsp;&nbsp;</span>Очистка данных</a></span></li><li><span><a href=\"#Создание-признаков\" data-toc-modified-id=\"Создание-признаков-1.6\"><span class=\"toc-item-num\">1.6&nbsp;&nbsp;</span>Создание признаков</a></span></li><li><span><a href=\"#Расчет-TF-IDF\" data-toc-modified-id=\"Расчет-TF-IDF-1.7\"><span class=\"toc-item-num\">1.7&nbsp;&nbsp;</span>Расчет TF-IDF</a></span></li></ul></li><li><span><a href=\"#Обучение\" data-toc-modified-id=\"Обучение-2\"><span class=\"toc-item-num\">2&nbsp;&nbsp;</span>Обучение</a></span><ul class=\"toc-item\"><li><span><a href=\"#Вспомогательная-функция\" data-toc-modified-id=\"Вспомогательная-функция-2.1\"><span class=\"toc-item-num\">2.1&nbsp;&nbsp;</span>Вспомогательная функция</a></span></li><li><span><a href=\"#LogisticRegression\" data-toc-modified-id=\"LogisticRegression-2.2\"><span class=\"toc-item-num\">2.2&nbsp;&nbsp;</span>LogisticRegression</a></span></li><li><span><a href=\"#CatBoostClassifier\" data-toc-modified-id=\"CatBoostClassifier-2.3\"><span class=\"toc-item-num\">2.3&nbsp;&nbsp;</span>CatBoostClassifier</a></span></li><li><span><a href=\"#DummyClassifier\" data-toc-modified-id=\"DummyClassifier-2.4\"><span class=\"toc-item-num\">2.4&nbsp;&nbsp;</span>DummyClassifier</a></span></li></ul></li><li><span><a href=\"#Выводы\" data-toc-modified-id=\"Выводы-3\"><span class=\"toc-item-num\">3&nbsp;&nbsp;</span>Выводы</a></span></li>"
      ]
    },
    {
      "cell_type": "markdown",
      "metadata": {
        "id": "fXqK2SrximkL"
      },
      "source": [
        "# Проект для «Викишоп»"
      ]
    },
    {
      "cell_type": "markdown",
      "metadata": {
        "id": "gaxneHLuimkM"
      },
      "source": [
        "Интернет-магазин «Викишоп» запускает новый сервис. Теперь пользователи могут редактировать и дополнять описания товаров, как в вики-сообществах. То есть клиенты предлагают свои правки и комментируют изменения других. Магазину нужен инструмент, который будет искать токсичные комментарии и отправлять их на модерацию. \n",
        "\n",
        "Обучите модель классифицировать комментарии на позитивные и негативные. В вашем распоряжении набор данных с разметкой о токсичности правок.\n",
        "\n",
        "Постройте модель со значением метрики качества *F1* не меньше 0.75. \n",
        "\n",
        "**Описание данных**\n",
        "\n",
        "Данные находятся в файле `toxic_comments.csv`. Столбец *text* в нём содержит текст комментария, а *toxic* — целевой признак."
      ]
    },
    {
      "cell_type": "markdown",
      "metadata": {
        "id": "bCWswhLbimkP"
      },
      "source": [
        "## Подготовка"
      ]
    },
    {
      "cell_type": "markdown",
      "metadata": {
        "id": "pLK-9OXVimkP"
      },
      "source": [
        "### Импорт библиотек"
      ]
    },
    {
      "cell_type": "code",
      "source": [
        "!pip install catboost"
      ],
      "metadata": {
        "colab": {
          "base_uri": "https://localhost:8080/"
        },
        "id": "SG9LCCHwmKSj",
        "outputId": "200e2960-278e-4bd9-db03-a96a1aa1e74d"
      },
      "execution_count": null,
      "outputs": [
        {
          "output_type": "stream",
          "name": "stdout",
          "text": [
            "Looking in indexes: https://pypi.org/simple, https://us-python.pkg.dev/colab-wheels/public/simple/\n",
            "Requirement already satisfied: catboost in /usr/local/lib/python3.7/dist-packages (1.0.6)\n",
            "Requirement already satisfied: graphviz in /usr/local/lib/python3.7/dist-packages (from catboost) (0.10.1)\n",
            "Requirement already satisfied: six in /usr/local/lib/python3.7/dist-packages (from catboost) (1.15.0)\n",
            "Requirement already satisfied: plotly in /usr/local/lib/python3.7/dist-packages (from catboost) (5.5.0)\n",
            "Requirement already satisfied: numpy>=1.16.0 in /usr/local/lib/python3.7/dist-packages (from catboost) (1.21.6)\n",
            "Requirement already satisfied: scipy in /usr/local/lib/python3.7/dist-packages (from catboost) (1.4.1)\n",
            "Requirement already satisfied: pandas>=0.24.0 in /usr/local/lib/python3.7/dist-packages (from catboost) (1.3.5)\n",
            "Requirement already satisfied: matplotlib in /usr/local/lib/python3.7/dist-packages (from catboost) (3.2.2)\n",
            "Requirement already satisfied: pytz>=2017.3 in /usr/local/lib/python3.7/dist-packages (from pandas>=0.24.0->catboost) (2022.1)\n",
            "Requirement already satisfied: python-dateutil>=2.7.3 in /usr/local/lib/python3.7/dist-packages (from pandas>=0.24.0->catboost) (2.8.2)\n",
            "Requirement already satisfied: pyparsing!=2.0.4,!=2.1.2,!=2.1.6,>=2.0.1 in /usr/local/lib/python3.7/dist-packages (from matplotlib->catboost) (3.0.9)\n",
            "Requirement already satisfied: kiwisolver>=1.0.1 in /usr/local/lib/python3.7/dist-packages (from matplotlib->catboost) (1.4.3)\n",
            "Requirement already satisfied: cycler>=0.10 in /usr/local/lib/python3.7/dist-packages (from matplotlib->catboost) (0.11.0)\n",
            "Requirement already satisfied: typing-extensions in /usr/local/lib/python3.7/dist-packages (from kiwisolver>=1.0.1->matplotlib->catboost) (4.1.1)\n",
            "Requirement already satisfied: tenacity>=6.2.0 in /usr/local/lib/python3.7/dist-packages (from plotly->catboost) (8.0.1)\n"
          ]
        }
      ]
    },
    {
      "cell_type": "code",
      "execution_count": null,
      "metadata": {
        "id": "iDpJcE64imkQ"
      },
      "outputs": [],
      "source": [
        "import pandas as pd\n",
        "import numpy as np\n",
        "import spacy\n",
        "import nltk\n",
        "from nltk.corpus import stopwords as nltk_stopwords\n",
        "from sklearn.feature_extraction.text import TfidfVectorizer\n",
        "from sklearn.model_selection import train_test_split\n",
        "from sklearn.pipeline import Pipeline\n",
        "from sklearn.model_selection import cross_val_score\n",
        "from sklearn.metrics import f1_score\n",
        "from sklearn.linear_model import LogisticRegression\n",
        "from catboost import CatBoostClassifier\n",
        "from sklearn.dummy import DummyClassifier"
      ]
    },
    {
      "cell_type": "markdown",
      "metadata": {
        "id": "t_nx39QjimkR"
      },
      "source": [
        "### Загрузка данных"
      ]
    },
    {
      "cell_type": "code",
      "execution_count": null,
      "metadata": {
        "id": "MbyuWDa6imkS"
      },
      "outputs": [],
      "source": [
        "data = pd.read_csv('toxic_comments.csv')"
      ]
    },
    {
      "cell_type": "markdown",
      "metadata": {
        "id": "aYS4mUk6imkT"
      },
      "source": [
        "### Баланс классов"
      ]
    },
    {
      "cell_type": "code",
      "execution_count": null,
      "metadata": {
        "id": "2_T50KyeimkT",
        "outputId": "3698b72d-71ce-42a6-c5dc-d62cc73e776a",
        "colab": {
          "base_uri": "https://localhost:8080/"
        }
      },
      "outputs": [
        {
          "output_type": "execute_result",
          "data": {
            "text/plain": [
              "0    0.898321\n",
              "1    0.101679\n",
              "Name: toxic, dtype: float64"
            ]
          },
          "metadata": {},
          "execution_count": 5
        }
      ],
      "source": [
        "data['toxic'].value_counts(normalize=True)"
      ]
    },
    {
      "cell_type": "markdown",
      "metadata": {
        "id": "XDot5MFOimkY"
      },
      "source": [
        "### Лемматизация данных"
      ]
    },
    {
      "cell_type": "code",
      "execution_count": null,
      "metadata": {
        "id": "nflu8V-CimkY"
      },
      "outputs": [],
      "source": [
        "# функция лемматизации текста\n",
        "\n",
        "nlp = spacy.load(\"en_core_web_sm\")\n",
        "\n",
        "def lemmatize(text):\n",
        "    doc = nlp(text)\n",
        "\n",
        "    return ' '.join([token.lemma_ for token in doc])"
      ]
    },
    {
      "cell_type": "code",
      "execution_count": null,
      "metadata": {
        "id": "4Wd7h-VIimkZ",
        "outputId": "69560ec7-b9f3-4a5e-c7b2-5ca96141d413",
        "colab": {
          "base_uri": "https://localhost:8080/"
        }
      },
      "outputs": [
        {
          "output_type": "stream",
          "name": "stdout",
          "text": [
            "CPU times: user 47min 26s, sys: 21.6 s, total: 47min 48s\n",
            "Wall time: 47min 54s\n"
          ]
        }
      ],
      "source": [
        "%%time\n",
        "\n",
        "data['lemm_text'] = data['text'].apply(lambda text: lemmatize(text))"
      ]
    },
    {
      "cell_type": "code",
      "execution_count": null,
      "metadata": {
        "id": "2w_tBMHoimka",
        "outputId": "3e90c624-842f-4501-f6b2-014a8d86c7fe",
        "colab": {
          "base_uri": "https://localhost:8080/",
          "height": 206
        }
      },
      "outputs": [
        {
          "output_type": "execute_result",
          "data": {
            "text/plain": [
              "                                                text  toxic  \\\n",
              "0  Explanation\\nWhy the edits made under my usern...      0   \n",
              "1  D'aww! He matches this background colour I'm s...      0   \n",
              "2  Hey man, I'm really not trying to edit war. It...      0   \n",
              "3  \"\\nMore\\nI can't make any real suggestions on ...      0   \n",
              "4  You, sir, are my hero. Any chance you remember...      0   \n",
              "\n",
              "                                           lemm_text  \n",
              "0  Explanation \\n why the edit make under my user...  \n",
              "1  D'aww ! he match this background colour I be s...  \n",
              "2  hey man , I be really not try to edit war . it...  \n",
              "3  \" \\n more \\n I can not make any real suggestio...  \n",
              "4  you , sir , be my hero . any chance you rememb...  "
            ],
            "text/html": [
              "\n",
              "  <div id=\"df-bd9b0e48-98f9-4570-9543-269c0aa6500a\">\n",
              "    <div class=\"colab-df-container\">\n",
              "      <div>\n",
              "<style scoped>\n",
              "    .dataframe tbody tr th:only-of-type {\n",
              "        vertical-align: middle;\n",
              "    }\n",
              "\n",
              "    .dataframe tbody tr th {\n",
              "        vertical-align: top;\n",
              "    }\n",
              "\n",
              "    .dataframe thead th {\n",
              "        text-align: right;\n",
              "    }\n",
              "</style>\n",
              "<table border=\"1\" class=\"dataframe\">\n",
              "  <thead>\n",
              "    <tr style=\"text-align: right;\">\n",
              "      <th></th>\n",
              "      <th>text</th>\n",
              "      <th>toxic</th>\n",
              "      <th>lemm_text</th>\n",
              "    </tr>\n",
              "  </thead>\n",
              "  <tbody>\n",
              "    <tr>\n",
              "      <th>0</th>\n",
              "      <td>Explanation\\nWhy the edits made under my usern...</td>\n",
              "      <td>0</td>\n",
              "      <td>Explanation \\n why the edit make under my user...</td>\n",
              "    </tr>\n",
              "    <tr>\n",
              "      <th>1</th>\n",
              "      <td>D'aww! He matches this background colour I'm s...</td>\n",
              "      <td>0</td>\n",
              "      <td>D'aww ! he match this background colour I be s...</td>\n",
              "    </tr>\n",
              "    <tr>\n",
              "      <th>2</th>\n",
              "      <td>Hey man, I'm really not trying to edit war. It...</td>\n",
              "      <td>0</td>\n",
              "      <td>hey man , I be really not try to edit war . it...</td>\n",
              "    </tr>\n",
              "    <tr>\n",
              "      <th>3</th>\n",
              "      <td>\"\\nMore\\nI can't make any real suggestions on ...</td>\n",
              "      <td>0</td>\n",
              "      <td>\" \\n more \\n I can not make any real suggestio...</td>\n",
              "    </tr>\n",
              "    <tr>\n",
              "      <th>4</th>\n",
              "      <td>You, sir, are my hero. Any chance you remember...</td>\n",
              "      <td>0</td>\n",
              "      <td>you , sir , be my hero . any chance you rememb...</td>\n",
              "    </tr>\n",
              "  </tbody>\n",
              "</table>\n",
              "</div>\n",
              "      <button class=\"colab-df-convert\" onclick=\"convertToInteractive('df-bd9b0e48-98f9-4570-9543-269c0aa6500a')\"\n",
              "              title=\"Convert this dataframe to an interactive table.\"\n",
              "              style=\"display:none;\">\n",
              "        \n",
              "  <svg xmlns=\"http://www.w3.org/2000/svg\" height=\"24px\"viewBox=\"0 0 24 24\"\n",
              "       width=\"24px\">\n",
              "    <path d=\"M0 0h24v24H0V0z\" fill=\"none\"/>\n",
              "    <path d=\"M18.56 5.44l.94 2.06.94-2.06 2.06-.94-2.06-.94-.94-2.06-.94 2.06-2.06.94zm-11 1L8.5 8.5l.94-2.06 2.06-.94-2.06-.94L8.5 2.5l-.94 2.06-2.06.94zm10 10l.94 2.06.94-2.06 2.06-.94-2.06-.94-.94-2.06-.94 2.06-2.06.94z\"/><path d=\"M17.41 7.96l-1.37-1.37c-.4-.4-.92-.59-1.43-.59-.52 0-1.04.2-1.43.59L10.3 9.45l-7.72 7.72c-.78.78-.78 2.05 0 2.83L4 21.41c.39.39.9.59 1.41.59.51 0 1.02-.2 1.41-.59l7.78-7.78 2.81-2.81c.8-.78.8-2.07 0-2.86zM5.41 20L4 18.59l7.72-7.72 1.47 1.35L5.41 20z\"/>\n",
              "  </svg>\n",
              "      </button>\n",
              "      \n",
              "  <style>\n",
              "    .colab-df-container {\n",
              "      display:flex;\n",
              "      flex-wrap:wrap;\n",
              "      gap: 12px;\n",
              "    }\n",
              "\n",
              "    .colab-df-convert {\n",
              "      background-color: #E8F0FE;\n",
              "      border: none;\n",
              "      border-radius: 50%;\n",
              "      cursor: pointer;\n",
              "      display: none;\n",
              "      fill: #1967D2;\n",
              "      height: 32px;\n",
              "      padding: 0 0 0 0;\n",
              "      width: 32px;\n",
              "    }\n",
              "\n",
              "    .colab-df-convert:hover {\n",
              "      background-color: #E2EBFA;\n",
              "      box-shadow: 0px 1px 2px rgba(60, 64, 67, 0.3), 0px 1px 3px 1px rgba(60, 64, 67, 0.15);\n",
              "      fill: #174EA6;\n",
              "    }\n",
              "\n",
              "    [theme=dark] .colab-df-convert {\n",
              "      background-color: #3B4455;\n",
              "      fill: #D2E3FC;\n",
              "    }\n",
              "\n",
              "    [theme=dark] .colab-df-convert:hover {\n",
              "      background-color: #434B5C;\n",
              "      box-shadow: 0px 1px 3px 1px rgba(0, 0, 0, 0.15);\n",
              "      filter: drop-shadow(0px 1px 2px rgba(0, 0, 0, 0.3));\n",
              "      fill: #FFFFFF;\n",
              "    }\n",
              "  </style>\n",
              "\n",
              "      <script>\n",
              "        const buttonEl =\n",
              "          document.querySelector('#df-bd9b0e48-98f9-4570-9543-269c0aa6500a button.colab-df-convert');\n",
              "        buttonEl.style.display =\n",
              "          google.colab.kernel.accessAllowed ? 'block' : 'none';\n",
              "\n",
              "        async function convertToInteractive(key) {\n",
              "          const element = document.querySelector('#df-bd9b0e48-98f9-4570-9543-269c0aa6500a');\n",
              "          const dataTable =\n",
              "            await google.colab.kernel.invokeFunction('convertToInteractive',\n",
              "                                                     [key], {});\n",
              "          if (!dataTable) return;\n",
              "\n",
              "          const docLinkHtml = 'Like what you see? Visit the ' +\n",
              "            '<a target=\"_blank\" href=https://colab.research.google.com/notebooks/data_table.ipynb>data table notebook</a>'\n",
              "            + ' to learn more about interactive tables.';\n",
              "          element.innerHTML = '';\n",
              "          dataTable['output_type'] = 'display_data';\n",
              "          await google.colab.output.renderOutput(dataTable, element);\n",
              "          const docLink = document.createElement('div');\n",
              "          docLink.innerHTML = docLinkHtml;\n",
              "          element.appendChild(docLink);\n",
              "        }\n",
              "      </script>\n",
              "    </div>\n",
              "  </div>\n",
              "  "
            ]
          },
          "metadata": {},
          "execution_count": 8
        }
      ],
      "source": [
        "data.head()"
      ]
    },
    {
      "cell_type": "markdown",
      "metadata": {
        "id": "PmpzBMU3imkc"
      },
      "source": [
        "### Очистка данных"
      ]
    },
    {
      "cell_type": "code",
      "execution_count": null,
      "metadata": {
        "id": "6Dh-n3Afimkc"
      },
      "outputs": [],
      "source": [
        "data['lemm_text'] = data['lemm_text'].str.replace(r'[^a-zA-Z ]', ' ', regex=True)\\\n",
        "                                     .str.split()\\\n",
        "                                     .str.join(' ')"
      ]
    },
    {
      "cell_type": "code",
      "source": [
        "data.head()"
      ],
      "metadata": {
        "colab": {
          "base_uri": "https://localhost:8080/",
          "height": 206
        },
        "id": "GfKdDyCnoKUx",
        "outputId": "39207159-40e9-407f-a716-7216edc915d7"
      },
      "execution_count": null,
      "outputs": [
        {
          "output_type": "execute_result",
          "data": {
            "text/plain": [
              "                                                text  toxic  \\\n",
              "0  Explanation\\nWhy the edits made under my usern...      0   \n",
              "1  D'aww! He matches this background colour I'm s...      0   \n",
              "2  Hey man, I'm really not trying to edit war. It...      0   \n",
              "3  \"\\nMore\\nI can't make any real suggestions on ...      0   \n",
              "4  You, sir, are my hero. Any chance you remember...      0   \n",
              "\n",
              "                                           lemm_text  \n",
              "0  Explanation why the edit make under my usernam...  \n",
              "1  D aww he match this background colour I be see...  \n",
              "2  hey man I be really not try to edit war it be ...  \n",
              "3  more I can not make any real suggestion on imp...  \n",
              "4  you sir be my hero any chance you remember wha...  "
            ],
            "text/html": [
              "\n",
              "  <div id=\"df-1a1f8b4a-f6d3-4970-908e-d51829c28eba\">\n",
              "    <div class=\"colab-df-container\">\n",
              "      <div>\n",
              "<style scoped>\n",
              "    .dataframe tbody tr th:only-of-type {\n",
              "        vertical-align: middle;\n",
              "    }\n",
              "\n",
              "    .dataframe tbody tr th {\n",
              "        vertical-align: top;\n",
              "    }\n",
              "\n",
              "    .dataframe thead th {\n",
              "        text-align: right;\n",
              "    }\n",
              "</style>\n",
              "<table border=\"1\" class=\"dataframe\">\n",
              "  <thead>\n",
              "    <tr style=\"text-align: right;\">\n",
              "      <th></th>\n",
              "      <th>text</th>\n",
              "      <th>toxic</th>\n",
              "      <th>lemm_text</th>\n",
              "    </tr>\n",
              "  </thead>\n",
              "  <tbody>\n",
              "    <tr>\n",
              "      <th>0</th>\n",
              "      <td>Explanation\\nWhy the edits made under my usern...</td>\n",
              "      <td>0</td>\n",
              "      <td>Explanation why the edit make under my usernam...</td>\n",
              "    </tr>\n",
              "    <tr>\n",
              "      <th>1</th>\n",
              "      <td>D'aww! He matches this background colour I'm s...</td>\n",
              "      <td>0</td>\n",
              "      <td>D aww he match this background colour I be see...</td>\n",
              "    </tr>\n",
              "    <tr>\n",
              "      <th>2</th>\n",
              "      <td>Hey man, I'm really not trying to edit war. It...</td>\n",
              "      <td>0</td>\n",
              "      <td>hey man I be really not try to edit war it be ...</td>\n",
              "    </tr>\n",
              "    <tr>\n",
              "      <th>3</th>\n",
              "      <td>\"\\nMore\\nI can't make any real suggestions on ...</td>\n",
              "      <td>0</td>\n",
              "      <td>more I can not make any real suggestion on imp...</td>\n",
              "    </tr>\n",
              "    <tr>\n",
              "      <th>4</th>\n",
              "      <td>You, sir, are my hero. Any chance you remember...</td>\n",
              "      <td>0</td>\n",
              "      <td>you sir be my hero any chance you remember wha...</td>\n",
              "    </tr>\n",
              "  </tbody>\n",
              "</table>\n",
              "</div>\n",
              "      <button class=\"colab-df-convert\" onclick=\"convertToInteractive('df-1a1f8b4a-f6d3-4970-908e-d51829c28eba')\"\n",
              "              title=\"Convert this dataframe to an interactive table.\"\n",
              "              style=\"display:none;\">\n",
              "        \n",
              "  <svg xmlns=\"http://www.w3.org/2000/svg\" height=\"24px\"viewBox=\"0 0 24 24\"\n",
              "       width=\"24px\">\n",
              "    <path d=\"M0 0h24v24H0V0z\" fill=\"none\"/>\n",
              "    <path d=\"M18.56 5.44l.94 2.06.94-2.06 2.06-.94-2.06-.94-.94-2.06-.94 2.06-2.06.94zm-11 1L8.5 8.5l.94-2.06 2.06-.94-2.06-.94L8.5 2.5l-.94 2.06-2.06.94zm10 10l.94 2.06.94-2.06 2.06-.94-2.06-.94-.94-2.06-.94 2.06-2.06.94z\"/><path d=\"M17.41 7.96l-1.37-1.37c-.4-.4-.92-.59-1.43-.59-.52 0-1.04.2-1.43.59L10.3 9.45l-7.72 7.72c-.78.78-.78 2.05 0 2.83L4 21.41c.39.39.9.59 1.41.59.51 0 1.02-.2 1.41-.59l7.78-7.78 2.81-2.81c.8-.78.8-2.07 0-2.86zM5.41 20L4 18.59l7.72-7.72 1.47 1.35L5.41 20z\"/>\n",
              "  </svg>\n",
              "      </button>\n",
              "      \n",
              "  <style>\n",
              "    .colab-df-container {\n",
              "      display:flex;\n",
              "      flex-wrap:wrap;\n",
              "      gap: 12px;\n",
              "    }\n",
              "\n",
              "    .colab-df-convert {\n",
              "      background-color: #E8F0FE;\n",
              "      border: none;\n",
              "      border-radius: 50%;\n",
              "      cursor: pointer;\n",
              "      display: none;\n",
              "      fill: #1967D2;\n",
              "      height: 32px;\n",
              "      padding: 0 0 0 0;\n",
              "      width: 32px;\n",
              "    }\n",
              "\n",
              "    .colab-df-convert:hover {\n",
              "      background-color: #E2EBFA;\n",
              "      box-shadow: 0px 1px 2px rgba(60, 64, 67, 0.3), 0px 1px 3px 1px rgba(60, 64, 67, 0.15);\n",
              "      fill: #174EA6;\n",
              "    }\n",
              "\n",
              "    [theme=dark] .colab-df-convert {\n",
              "      background-color: #3B4455;\n",
              "      fill: #D2E3FC;\n",
              "    }\n",
              "\n",
              "    [theme=dark] .colab-df-convert:hover {\n",
              "      background-color: #434B5C;\n",
              "      box-shadow: 0px 1px 3px 1px rgba(0, 0, 0, 0.15);\n",
              "      filter: drop-shadow(0px 1px 2px rgba(0, 0, 0, 0.3));\n",
              "      fill: #FFFFFF;\n",
              "    }\n",
              "  </style>\n",
              "\n",
              "      <script>\n",
              "        const buttonEl =\n",
              "          document.querySelector('#df-1a1f8b4a-f6d3-4970-908e-d51829c28eba button.colab-df-convert');\n",
              "        buttonEl.style.display =\n",
              "          google.colab.kernel.accessAllowed ? 'block' : 'none';\n",
              "\n",
              "        async function convertToInteractive(key) {\n",
              "          const element = document.querySelector('#df-1a1f8b4a-f6d3-4970-908e-d51829c28eba');\n",
              "          const dataTable =\n",
              "            await google.colab.kernel.invokeFunction('convertToInteractive',\n",
              "                                                     [key], {});\n",
              "          if (!dataTable) return;\n",
              "\n",
              "          const docLinkHtml = 'Like what you see? Visit the ' +\n",
              "            '<a target=\"_blank\" href=https://colab.research.google.com/notebooks/data_table.ipynb>data table notebook</a>'\n",
              "            + ' to learn more about interactive tables.';\n",
              "          element.innerHTML = '';\n",
              "          dataTable['output_type'] = 'display_data';\n",
              "          await google.colab.output.renderOutput(dataTable, element);\n",
              "          const docLink = document.createElement('div');\n",
              "          docLink.innerHTML = docLinkHtml;\n",
              "          element.appendChild(docLink);\n",
              "        }\n",
              "      </script>\n",
              "    </div>\n",
              "  </div>\n",
              "  "
            ]
          },
          "metadata": {},
          "execution_count": 10
        }
      ]
    },
    {
      "cell_type": "markdown",
      "metadata": {
        "id": "GVsImrhfimke"
      },
      "source": [
        "### Создание признаков"
      ]
    },
    {
      "cell_type": "code",
      "execution_count": null,
      "metadata": {
        "id": "XuO2r8Twimke"
      },
      "outputs": [],
      "source": [
        "train, test = train_test_split(data, test_size=0.5, random_state=42)\n",
        "\n",
        "corpus_train = train['lemm_text'].values\n",
        "corpus_test = test['lemm_text'].values\n",
        "\n",
        "y_train = train['toxic']\n",
        "y_test = test['toxic']"
      ]
    },
    {
      "cell_type": "markdown",
      "metadata": {
        "id": "1Wa8gFkvimkg"
      },
      "source": [
        "### Расчет TF-IDF"
      ]
    },
    {
      "cell_type": "code",
      "execution_count": null,
      "metadata": {
        "id": "FjEIKV9_imkg",
        "outputId": "0c2ab3de-4b89-40a5-c2d9-f003f5929186",
        "colab": {
          "base_uri": "https://localhost:8080/"
        }
      },
      "outputs": [
        {
          "output_type": "stream",
          "name": "stderr",
          "text": [
            "[nltk_data] Downloading package stopwords to /root/nltk_data...\n",
            "[nltk_data]   Package stopwords is already up-to-date!\n"
          ]
        }
      ],
      "source": [
        "nltk.download('stopwords')\n",
        "\n",
        "stopwords = set(nltk_stopwords.words('english'))"
      ]
    },
    {
      "cell_type": "code",
      "execution_count": null,
      "metadata": {
        "id": "xOzO03iyimkh"
      },
      "outputs": [],
      "source": [
        "tf_idf = TfidfVectorizer(stop_words=stopwords)\n",
        "\n",
        "tf_idf_train = tf_idf.fit_transform(corpus_train)\n",
        "\n",
        "tf_idf_test = tf_idf.transform(corpus_test)"
      ]
    },
    {
      "cell_type": "markdown",
      "metadata": {
        "id": "lQzIUco3imki"
      },
      "source": [
        "## Обучение"
      ]
    },
    {
      "cell_type": "markdown",
      "metadata": {
        "id": "9a-wxdxhimki"
      },
      "source": [
        "### Вспомогательная функция"
      ]
    },
    {
      "cell_type": "code",
      "execution_count": null,
      "metadata": {
        "id": "62dl2o4mimki"
      },
      "outputs": [],
      "source": [
        "# функция расчета метрики f1 на кросс-валидации и тестовой выборке\n",
        "\n",
        "def train_test_f1(model):\n",
        "    pipe = Pipeline([('estimator', model)])\n",
        "    \n",
        "    score_cv = cross_val_score(pipe, tf_idf_train, y_train, scoring='f1', cv=3, n_jobs=-1).mean()\n",
        "    pipe.fit(tf_idf_train, y_train)\n",
        "    score_test = f1_score(y_test, pipe.predict(tf_idf_test))\n",
        "    \n",
        "    print(f'Метрика F1 на кросс-валидации: {score_cv:.2f}')\n",
        "    print(f'Метрика F1 на тесте: {score_test:.2f}')"
      ]
    },
    {
      "cell_type": "markdown",
      "metadata": {
        "id": "kdRN9rz7imkk"
      },
      "source": [
        "### LogisticRegression"
      ]
    },
    {
      "cell_type": "code",
      "execution_count": null,
      "metadata": {
        "id": "DomYJZLuimkk"
      },
      "outputs": [],
      "source": [
        "LR = LogisticRegression(max_iter=1000, class_weight='balanced')"
      ]
    },
    {
      "cell_type": "code",
      "execution_count": null,
      "metadata": {
        "id": "XXvKqfipimkk",
        "outputId": "c2cd83f2-685a-41ad-d554-062b83f3635f",
        "colab": {
          "base_uri": "https://localhost:8080/"
        }
      },
      "outputs": [
        {
          "output_type": "stream",
          "name": "stdout",
          "text": [
            "Метрика F1 на кросс-валидации: 0.75\n",
            "Метрика F1 на тесте: 0.74\n",
            "CPU times: user 6.04 s, sys: 6.38 s, total: 12.4 s\n",
            "Wall time: 12.8 s\n"
          ]
        }
      ],
      "source": [
        "%%time\n",
        "\n",
        "train_test_f1(LR)"
      ]
    },
    {
      "cell_type": "markdown",
      "metadata": {
        "id": "3rSf_Pmpimkl"
      },
      "source": [
        "### CatBoostClassifier"
      ]
    },
    {
      "cell_type": "code",
      "execution_count": null,
      "metadata": {
        "id": "3uAvtoTlimkl"
      },
      "outputs": [],
      "source": [
        "CBC = CatBoostClassifier(verbose=False, \n",
        "                         random_state=42, \n",
        "                         early_stopping_rounds=200,\n",
        "                         auto_class_weights='Balanced')"
      ]
    },
    {
      "cell_type": "code",
      "execution_count": null,
      "metadata": {
        "id": "TLGvNlazimkl",
        "outputId": "776ea394-1874-4622-aa33-0c1e081005e6",
        "colab": {
          "base_uri": "https://localhost:8080/"
        }
      },
      "outputs": [
        {
          "output_type": "stream",
          "name": "stdout",
          "text": [
            "Метрика F1 на кросс-валидации: 0.75\n",
            "Метрика F1 на тесте: 0.76\n",
            "CPU times: user 46min 50s, sys: 12min 13s, total: 59min 3s\n",
            "Wall time: 1h 26min 52s\n"
          ]
        }
      ],
      "source": [
        "%%time\n",
        "\n",
        "train_test_f1(CBC)"
      ]
    },
    {
      "cell_type": "markdown",
      "metadata": {
        "id": "Ahn0i3E7imkl"
      },
      "source": [
        "### DummyClassifier"
      ]
    },
    {
      "cell_type": "code",
      "execution_count": null,
      "metadata": {
        "id": "8gOSUQxwimkl"
      },
      "outputs": [],
      "source": [
        "dummy = DummyClassifier(strategy='prior')"
      ]
    },
    {
      "cell_type": "code",
      "execution_count": null,
      "metadata": {
        "id": "RjNi02Rfimkm",
        "outputId": "dcdc1b9c-b02c-4593-cbde-9f4c934d42d7",
        "colab": {
          "base_uri": "https://localhost:8080/"
        }
      },
      "outputs": [
        {
          "output_type": "stream",
          "name": "stdout",
          "text": [
            "Метрика F1 на кросс-валидации: 0.00\n",
            "Метрика F1 на тесте: 0.00\n",
            "CPU times: user 170 ms, sys: 199 ms, total: 368 ms\n",
            "Wall time: 1.9 s\n"
          ]
        }
      ],
      "source": [
        "%%time\n",
        "\n",
        "train_test_f1(dummy)"
      ]
    },
    {
      "cell_type": "markdown",
      "metadata": {
        "id": "OhkSBEe7imkm"
      },
      "source": [
        "## Выводы"
      ]
    },
    {
      "cell_type": "markdown",
      "metadata": {
        "id": "1JbgGo1_imkn"
      },
      "source": [
        "Значения метрики `F1` на кросс-валидации и тестовой выборке приведены в сводной таблице."
      ]
    },
    {
      "cell_type": "markdown",
      "metadata": {
        "id": "fdcqpXt9imkn"
      },
      "source": [
        "|Модель                |Размер выборки|F1 на кросс-валидации|F1 на тесте|Время CV, обучения и теста|\n",
        "|:---------------------|:------------:|:-------------------:|:---------:|:------------------------:|\n",
        "|LogisticRegression    |38 852        |0.75                 |0.74       |12.8 с                 |\n",
        "|CatBoostClassifier    |38 852        |0.75                 |0.76       |87 мин                |\n",
        "|DummyClassifier       |38 852        |0.00                 |0.00       |1.9 с                   |"
      ]
    },
    {
      "cell_type": "markdown",
      "metadata": {
        "id": "yKXWH4-timkn"
      },
      "source": [
        "Лучше значение метрики `F1` на тесте равно 0.76 для модели CatBoostClassifier. Для модели LogisticRegression значение метрики `F1` несколько ниже (0.74), однако скорость расчета намного лучше (13 секунд против 87 минут)."
      ]
    }
  ],
  "metadata": {
    "ExecuteTimeLog": [
      {
        "duration": 391,
        "start_time": "2022-06-28T13:04:51.659Z"
      },
      {
        "duration": 3295,
        "start_time": "2022-06-28T13:07:43.079Z"
      },
      {
        "duration": 14,
        "start_time": "2022-06-28T13:07:53.681Z"
      },
      {
        "duration": 32,
        "start_time": "2022-06-28T13:08:07.764Z"
      },
      {
        "duration": 75426,
        "start_time": "2022-06-28T13:12:35.745Z"
      },
      {
        "duration": 3,
        "start_time": "2022-06-28T13:13:53.919Z"
      },
      {
        "duration": 385,
        "start_time": "2022-06-28T13:14:24.690Z"
      },
      {
        "duration": 447,
        "start_time": "2022-06-28T13:14:52.875Z"
      },
      {
        "duration": 178651,
        "start_time": "2022-06-28T13:15:07.662Z"
      },
      {
        "duration": 158,
        "start_time": "2022-06-28T13:18:08.251Z"
      },
      {
        "duration": 233869,
        "start_time": "2022-06-28T13:18:09.629Z"
      },
      {
        "duration": 8,
        "start_time": "2022-06-28T13:22:40.679Z"
      },
      {
        "duration": 67,
        "start_time": "2022-06-28T13:23:30.289Z"
      },
      {
        "duration": 4,
        "start_time": "2022-06-28T13:23:37.266Z"
      },
      {
        "duration": 89,
        "start_time": "2022-06-28T13:24:49.930Z"
      },
      {
        "duration": 4,
        "start_time": "2022-06-28T13:24:56.305Z"
      },
      {
        "duration": 147,
        "start_time": "2022-06-28T13:25:04.446Z"
      },
      {
        "duration": 90,
        "start_time": "2022-06-28T13:25:23.073Z"
      },
      {
        "duration": 42,
        "start_time": "2022-06-28T13:26:47.877Z"
      },
      {
        "duration": 77893,
        "start_time": "2022-06-28T13:28:22.809Z"
      },
      {
        "duration": 290,
        "start_time": "2022-06-28T13:29:40.705Z"
      },
      {
        "duration": 0,
        "start_time": "2022-06-28T13:29:40.997Z"
      },
      {
        "duration": 0,
        "start_time": "2022-06-28T13:29:40.998Z"
      },
      {
        "duration": 0,
        "start_time": "2022-06-28T13:29:40.999Z"
      },
      {
        "duration": 0,
        "start_time": "2022-06-28T13:29:41.000Z"
      },
      {
        "duration": 0,
        "start_time": "2022-06-28T13:29:41.000Z"
      },
      {
        "duration": 0,
        "start_time": "2022-06-28T13:29:41.002Z"
      },
      {
        "duration": 4,
        "start_time": "2022-06-28T13:30:02.341Z"
      },
      {
        "duration": 2956,
        "start_time": "2022-06-28T13:30:03.511Z"
      },
      {
        "duration": 17,
        "start_time": "2022-06-28T13:30:06.469Z"
      },
      {
        "duration": 31,
        "start_time": "2022-06-28T13:30:06.488Z"
      },
      {
        "duration": 404,
        "start_time": "2022-06-28T13:30:06.522Z"
      },
      {
        "duration": 230477,
        "start_time": "2022-06-28T13:30:06.928Z"
      },
      {
        "duration": 77,
        "start_time": "2022-06-28T13:33:57.408Z"
      },
      {
        "duration": 96788,
        "start_time": "2022-06-28T15:24:11.214Z"
      },
      {
        "duration": 3212,
        "start_time": "2022-06-28T15:25:48.003Z"
      },
      {
        "duration": 14,
        "start_time": "2022-06-28T15:25:51.216Z"
      },
      {
        "duration": 36,
        "start_time": "2022-06-28T15:25:51.232Z"
      },
      {
        "duration": 367,
        "start_time": "2022-06-28T15:25:51.269Z"
      },
      {
        "duration": 229986,
        "start_time": "2022-06-28T15:25:51.637Z"
      },
      {
        "duration": 72,
        "start_time": "2022-06-28T15:29:41.625Z"
      },
      {
        "duration": 104245,
        "start_time": "2022-06-28T16:39:09.661Z"
      },
      {
        "duration": 2935,
        "start_time": "2022-06-28T16:40:53.908Z"
      },
      {
        "duration": 215,
        "start_time": "2022-06-28T16:40:56.847Z"
      },
      {
        "duration": 31,
        "start_time": "2022-06-28T16:40:57.064Z"
      },
      {
        "duration": 11,
        "start_time": "2022-06-28T16:40:57.097Z"
      },
      {
        "duration": 17,
        "start_time": "2022-06-28T16:41:36.906Z"
      },
      {
        "duration": 6,
        "start_time": "2022-06-28T16:42:07.110Z"
      },
      {
        "duration": 5,
        "start_time": "2022-06-28T16:42:28.166Z"
      },
      {
        "duration": 363,
        "start_time": "2022-06-28T16:42:46.054Z"
      },
      {
        "duration": 68936,
        "start_time": "2022-06-28T16:42:49.176Z"
      },
      {
        "duration": 30,
        "start_time": "2022-06-28T16:44:24.097Z"
      },
      {
        "duration": 15,
        "start_time": "2022-06-28T16:44:36.238Z"
      },
      {
        "duration": 10,
        "start_time": "2022-06-28T16:45:03.548Z"
      },
      {
        "duration": 8,
        "start_time": "2022-06-28T16:45:22.884Z"
      },
      {
        "duration": 10,
        "start_time": "2022-06-28T16:45:25.392Z"
      },
      {
        "duration": 36,
        "start_time": "2022-06-28T16:45:37.088Z"
      },
      {
        "duration": 4,
        "start_time": "2022-06-28T16:45:37.889Z"
      },
      {
        "duration": 16873,
        "start_time": "2022-06-28T16:45:39.320Z"
      },
      {
        "duration": 2301,
        "start_time": "2022-06-28T16:46:18.350Z"
      },
      {
        "duration": 4,
        "start_time": "2022-06-28T16:46:31.545Z"
      },
      {
        "duration": 82470,
        "start_time": "2022-06-28T16:48:43.490Z"
      },
      {
        "duration": 3341,
        "start_time": "2022-06-28T16:50:05.962Z"
      },
      {
        "duration": 15,
        "start_time": "2022-06-28T16:50:09.305Z"
      },
      {
        "duration": 44,
        "start_time": "2022-06-28T16:50:09.321Z"
      },
      {
        "duration": 8,
        "start_time": "2022-06-28T16:50:09.368Z"
      },
      {
        "duration": 6,
        "start_time": "2022-06-28T16:50:09.378Z"
      },
      {
        "duration": 5,
        "start_time": "2022-06-28T16:50:09.386Z"
      },
      {
        "duration": 414,
        "start_time": "2022-06-28T16:50:09.392Z"
      },
      {
        "duration": 6580,
        "start_time": "2022-06-28T16:50:09.808Z"
      },
      {
        "duration": 5,
        "start_time": "2022-06-28T16:50:16.390Z"
      },
      {
        "duration": 12,
        "start_time": "2022-06-28T16:50:16.397Z"
      },
      {
        "duration": 1125,
        "start_time": "2022-06-28T16:50:16.411Z"
      },
      {
        "duration": 54,
        "start_time": "2022-06-28T16:50:17.537Z"
      },
      {
        "duration": 4,
        "start_time": "2022-06-28T16:50:17.594Z"
      },
      {
        "duration": 25151,
        "start_time": "2022-06-28T16:50:17.600Z"
      },
      {
        "duration": 73424,
        "start_time": "2022-06-29T03:53:21.304Z"
      },
      {
        "duration": 3135,
        "start_time": "2022-06-29T03:54:34.730Z"
      },
      {
        "duration": 13,
        "start_time": "2022-06-29T03:54:37.867Z"
      },
      {
        "duration": 32,
        "start_time": "2022-06-29T03:54:37.882Z"
      },
      {
        "duration": 6,
        "start_time": "2022-06-29T03:54:37.916Z"
      },
      {
        "duration": 7,
        "start_time": "2022-06-29T03:54:37.923Z"
      },
      {
        "duration": 5,
        "start_time": "2022-06-29T03:54:37.931Z"
      },
      {
        "duration": 351,
        "start_time": "2022-06-29T03:54:37.937Z"
      },
      {
        "duration": 1214,
        "start_time": "2022-06-29T03:54:38.290Z"
      },
      {
        "duration": 4,
        "start_time": "2022-06-29T03:54:39.506Z"
      },
      {
        "duration": 157,
        "start_time": "2022-06-29T03:54:39.512Z"
      },
      {
        "duration": 11,
        "start_time": "2022-06-29T03:54:39.670Z"
      },
      {
        "duration": 4,
        "start_time": "2022-06-29T03:54:39.682Z"
      },
      {
        "duration": 28242,
        "start_time": "2022-06-29T03:54:39.687Z"
      },
      {
        "duration": 315,
        "start_time": "2022-06-29T04:08:55.627Z"
      },
      {
        "duration": 42,
        "start_time": "2022-06-29T04:09:30.289Z"
      },
      {
        "duration": 41,
        "start_time": "2022-06-29T04:10:27.931Z"
      },
      {
        "duration": 44,
        "start_time": "2022-06-29T04:14:00.520Z"
      },
      {
        "duration": 44,
        "start_time": "2022-06-29T04:14:06.788Z"
      },
      {
        "duration": 41,
        "start_time": "2022-06-29T04:18:47.354Z"
      },
      {
        "duration": 97,
        "start_time": "2022-06-29T04:19:00.346Z"
      },
      {
        "duration": 45,
        "start_time": "2022-06-29T04:19:19.971Z"
      },
      {
        "duration": 47,
        "start_time": "2022-06-29T04:19:34.755Z"
      },
      {
        "duration": 65,
        "start_time": "2022-06-29T04:27:06.549Z"
      },
      {
        "duration": 60,
        "start_time": "2022-06-29T04:27:16.106Z"
      },
      {
        "duration": 67143,
        "start_time": "2022-06-29T12:02:29.608Z"
      },
      {
        "duration": 2609,
        "start_time": "2022-06-29T12:03:36.754Z"
      },
      {
        "duration": 17,
        "start_time": "2022-06-29T12:03:39.364Z"
      },
      {
        "duration": 62,
        "start_time": "2022-06-29T12:03:39.384Z"
      },
      {
        "duration": 12,
        "start_time": "2022-06-29T12:03:39.448Z"
      },
      {
        "duration": 6,
        "start_time": "2022-06-29T12:03:39.463Z"
      },
      {
        "duration": 8,
        "start_time": "2022-06-29T12:03:39.471Z"
      },
      {
        "duration": 414,
        "start_time": "2022-06-29T12:04:28.920Z"
      },
      {
        "duration": 10,
        "start_time": "2022-06-29T12:04:46.542Z"
      },
      {
        "duration": 7,
        "start_time": "2022-06-29T12:04:57.093Z"
      },
      {
        "duration": 110,
        "start_time": "2022-06-29T12:05:03.381Z"
      },
      {
        "duration": 5,
        "start_time": "2022-06-29T12:05:45.353Z"
      },
      {
        "duration": 70,
        "start_time": "2022-06-29T12:06:22.791Z"
      },
      {
        "duration": 4056,
        "start_time": "2022-06-29T12:06:51.537Z"
      },
      {
        "duration": 13482,
        "start_time": "2022-06-29T12:07:36.287Z"
      },
      {
        "duration": 1485,
        "start_time": "2022-06-29T12:08:33.845Z"
      },
      {
        "duration": 7,
        "start_time": "2022-06-29T12:10:56.841Z"
      },
      {
        "duration": 6,
        "start_time": "2022-06-29T12:11:37.017Z"
      },
      {
        "duration": 6722,
        "start_time": "2022-06-29T12:12:02.978Z"
      },
      {
        "duration": 5,
        "start_time": "2022-06-29T12:12:11.517Z"
      },
      {
        "duration": 1604,
        "start_time": "2022-06-29T12:12:24.309Z"
      },
      {
        "duration": 7,
        "start_time": "2022-06-29T12:12:27.891Z"
      },
      {
        "duration": 4,
        "start_time": "2022-06-29T12:12:49.545Z"
      },
      {
        "duration": 4,
        "start_time": "2022-06-29T12:13:06.498Z"
      },
      {
        "duration": 19,
        "start_time": "2022-06-29T12:13:39.702Z"
      },
      {
        "duration": 6853,
        "start_time": "2022-06-29T12:14:02.061Z"
      },
      {
        "duration": 8,
        "start_time": "2022-06-29T12:14:17.623Z"
      },
      {
        "duration": 6,
        "start_time": "2022-06-29T12:14:27.256Z"
      },
      {
        "duration": 11,
        "start_time": "2022-06-29T12:15:49.614Z"
      },
      {
        "duration": 12970,
        "start_time": "2022-06-29T12:15:50.585Z"
      },
      {
        "duration": 5,
        "start_time": "2022-06-29T12:16:15.685Z"
      },
      {
        "duration": 1584,
        "start_time": "2022-06-29T12:16:23.677Z"
      },
      {
        "duration": 4,
        "start_time": "2022-06-29T12:17:22.290Z"
      },
      {
        "duration": 6784,
        "start_time": "2022-06-29T12:17:23.224Z"
      },
      {
        "duration": 6699,
        "start_time": "2022-06-29T12:17:59.350Z"
      },
      {
        "duration": 4,
        "start_time": "2022-06-29T12:18:08.189Z"
      },
      {
        "duration": 1484,
        "start_time": "2022-06-29T12:22:59.739Z"
      },
      {
        "duration": 1532,
        "start_time": "2022-06-29T12:23:40.265Z"
      },
      {
        "duration": 5,
        "start_time": "2022-06-29T12:29:39.111Z"
      },
      {
        "duration": 8,
        "start_time": "2022-06-29T12:29:57.746Z"
      },
      {
        "duration": 10,
        "start_time": "2022-06-29T12:30:07.129Z"
      },
      {
        "duration": 4,
        "start_time": "2022-06-29T12:30:17.680Z"
      },
      {
        "duration": 4,
        "start_time": "2022-06-29T12:38:09.373Z"
      },
      {
        "duration": 17429,
        "start_time": "2022-06-29T12:38:10.301Z"
      },
      {
        "duration": 5,
        "start_time": "2022-06-29T12:38:30.310Z"
      },
      {
        "duration": 6,
        "start_time": "2022-06-29T12:38:33.844Z"
      },
      {
        "duration": 1121,
        "start_time": "2022-06-29T12:38:37.448Z"
      },
      {
        "duration": 4,
        "start_time": "2022-06-29T12:39:02.644Z"
      },
      {
        "duration": 6549,
        "start_time": "2022-06-29T12:39:03.448Z"
      },
      {
        "duration": 4,
        "start_time": "2022-06-29T12:39:51.351Z"
      },
      {
        "duration": 7174,
        "start_time": "2022-06-29T12:40:14.313Z"
      },
      {
        "duration": 4,
        "start_time": "2022-06-29T12:40:23.664Z"
      },
      {
        "duration": 4,
        "start_time": "2022-06-29T12:42:13.875Z"
      },
      {
        "duration": 25,
        "start_time": "2022-06-29T12:42:35.784Z"
      },
      {
        "duration": 51,
        "start_time": "2022-06-29T12:42:44.880Z"
      },
      {
        "duration": 3,
        "start_time": "2022-06-29T12:42:49.589Z"
      },
      {
        "duration": 5228,
        "start_time": "2022-06-29T12:42:56.726Z"
      },
      {
        "duration": 7,
        "start_time": "2022-06-29T12:43:07.618Z"
      },
      {
        "duration": 3,
        "start_time": "2022-06-29T12:43:54.672Z"
      },
      {
        "duration": 6586,
        "start_time": "2022-06-29T12:43:55.497Z"
      },
      {
        "duration": 4,
        "start_time": "2022-06-29T12:44:02.086Z"
      },
      {
        "duration": 1331,
        "start_time": "2022-06-29T12:44:16.296Z"
      },
      {
        "duration": 4,
        "start_time": "2022-06-29T12:49:16.482Z"
      },
      {
        "duration": 3,
        "start_time": "2022-06-29T12:49:31.537Z"
      },
      {
        "duration": 74464,
        "start_time": "2022-06-29T12:50:17.946Z"
      },
      {
        "duration": 2408,
        "start_time": "2022-06-29T12:51:32.413Z"
      },
      {
        "duration": 19,
        "start_time": "2022-06-29T12:51:34.823Z"
      },
      {
        "duration": 42,
        "start_time": "2022-06-29T12:51:34.845Z"
      },
      {
        "duration": 11,
        "start_time": "2022-06-29T12:51:34.890Z"
      },
      {
        "duration": 29,
        "start_time": "2022-06-29T12:51:34.903Z"
      },
      {
        "duration": 8,
        "start_time": "2022-06-29T12:51:34.935Z"
      },
      {
        "duration": 414,
        "start_time": "2022-06-29T12:51:34.945Z"
      },
      {
        "duration": 14521,
        "start_time": "2022-06-29T12:51:35.361Z"
      },
      {
        "duration": 1416,
        "start_time": "2022-06-29T12:53:50.373Z"
      },
      {
        "duration": 14,
        "start_time": "2022-06-29T13:04:10.845Z"
      },
      {
        "duration": 839,
        "start_time": "2022-06-29T13:05:06.699Z"
      },
      {
        "duration": 10,
        "start_time": "2022-06-29T13:05:10.842Z"
      },
      {
        "duration": 40,
        "start_time": "2022-06-29T13:05:15.556Z"
      },
      {
        "duration": 13,
        "start_time": "2022-06-29T13:05:28.740Z"
      },
      {
        "duration": 8,
        "start_time": "2022-06-29T13:05:29.468Z"
      },
      {
        "duration": 9,
        "start_time": "2022-06-29T13:05:30.104Z"
      },
      {
        "duration": 6,
        "start_time": "2022-06-29T13:05:43.172Z"
      },
      {
        "duration": 5,
        "start_time": "2022-06-29T13:05:53.893Z"
      },
      {
        "duration": 1378,
        "start_time": "2022-06-29T13:06:38.380Z"
      },
      {
        "duration": 2578,
        "start_time": "2022-06-29T13:06:39.765Z"
      },
      {
        "duration": 15,
        "start_time": "2022-06-29T13:06:42.345Z"
      },
      {
        "duration": 65,
        "start_time": "2022-06-29T13:06:42.362Z"
      },
      {
        "duration": 118,
        "start_time": "2022-06-29T13:06:42.429Z"
      },
      {
        "duration": 0,
        "start_time": "2022-06-29T13:06:42.549Z"
      },
      {
        "duration": 0,
        "start_time": "2022-06-29T13:06:42.550Z"
      },
      {
        "duration": 11,
        "start_time": "2022-06-29T13:06:52.818Z"
      },
      {
        "duration": 13,
        "start_time": "2022-06-29T13:06:53.601Z"
      },
      {
        "duration": 8,
        "start_time": "2022-06-29T13:06:54.488Z"
      },
      {
        "duration": 2117,
        "start_time": "2022-06-29T13:06:56.856Z"
      },
      {
        "duration": 98,
        "start_time": "2022-06-29T13:10:02.219Z"
      },
      {
        "duration": 88,
        "start_time": "2022-06-29T13:12:41.139Z"
      },
      {
        "duration": 74,
        "start_time": "2022-06-29T13:13:01.568Z"
      },
      {
        "duration": 3,
        "start_time": "2022-06-29T13:13:44.159Z"
      },
      {
        "duration": 3,
        "start_time": "2022-06-29T13:13:56.989Z"
      },
      {
        "duration": 5,
        "start_time": "2022-06-29T13:17:01.075Z"
      },
      {
        "duration": 69084,
        "start_time": "2022-06-29T13:19:58.986Z"
      },
      {
        "duration": 8,
        "start_time": "2022-06-29T13:21:18.086Z"
      },
      {
        "duration": 5,
        "start_time": "2022-06-29T13:21:23.320Z"
      },
      {
        "duration": 15,
        "start_time": "2022-06-29T13:21:33.982Z"
      },
      {
        "duration": 2673,
        "start_time": "2022-06-29T13:22:00.438Z"
      },
      {
        "duration": 16,
        "start_time": "2022-06-29T13:22:16.161Z"
      },
      {
        "duration": 6,
        "start_time": "2022-06-29T13:23:02.320Z"
      },
      {
        "duration": 3,
        "start_time": "2022-06-29T13:23:23.413Z"
      },
      {
        "duration": 12,
        "start_time": "2022-06-29T13:23:23.418Z"
      },
      {
        "duration": 6,
        "start_time": "2022-06-29T13:23:50.719Z"
      },
      {
        "duration": 51,
        "start_time": "2022-06-29T13:24:03.350Z"
      },
      {
        "duration": 53,
        "start_time": "2022-06-29T13:24:17.445Z"
      },
      {
        "duration": 25,
        "start_time": "2022-06-29T13:25:03.542Z"
      },
      {
        "duration": 5,
        "start_time": "2022-06-29T13:25:08.843Z"
      },
      {
        "duration": 5,
        "start_time": "2022-06-29T13:25:13.478Z"
      },
      {
        "duration": 3,
        "start_time": "2022-06-29T13:25:21.792Z"
      },
      {
        "duration": 4,
        "start_time": "2022-06-29T13:25:22.269Z"
      },
      {
        "duration": 39,
        "start_time": "2022-06-29T13:25:23.014Z"
      },
      {
        "duration": 5,
        "start_time": "2022-06-29T13:25:23.819Z"
      },
      {
        "duration": 6,
        "start_time": "2022-06-29T13:26:05.753Z"
      },
      {
        "duration": 5,
        "start_time": "2022-06-29T13:26:25.822Z"
      },
      {
        "duration": 5,
        "start_time": "2022-06-29T13:27:03.381Z"
      },
      {
        "duration": 31,
        "start_time": "2022-06-29T13:27:09.549Z"
      },
      {
        "duration": 6,
        "start_time": "2022-06-29T13:27:27.084Z"
      },
      {
        "duration": 16,
        "start_time": "2022-06-29T13:27:37.545Z"
      },
      {
        "duration": 60,
        "start_time": "2022-06-29T13:27:43.925Z"
      },
      {
        "duration": 64,
        "start_time": "2022-06-29T13:27:54.581Z"
      },
      {
        "duration": 5,
        "start_time": "2022-06-29T13:28:03.721Z"
      },
      {
        "duration": 6,
        "start_time": "2022-06-29T13:28:11.150Z"
      },
      {
        "duration": 4,
        "start_time": "2022-06-29T13:29:39.100Z"
      },
      {
        "duration": 916,
        "start_time": "2022-06-29T13:29:47.597Z"
      },
      {
        "duration": 6,
        "start_time": "2022-06-29T13:30:18.243Z"
      },
      {
        "duration": 5,
        "start_time": "2022-06-29T13:30:50.280Z"
      },
      {
        "duration": 5,
        "start_time": "2022-06-29T13:30:57.995Z"
      },
      {
        "duration": 4,
        "start_time": "2022-06-29T13:31:03.589Z"
      },
      {
        "duration": 471,
        "start_time": "2022-06-29T13:34:56.501Z"
      },
      {
        "duration": 79375,
        "start_time": "2022-06-29T13:35:02.824Z"
      },
      {
        "duration": 507,
        "start_time": "2022-06-29T13:36:31.774Z"
      },
      {
        "duration": 77828,
        "start_time": "2022-06-29T13:37:11.747Z"
      },
      {
        "duration": 2469,
        "start_time": "2022-06-29T13:38:29.578Z"
      },
      {
        "duration": 9,
        "start_time": "2022-06-29T13:38:32.049Z"
      },
      {
        "duration": 461,
        "start_time": "2022-06-29T13:38:32.060Z"
      },
      {
        "duration": 13945,
        "start_time": "2022-06-29T13:38:32.524Z"
      },
      {
        "duration": 9,
        "start_time": "2022-06-29T13:44:01.749Z"
      },
      {
        "duration": 1523,
        "start_time": "2022-06-29T13:44:44.040Z"
      },
      {
        "duration": 6,
        "start_time": "2022-06-29T13:46:18.915Z"
      },
      {
        "duration": 57,
        "start_time": "2022-06-29T13:46:35.916Z"
      },
      {
        "duration": 55,
        "start_time": "2022-06-29T13:47:10.398Z"
      },
      {
        "duration": 7,
        "start_time": "2022-06-29T13:47:13.955Z"
      },
      {
        "duration": 1449,
        "start_time": "2022-06-29T13:50:33.301Z"
      },
      {
        "duration": 66652,
        "start_time": "2022-06-29T13:50:34.753Z"
      },
      {
        "duration": 2378,
        "start_time": "2022-06-29T13:51:41.407Z"
      },
      {
        "duration": 4,
        "start_time": "2022-06-29T13:51:43.787Z"
      },
      {
        "duration": 12,
        "start_time": "2022-06-29T13:51:43.794Z"
      },
      {
        "duration": 25,
        "start_time": "2022-06-29T13:51:43.808Z"
      },
      {
        "duration": 5,
        "start_time": "2022-06-29T13:51:43.835Z"
      },
      {
        "duration": 6,
        "start_time": "2022-06-29T13:51:43.842Z"
      },
      {
        "duration": 5,
        "start_time": "2022-06-29T13:51:43.850Z"
      },
      {
        "duration": 8,
        "start_time": "2022-06-29T13:51:43.857Z"
      },
      {
        "duration": 7,
        "start_time": "2022-06-29T13:51:43.867Z"
      },
      {
        "duration": 21,
        "start_time": "2022-06-29T13:51:43.876Z"
      },
      {
        "duration": 13,
        "start_time": "2022-06-29T13:51:43.898Z"
      },
      {
        "duration": 9,
        "start_time": "2022-06-29T13:51:43.913Z"
      },
      {
        "duration": 30,
        "start_time": "2022-06-29T13:51:43.923Z"
      },
      {
        "duration": 14,
        "start_time": "2022-06-29T13:51:43.956Z"
      },
      {
        "duration": 9,
        "start_time": "2022-06-29T13:51:43.972Z"
      },
      {
        "duration": 483,
        "start_time": "2022-06-29T13:51:43.983Z"
      },
      {
        "duration": 13876,
        "start_time": "2022-06-29T13:51:44.468Z"
      },
      {
        "duration": 1436,
        "start_time": "2022-06-29T13:51:58.346Z"
      },
      {
        "duration": 10,
        "start_time": "2022-06-29T13:51:59.785Z"
      },
      {
        "duration": 69,
        "start_time": "2022-06-29T13:51:59.797Z"
      },
      {
        "duration": 10,
        "start_time": "2022-06-29T13:51:59.868Z"
      },
      {
        "duration": 1195,
        "start_time": "2022-06-29T13:52:35.173Z"
      },
      {
        "duration": 66498,
        "start_time": "2022-06-29T13:52:36.371Z"
      },
      {
        "duration": 2431,
        "start_time": "2022-06-29T13:53:42.871Z"
      },
      {
        "duration": 2,
        "start_time": "2022-06-29T13:53:45.304Z"
      },
      {
        "duration": 8,
        "start_time": "2022-06-29T13:53:45.309Z"
      },
      {
        "duration": 22,
        "start_time": "2022-06-29T13:53:45.319Z"
      },
      {
        "duration": 15,
        "start_time": "2022-06-29T13:53:45.343Z"
      },
      {
        "duration": 11,
        "start_time": "2022-06-29T13:53:45.360Z"
      },
      {
        "duration": 7,
        "start_time": "2022-06-29T13:53:45.373Z"
      },
      {
        "duration": 7,
        "start_time": "2022-06-29T13:53:45.382Z"
      },
      {
        "duration": 7,
        "start_time": "2022-06-29T13:53:45.391Z"
      },
      {
        "duration": 7,
        "start_time": "2022-06-29T13:53:45.399Z"
      },
      {
        "duration": 7,
        "start_time": "2022-06-29T13:53:45.408Z"
      },
      {
        "duration": 24,
        "start_time": "2022-06-29T13:53:45.417Z"
      },
      {
        "duration": 9,
        "start_time": "2022-06-29T13:53:45.443Z"
      },
      {
        "duration": 7,
        "start_time": "2022-06-29T13:53:45.454Z"
      },
      {
        "duration": 6,
        "start_time": "2022-06-29T13:53:45.463Z"
      },
      {
        "duration": 423,
        "start_time": "2022-06-29T13:53:45.471Z"
      },
      {
        "duration": 13698,
        "start_time": "2022-06-29T13:53:45.896Z"
      },
      {
        "duration": 1452,
        "start_time": "2022-06-29T13:53:59.596Z"
      },
      {
        "duration": 12,
        "start_time": "2022-06-29T13:54:01.050Z"
      },
      {
        "duration": 89,
        "start_time": "2022-06-29T13:54:01.064Z"
      },
      {
        "duration": 36,
        "start_time": "2022-06-29T13:54:01.155Z"
      },
      {
        "duration": 45,
        "start_time": "2022-06-29T13:54:01.194Z"
      },
      {
        "duration": 1284,
        "start_time": "2022-06-29T14:03:20.566Z"
      },
      {
        "duration": 2227,
        "start_time": "2022-06-29T14:03:21.853Z"
      },
      {
        "duration": 3,
        "start_time": "2022-06-29T14:03:24.082Z"
      },
      {
        "duration": 36,
        "start_time": "2022-06-29T14:03:24.087Z"
      },
      {
        "duration": 19,
        "start_time": "2022-06-29T14:03:24.124Z"
      },
      {
        "duration": 4,
        "start_time": "2022-06-29T14:03:24.145Z"
      },
      {
        "duration": 6,
        "start_time": "2022-06-29T14:03:24.151Z"
      },
      {
        "duration": 6,
        "start_time": "2022-06-29T14:03:24.159Z"
      },
      {
        "duration": 7,
        "start_time": "2022-06-29T14:03:24.167Z"
      },
      {
        "duration": 6,
        "start_time": "2022-06-29T14:03:24.176Z"
      },
      {
        "duration": 7,
        "start_time": "2022-06-29T14:03:24.184Z"
      },
      {
        "duration": 13,
        "start_time": "2022-06-29T14:03:24.192Z"
      },
      {
        "duration": 10,
        "start_time": "2022-06-29T14:03:24.207Z"
      },
      {
        "duration": 7,
        "start_time": "2022-06-29T14:03:24.219Z"
      },
      {
        "duration": 731449,
        "start_time": "2022-06-29T14:03:24.228Z"
      },
      {
        "duration": 18,
        "start_time": "2022-06-29T14:15:35.679Z"
      },
      {
        "duration": 5,
        "start_time": "2022-06-29T14:16:34.088Z"
      },
      {
        "duration": 107,
        "start_time": "2022-06-29T14:16:47.765Z"
      },
      {
        "duration": 6,
        "start_time": "2022-06-29T14:16:57.305Z"
      },
      {
        "duration": 4,
        "start_time": "2022-06-29T14:17:43.020Z"
      },
      {
        "duration": 5,
        "start_time": "2022-06-29T14:19:31.292Z"
      },
      {
        "duration": 730,
        "start_time": "2022-06-29T14:19:42.886Z"
      },
      {
        "duration": 727,
        "start_time": "2022-06-29T14:21:10.403Z"
      },
      {
        "duration": 703,
        "start_time": "2022-06-29T14:21:30.461Z"
      },
      {
        "duration": 6,
        "start_time": "2022-06-29T14:21:38.896Z"
      },
      {
        "duration": 5,
        "start_time": "2022-06-29T14:23:17.109Z"
      },
      {
        "duration": 718,
        "start_time": "2022-06-29T14:23:48.182Z"
      },
      {
        "duration": 5,
        "start_time": "2022-06-29T14:23:49.240Z"
      },
      {
        "duration": 771,
        "start_time": "2022-06-29T14:23:56.664Z"
      },
      {
        "duration": 5,
        "start_time": "2022-06-29T14:24:30.917Z"
      },
      {
        "duration": 6,
        "start_time": "2022-06-29T14:24:47.197Z"
      },
      {
        "duration": 56,
        "start_time": "2022-06-29T14:25:41.055Z"
      },
      {
        "duration": 5,
        "start_time": "2022-06-29T14:25:42.058Z"
      },
      {
        "duration": 726,
        "start_time": "2022-06-29T14:25:46.987Z"
      },
      {
        "duration": 6,
        "start_time": "2022-06-29T14:25:47.816Z"
      },
      {
        "duration": 5,
        "start_time": "2022-06-29T14:27:10.731Z"
      },
      {
        "duration": 2004,
        "start_time": "2022-06-29T14:31:42.840Z"
      },
      {
        "duration": 909,
        "start_time": "2022-06-29T14:31:44.846Z"
      },
      {
        "duration": 3,
        "start_time": "2022-06-29T14:31:45.757Z"
      },
      {
        "duration": 8,
        "start_time": "2022-06-29T14:31:45.762Z"
      },
      {
        "duration": 14,
        "start_time": "2022-06-29T14:31:45.772Z"
      },
      {
        "duration": 3,
        "start_time": "2022-06-29T14:31:45.788Z"
      },
      {
        "duration": 6,
        "start_time": "2022-06-29T14:31:45.792Z"
      },
      {
        "duration": 6,
        "start_time": "2022-06-29T14:31:45.800Z"
      },
      {
        "duration": 26,
        "start_time": "2022-06-29T14:31:45.807Z"
      },
      {
        "duration": 5,
        "start_time": "2022-06-29T14:31:45.837Z"
      },
      {
        "duration": 5,
        "start_time": "2022-06-29T14:31:45.844Z"
      },
      {
        "duration": 9,
        "start_time": "2022-06-29T14:31:45.850Z"
      },
      {
        "duration": 9,
        "start_time": "2022-06-29T14:31:45.860Z"
      },
      {
        "duration": 6,
        "start_time": "2022-06-29T14:31:45.871Z"
      },
      {
        "duration": 359972,
        "start_time": "2022-06-29T14:31:45.878Z"
      },
      {
        "duration": 11,
        "start_time": "2022-06-29T14:37:45.853Z"
      },
      {
        "duration": 5,
        "start_time": "2022-06-29T14:43:33.061Z"
      },
      {
        "duration": 2043,
        "start_time": "2022-06-29T14:43:57.362Z"
      },
      {
        "duration": 191,
        "start_time": "2022-06-29T14:44:04.443Z"
      },
      {
        "duration": 344,
        "start_time": "2022-06-29T14:46:23.874Z"
      },
      {
        "duration": 5,
        "start_time": "2022-06-29T14:46:40.787Z"
      },
      {
        "duration": 48,
        "start_time": "2022-06-29T14:58:58.815Z"
      },
      {
        "duration": 5,
        "start_time": "2022-06-29T14:59:07.791Z"
      },
      {
        "duration": 4,
        "start_time": "2022-06-29T14:59:49.067Z"
      },
      {
        "duration": 11,
        "start_time": "2022-06-29T15:09:35.892Z"
      },
      {
        "duration": 4,
        "start_time": "2022-06-29T15:09:45.223Z"
      },
      {
        "duration": 15,
        "start_time": "2022-06-29T15:09:51.230Z"
      },
      {
        "duration": 11,
        "start_time": "2022-06-29T15:10:13.617Z"
      },
      {
        "duration": 16,
        "start_time": "2022-06-29T15:10:24.358Z"
      },
      {
        "duration": 7,
        "start_time": "2022-06-29T15:10:29.042Z"
      },
      {
        "duration": 11,
        "start_time": "2022-06-29T15:11:03.145Z"
      },
      {
        "duration": 12,
        "start_time": "2022-06-29T15:12:11.570Z"
      },
      {
        "duration": 5,
        "start_time": "2022-06-29T15:12:15.100Z"
      },
      {
        "duration": 41,
        "start_time": "2022-06-29T15:12:29.616Z"
      },
      {
        "duration": 40,
        "start_time": "2022-06-29T15:12:48.283Z"
      },
      {
        "duration": 64,
        "start_time": "2022-06-29T15:14:54.408Z"
      },
      {
        "duration": 38,
        "start_time": "2022-06-29T15:14:58.122Z"
      },
      {
        "duration": 4,
        "start_time": "2022-06-29T15:15:06.432Z"
      },
      {
        "duration": 5,
        "start_time": "2022-06-29T15:15:13.025Z"
      },
      {
        "duration": 22,
        "start_time": "2022-06-29T15:15:45.802Z"
      },
      {
        "duration": 10,
        "start_time": "2022-06-29T15:16:25.940Z"
      },
      {
        "duration": 5,
        "start_time": "2022-06-29T15:16:26.417Z"
      },
      {
        "duration": 40,
        "start_time": "2022-06-29T15:16:26.899Z"
      },
      {
        "duration": 23,
        "start_time": "2022-06-29T15:16:27.576Z"
      },
      {
        "duration": 8,
        "start_time": "2022-06-29T15:16:48.003Z"
      },
      {
        "duration": 7,
        "start_time": "2022-06-29T15:17:36.071Z"
      },
      {
        "duration": 7,
        "start_time": "2022-06-29T15:18:15.276Z"
      },
      {
        "duration": 12,
        "start_time": "2022-06-29T15:18:15.711Z"
      },
      {
        "duration": 5,
        "start_time": "2022-06-29T15:18:16.162Z"
      },
      {
        "duration": 40,
        "start_time": "2022-06-29T15:18:16.761Z"
      },
      {
        "duration": 29,
        "start_time": "2022-06-29T15:18:17.103Z"
      },
      {
        "duration": 7,
        "start_time": "2022-06-29T15:18:17.766Z"
      },
      {
        "duration": 7,
        "start_time": "2022-06-29T15:18:18.500Z"
      },
      {
        "duration": 12,
        "start_time": "2022-06-29T15:18:39.036Z"
      },
      {
        "duration": 6,
        "start_time": "2022-06-29T15:18:50.941Z"
      },
      {
        "duration": 20912,
        "start_time": "2022-06-29T15:18:56.382Z"
      },
      {
        "duration": 18,
        "start_time": "2022-06-29T15:19:33.712Z"
      },
      {
        "duration": 12,
        "start_time": "2022-06-29T15:19:34.973Z"
      },
      {
        "duration": 10,
        "start_time": "2022-06-29T15:20:26.206Z"
      },
      {
        "duration": 48,
        "start_time": "2022-06-29T15:20:29.241Z"
      },
      {
        "duration": 10,
        "start_time": "2022-06-29T15:20:40.693Z"
      },
      {
        "duration": 21192,
        "start_time": "2022-06-29T15:21:25.173Z"
      },
      {
        "duration": 16,
        "start_time": "2022-06-29T15:21:48.002Z"
      },
      {
        "duration": 12,
        "start_time": "2022-06-29T15:21:49.011Z"
      },
      {
        "duration": 9,
        "start_time": "2022-06-29T15:23:14.667Z"
      },
      {
        "duration": 11,
        "start_time": "2022-06-29T15:23:19.602Z"
      },
      {
        "duration": 4,
        "start_time": "2022-06-29T15:23:32.655Z"
      },
      {
        "duration": 23,
        "start_time": "2022-06-29T15:24:39.731Z"
      },
      {
        "duration": 11,
        "start_time": "2022-06-29T15:24:45.550Z"
      },
      {
        "duration": 4,
        "start_time": "2022-06-29T15:24:52.645Z"
      },
      {
        "duration": 4,
        "start_time": "2022-06-29T15:25:00.544Z"
      },
      {
        "duration": 8,
        "start_time": "2022-06-29T15:26:52.724Z"
      },
      {
        "duration": 4,
        "start_time": "2022-06-29T15:26:59.349Z"
      },
      {
        "duration": 19,
        "start_time": "2022-06-29T15:27:30.370Z"
      },
      {
        "duration": 43,
        "start_time": "2022-06-29T15:27:42.167Z"
      },
      {
        "duration": 6,
        "start_time": "2022-06-29T15:27:44.705Z"
      },
      {
        "duration": 47,
        "start_time": "2022-06-29T15:29:04.492Z"
      },
      {
        "duration": 10,
        "start_time": "2022-06-29T15:29:05.640Z"
      },
      {
        "duration": 4,
        "start_time": "2022-06-29T15:29:12.348Z"
      },
      {
        "duration": 18,
        "start_time": "2022-06-29T15:29:58.439Z"
      },
      {
        "duration": 16,
        "start_time": "2022-06-29T15:30:16.041Z"
      },
      {
        "duration": 46,
        "start_time": "2022-06-29T15:30:31.010Z"
      },
      {
        "duration": 11,
        "start_time": "2022-06-29T15:30:31.688Z"
      },
      {
        "duration": 5,
        "start_time": "2022-06-29T15:30:49.504Z"
      },
      {
        "duration": 10,
        "start_time": "2022-06-29T15:30:55.989Z"
      },
      {
        "duration": 4,
        "start_time": "2022-06-29T15:31:03.934Z"
      },
      {
        "duration": 4,
        "start_time": "2022-06-29T15:31:04.593Z"
      },
      {
        "duration": 362034,
        "start_time": "2022-06-29T15:31:13.583Z"
      },
      {
        "duration": 7,
        "start_time": "2022-06-29T15:37:20.458Z"
      },
      {
        "duration": 12,
        "start_time": "2022-06-29T15:37:21.583Z"
      },
      {
        "duration": 5,
        "start_time": "2022-06-29T15:37:22.304Z"
      },
      {
        "duration": 46,
        "start_time": "2022-06-29T15:37:23.700Z"
      },
      {
        "duration": 23,
        "start_time": "2022-06-29T15:37:25.014Z"
      },
      {
        "duration": 9,
        "start_time": "2022-06-29T15:37:26.541Z"
      },
      {
        "duration": 8,
        "start_time": "2022-06-29T15:37:29.181Z"
      },
      {
        "duration": 21203,
        "start_time": "2022-06-29T15:37:33.920Z"
      },
      {
        "duration": 16,
        "start_time": "2022-06-29T15:37:57.449Z"
      },
      {
        "duration": 13,
        "start_time": "2022-06-29T15:37:58.338Z"
      },
      {
        "duration": 28,
        "start_time": "2022-06-29T15:38:47.097Z"
      },
      {
        "duration": 5,
        "start_time": "2022-06-29T15:39:05.418Z"
      },
      {
        "duration": 7,
        "start_time": "2022-06-29T15:39:33.166Z"
      },
      {
        "duration": 4,
        "start_time": "2022-06-29T15:39:33.613Z"
      },
      {
        "duration": 2,
        "start_time": "2022-06-29T15:39:35.245Z"
      },
      {
        "duration": 9,
        "start_time": "2022-06-29T15:39:35.604Z"
      },
      {
        "duration": 3,
        "start_time": "2022-06-29T15:39:36.037Z"
      },
      {
        "duration": 5,
        "start_time": "2022-06-29T15:39:36.469Z"
      },
      {
        "duration": 4,
        "start_time": "2022-06-29T15:39:36.942Z"
      },
      {
        "duration": 1476213,
        "start_time": "2022-06-29T15:39:37.526Z"
      },
      {
        "duration": 7,
        "start_time": "2022-06-29T16:04:13.742Z"
      },
      {
        "duration": 38,
        "start_time": "2022-06-29T16:04:23.862Z"
      },
      {
        "duration": 124,
        "start_time": "2022-06-29T16:04:24.697Z"
      },
      {
        "duration": 131,
        "start_time": "2022-06-29T16:04:25.645Z"
      },
      {
        "duration": 969,
        "start_time": "2022-06-29T16:04:28.764Z"
      },
      {
        "duration": 8,
        "start_time": "2022-06-29T16:04:30.589Z"
      },
      {
        "duration": 8,
        "start_time": "2022-06-29T16:04:31.367Z"
      },
      {
        "duration": 66423,
        "start_time": "2022-06-29T16:04:32.582Z"
      },
      {
        "duration": 33,
        "start_time": "2022-06-29T16:05:48.503Z"
      },
      {
        "duration": 21,
        "start_time": "2022-06-29T16:05:49.314Z"
      },
      {
        "duration": 26,
        "start_time": "2022-06-29T16:07:55.625Z"
      },
      {
        "duration": 11,
        "start_time": "2022-06-29T16:08:02.980Z"
      },
      {
        "duration": 7531,
        "start_time": "2022-06-29T16:13:32.295Z"
      },
      {
        "duration": 5,
        "start_time": "2022-06-29T16:13:53.474Z"
      },
      {
        "duration": 6,
        "start_time": "2022-06-29T16:14:20.401Z"
      },
      {
        "duration": 11072,
        "start_time": "2022-06-29T16:15:04.864Z"
      },
      {
        "duration": 4,
        "start_time": "2022-06-29T16:15:18.510Z"
      },
      {
        "duration": 11697,
        "start_time": "2022-06-29T16:15:40.639Z"
      },
      {
        "duration": 5,
        "start_time": "2022-06-29T16:16:22.717Z"
      },
      {
        "duration": 6,
        "start_time": "2022-06-29T16:16:23.572Z"
      },
      {
        "duration": 10068,
        "start_time": "2022-06-29T16:16:45.967Z"
      },
      {
        "duration": 3,
        "start_time": "2022-06-29T16:16:58.795Z"
      },
      {
        "duration": 26047,
        "start_time": "2022-06-29T16:17:01.667Z"
      },
      {
        "duration": 0,
        "start_time": "2022-06-29T16:17:27.716Z"
      },
      {
        "duration": 3,
        "start_time": "2022-06-29T16:17:30.308Z"
      },
      {
        "duration": 7687,
        "start_time": "2022-06-29T16:17:33.195Z"
      },
      {
        "duration": 15,
        "start_time": "2022-06-29T16:18:02.007Z"
      },
      {
        "duration": 9210,
        "start_time": "2022-06-29T16:18:21.582Z"
      },
      {
        "duration": 4,
        "start_time": "2022-06-29T16:18:32.698Z"
      },
      {
        "duration": 268424,
        "start_time": "2022-06-29T16:18:36.520Z"
      },
      {
        "duration": 14,
        "start_time": "2022-06-29T16:23:32.016Z"
      },
      {
        "duration": 66883,
        "start_time": "2022-06-29T16:24:18.413Z"
      },
      {
        "duration": 20,
        "start_time": "2022-06-29T16:25:25.298Z"
      },
      {
        "duration": 5,
        "start_time": "2022-06-29T16:32:52.782Z"
      },
      {
        "duration": 3,
        "start_time": "2022-06-29T16:33:28.239Z"
      },
      {
        "duration": 9816,
        "start_time": "2022-06-29T16:33:39.220Z"
      },
      {
        "duration": 3,
        "start_time": "2022-06-29T16:34:40.686Z"
      },
      {
        "duration": 338489,
        "start_time": "2022-06-29T16:35:03.082Z"
      },
      {
        "duration": 46771,
        "start_time": "2022-06-30T03:58:46.375Z"
      },
      {
        "duration": 2475,
        "start_time": "2022-06-30T03:59:33.148Z"
      },
      {
        "duration": 15,
        "start_time": "2022-06-30T03:59:35.624Z"
      },
      {
        "duration": 371,
        "start_time": "2022-06-30T03:59:35.641Z"
      },
      {
        "duration": 0,
        "start_time": "2022-06-30T03:59:36.014Z"
      },
      {
        "duration": 0,
        "start_time": "2022-06-30T03:59:36.016Z"
      },
      {
        "duration": 0,
        "start_time": "2022-06-30T03:59:36.017Z"
      },
      {
        "duration": 0,
        "start_time": "2022-06-30T03:59:36.018Z"
      },
      {
        "duration": 0,
        "start_time": "2022-06-30T03:59:36.028Z"
      },
      {
        "duration": 0,
        "start_time": "2022-06-30T03:59:36.030Z"
      },
      {
        "duration": 0,
        "start_time": "2022-06-30T03:59:36.031Z"
      },
      {
        "duration": 0,
        "start_time": "2022-06-30T03:59:36.033Z"
      },
      {
        "duration": 0,
        "start_time": "2022-06-30T03:59:36.034Z"
      },
      {
        "duration": 0,
        "start_time": "2022-06-30T03:59:36.036Z"
      },
      {
        "duration": 0,
        "start_time": "2022-06-30T03:59:36.037Z"
      },
      {
        "duration": 0,
        "start_time": "2022-06-30T03:59:36.039Z"
      },
      {
        "duration": 49878,
        "start_time": "2022-06-30T04:00:09.134Z"
      },
      {
        "duration": 802,
        "start_time": "2022-06-30T04:00:59.015Z"
      },
      {
        "duration": 19,
        "start_time": "2022-06-30T04:00:59.819Z"
      },
      {
        "duration": 34,
        "start_time": "2022-06-30T04:00:59.840Z"
      },
      {
        "duration": 50,
        "start_time": "2022-06-30T04:00:59.877Z"
      },
      {
        "duration": 0,
        "start_time": "2022-06-30T04:00:59.930Z"
      },
      {
        "duration": 0,
        "start_time": "2022-06-30T04:00:59.932Z"
      },
      {
        "duration": 0,
        "start_time": "2022-06-30T04:00:59.934Z"
      },
      {
        "duration": 0,
        "start_time": "2022-06-30T04:00:59.936Z"
      },
      {
        "duration": 0,
        "start_time": "2022-06-30T04:00:59.937Z"
      },
      {
        "duration": 0,
        "start_time": "2022-06-30T04:00:59.939Z"
      },
      {
        "duration": 0,
        "start_time": "2022-06-30T04:00:59.941Z"
      },
      {
        "duration": 0,
        "start_time": "2022-06-30T04:00:59.942Z"
      },
      {
        "duration": 0,
        "start_time": "2022-06-30T04:00:59.944Z"
      },
      {
        "duration": 0,
        "start_time": "2022-06-30T04:00:59.945Z"
      },
      {
        "duration": 0,
        "start_time": "2022-06-30T04:00:59.947Z"
      },
      {
        "duration": 52133,
        "start_time": "2022-06-30T04:02:53.684Z"
      },
      {
        "duration": 929,
        "start_time": "2022-06-30T04:03:45.820Z"
      },
      {
        "duration": 21,
        "start_time": "2022-06-30T04:03:46.751Z"
      },
      {
        "duration": 69,
        "start_time": "2022-06-30T04:03:46.776Z"
      },
      {
        "duration": 8,
        "start_time": "2022-06-30T04:03:46.847Z"
      },
      {
        "duration": 693,
        "start_time": "2022-06-30T04:03:46.857Z"
      },
      {
        "duration": 484004,
        "start_time": "2022-06-30T04:03:47.552Z"
      },
      {
        "duration": 508,
        "start_time": "2022-06-30T04:11:51.558Z"
      },
      {
        "duration": 461,
        "start_time": "2022-06-30T04:11:52.069Z"
      },
      {
        "duration": 115,
        "start_time": "2022-06-30T04:11:52.533Z"
      },
      {
        "duration": 1757,
        "start_time": "2022-06-30T04:11:52.650Z"
      },
      {
        "duration": 3,
        "start_time": "2022-06-30T04:11:54.409Z"
      },
      {
        "duration": 20,
        "start_time": "2022-06-30T04:11:54.414Z"
      },
      {
        "duration": 50592,
        "start_time": "2022-06-30T04:11:54.436Z"
      },
      {
        "duration": 4,
        "start_time": "2022-06-30T04:12:45.032Z"
      },
      {
        "duration": 415122,
        "start_time": "2022-06-30T04:12:45.038Z"
      },
      {
        "duration": 45816,
        "start_time": "2022-06-30T04:20:36.724Z"
      },
      {
        "duration": 756,
        "start_time": "2022-06-30T04:21:22.542Z"
      },
      {
        "duration": 13,
        "start_time": "2022-06-30T04:21:23.300Z"
      },
      {
        "duration": 34,
        "start_time": "2022-06-30T04:21:23.315Z"
      },
      {
        "duration": 5,
        "start_time": "2022-06-30T04:21:23.351Z"
      },
      {
        "duration": 635,
        "start_time": "2022-06-30T04:21:23.358Z"
      },
      {
        "duration": 458218,
        "start_time": "2022-06-30T04:21:23.995Z"
      },
      {
        "duration": 559,
        "start_time": "2022-06-30T04:29:02.215Z"
      },
      {
        "duration": 553,
        "start_time": "2022-06-30T04:29:02.776Z"
      },
      {
        "duration": 121,
        "start_time": "2022-06-30T04:29:03.332Z"
      },
      {
        "duration": 1833,
        "start_time": "2022-06-30T04:29:03.455Z"
      },
      {
        "duration": 6,
        "start_time": "2022-06-30T04:29:05.290Z"
      },
      {
        "duration": 13,
        "start_time": "2022-06-30T04:29:05.299Z"
      },
      {
        "duration": 53822,
        "start_time": "2022-06-30T04:29:05.314Z"
      },
      {
        "duration": 4,
        "start_time": "2022-06-30T04:29:59.138Z"
      },
      {
        "duration": 2849837,
        "start_time": "2022-06-30T04:29:59.227Z"
      },
      {
        "duration": 6,
        "start_time": "2022-06-30T05:30:00.300Z"
      },
      {
        "duration": 3,
        "start_time": "2022-06-30T05:30:05.262Z"
      },
      {
        "duration": 44,
        "start_time": "2022-06-30T05:30:25.293Z"
      },
      {
        "duration": 4,
        "start_time": "2022-06-30T05:31:05.648Z"
      },
      {
        "duration": 47,
        "start_time": "2022-06-30T05:31:06.161Z"
      },
      {
        "duration": 4,
        "start_time": "2022-06-30T05:31:20.242Z"
      },
      {
        "duration": 48,
        "start_time": "2022-06-30T05:31:20.694Z"
      },
      {
        "duration": 3,
        "start_time": "2022-06-30T05:31:38.604Z"
      },
      {
        "duration": 48,
        "start_time": "2022-06-30T05:31:39.250Z"
      },
      {
        "duration": 3,
        "start_time": "2022-06-30T05:31:44.192Z"
      },
      {
        "duration": 58233,
        "start_time": "2022-06-30T05:49:55.943Z"
      },
      {
        "duration": 867,
        "start_time": "2022-06-30T05:50:54.178Z"
      },
      {
        "duration": 14,
        "start_time": "2022-06-30T05:50:55.047Z"
      },
      {
        "duration": 34,
        "start_time": "2022-06-30T05:50:55.063Z"
      },
      {
        "duration": 7,
        "start_time": "2022-06-30T05:50:55.099Z"
      },
      {
        "duration": 734,
        "start_time": "2022-06-30T05:50:55.107Z"
      },
      {
        "duration": 550567,
        "start_time": "2022-06-30T05:50:55.843Z"
      },
      {
        "duration": 1052,
        "start_time": "2022-06-30T06:00:06.411Z"
      },
      {
        "duration": 627,
        "start_time": "2022-06-30T06:00:07.466Z"
      },
      {
        "duration": 225,
        "start_time": "2022-06-30T06:00:08.100Z"
      },
      {
        "duration": 3182,
        "start_time": "2022-06-30T06:00:08.329Z"
      },
      {
        "duration": 5,
        "start_time": "2022-06-30T06:00:11.519Z"
      },
      {
        "duration": 69,
        "start_time": "2022-06-30T06:00:11.525Z"
      },
      {
        "duration": 59545,
        "start_time": "2022-06-30T06:00:11.597Z"
      },
      {
        "duration": 9,
        "start_time": "2022-06-30T06:01:11.146Z"
      },
      {
        "duration": 3529303,
        "start_time": "2022-06-30T06:01:11.159Z"
      },
      {
        "duration": 3,
        "start_time": "2022-06-30T07:00:00.464Z"
      },
      {
        "duration": 68,
        "start_time": "2022-06-30T07:00:00.469Z"
      },
      {
        "duration": 67794,
        "start_time": "2022-06-30T13:25:03.916Z"
      },
      {
        "duration": 3153,
        "start_time": "2022-06-30T13:26:11.713Z"
      },
      {
        "duration": 14,
        "start_time": "2022-06-30T13:26:14.867Z"
      },
      {
        "duration": 11,
        "start_time": "2022-06-30T13:26:14.884Z"
      },
      {
        "duration": 7,
        "start_time": "2022-06-30T13:32:42.705Z"
      },
      {
        "duration": 16,
        "start_time": "2022-06-30T13:33:43.442Z"
      },
      {
        "duration": 11,
        "start_time": "2022-06-30T13:33:51.246Z"
      },
      {
        "duration": 5,
        "start_time": "2022-06-30T13:34:04.206Z"
      },
      {
        "duration": 5,
        "start_time": "2022-06-30T13:34:17.745Z"
      },
      {
        "duration": 35,
        "start_time": "2022-06-30T13:36:59.876Z"
      },
      {
        "duration": 6,
        "start_time": "2022-06-30T13:37:15.966Z"
      },
      {
        "duration": 942,
        "start_time": "2022-06-30T13:38:40.622Z"
      },
      {
        "duration": 513264,
        "start_time": "2022-06-30T13:38:42.560Z"
      },
      {
        "duration": 131317,
        "start_time": "2022-06-30T13:47:15.827Z"
      },
      {
        "duration": 593,
        "start_time": "2022-06-30T13:50:02.166Z"
      },
      {
        "duration": 204,
        "start_time": "2022-06-30T13:50:03.456Z"
      },
      {
        "duration": 1393,
        "start_time": "2022-06-30T13:50:06.788Z"
      },
      {
        "duration": 3,
        "start_time": "2022-06-30T13:50:34.105Z"
      },
      {
        "duration": 168,
        "start_time": "2022-06-30T13:50:41.434Z"
      },
      {
        "duration": 1698,
        "start_time": "2022-06-30T13:50:43.842Z"
      },
      {
        "duration": 4,
        "start_time": "2022-06-30T13:50:49.462Z"
      },
      {
        "duration": 64,
        "start_time": "2022-06-30T13:50:52.252Z"
      },
      {
        "duration": 5,
        "start_time": "2022-06-30T13:51:02.084Z"
      },
      {
        "duration": 23,
        "start_time": "2022-06-30T13:51:15.800Z"
      },
      {
        "duration": 6,
        "start_time": "2022-06-30T13:51:19.665Z"
      },
      {
        "duration": 4,
        "start_time": "2022-06-30T13:51:25.451Z"
      },
      {
        "duration": 99,
        "start_time": "2022-06-30T13:51:27.953Z"
      },
      {
        "duration": 1737,
        "start_time": "2022-06-30T13:52:32.421Z"
      },
      {
        "duration": 7,
        "start_time": "2022-06-30T13:52:34.160Z"
      },
      {
        "duration": 17,
        "start_time": "2022-06-30T13:52:34.168Z"
      },
      {
        "duration": 6,
        "start_time": "2022-06-30T13:52:34.205Z"
      },
      {
        "duration": 34,
        "start_time": "2022-06-30T13:52:34.430Z"
      },
      {
        "duration": 40,
        "start_time": "2022-06-30T13:52:34.878Z"
      },
      {
        "duration": 9,
        "start_time": "2022-06-30T13:52:35.218Z"
      },
      {
        "duration": 527,
        "start_time": "2022-06-30T13:52:36.545Z"
      },
      {
        "duration": 522619,
        "start_time": "2022-06-30T13:52:37.074Z"
      },
      {
        "duration": 136577,
        "start_time": "2022-06-30T14:01:19.695Z"
      },
      {
        "duration": 628,
        "start_time": "2022-06-30T14:03:36.275Z"
      },
      {
        "duration": 279,
        "start_time": "2022-06-30T14:03:36.907Z"
      },
      {
        "duration": 6,
        "start_time": "2022-06-30T14:03:37.188Z"
      },
      {
        "duration": 9,
        "start_time": "2022-06-30T14:03:37.197Z"
      },
      {
        "duration": 1785,
        "start_time": "2022-06-30T14:03:37.208Z"
      },
      {
        "duration": 69,
        "start_time": "2022-06-30T14:03:44.878Z"
      },
      {
        "duration": 20,
        "start_time": "2022-06-30T14:03:53.888Z"
      },
      {
        "duration": 14,
        "start_time": "2022-06-30T14:03:58.489Z"
      },
      {
        "duration": 4,
        "start_time": "2022-06-30T14:04:18.282Z"
      },
      {
        "duration": 5,
        "start_time": "2022-06-30T14:04:21.284Z"
      },
      {
        "duration": 93,
        "start_time": "2022-06-30T14:04:22.296Z"
      },
      {
        "duration": 3,
        "start_time": "2022-06-30T14:04:50.247Z"
      },
      {
        "duration": 115,
        "start_time": "2022-06-30T14:04:57.965Z"
      },
      {
        "duration": 3,
        "start_time": "2022-06-30T14:05:28.084Z"
      },
      {
        "duration": 4,
        "start_time": "2022-06-30T14:05:35.681Z"
      },
      {
        "duration": 123197,
        "start_time": "2022-06-30T14:05:40.243Z"
      },
      {
        "duration": 6,
        "start_time": "2022-06-30T14:15:43.213Z"
      },
      {
        "duration": 3,
        "start_time": "2022-06-30T14:15:59.215Z"
      },
      {
        "duration": 132041,
        "start_time": "2022-06-30T14:16:00.004Z"
      },
      {
        "duration": 5,
        "start_time": "2022-06-30T14:18:57.746Z"
      },
      {
        "duration": 86665,
        "start_time": "2022-06-30T14:53:37.185Z"
      },
      {
        "duration": 1447,
        "start_time": "2022-06-30T14:55:03.852Z"
      },
      {
        "duration": 14,
        "start_time": "2022-06-30T14:55:05.301Z"
      },
      {
        "duration": 23,
        "start_time": "2022-06-30T14:55:05.318Z"
      },
      {
        "duration": 50,
        "start_time": "2022-06-30T14:55:05.344Z"
      },
      {
        "duration": 49,
        "start_time": "2022-06-30T14:55:05.396Z"
      },
      {
        "duration": 9,
        "start_time": "2022-06-30T14:55:05.448Z"
      },
      {
        "duration": 21,
        "start_time": "2022-06-30T14:55:05.458Z"
      },
      {
        "duration": 24,
        "start_time": "2022-06-30T14:55:05.481Z"
      },
      {
        "duration": 797,
        "start_time": "2022-06-30T14:55:05.509Z"
      },
      {
        "duration": 495659,
        "start_time": "2022-06-30T14:55:06.308Z"
      },
      {
        "duration": 355,
        "start_time": "2022-06-30T15:03:21.969Z"
      },
      {
        "duration": 0,
        "start_time": "2022-06-30T15:03:22.330Z"
      },
      {
        "duration": 0,
        "start_time": "2022-06-30T15:03:22.331Z"
      },
      {
        "duration": 0,
        "start_time": "2022-06-30T15:03:22.332Z"
      },
      {
        "duration": 0,
        "start_time": "2022-06-30T15:03:22.333Z"
      },
      {
        "duration": 0,
        "start_time": "2022-06-30T15:03:22.334Z"
      },
      {
        "duration": 0,
        "start_time": "2022-06-30T15:03:22.334Z"
      },
      {
        "duration": 0,
        "start_time": "2022-06-30T15:03:22.335Z"
      },
      {
        "duration": 0,
        "start_time": "2022-06-30T15:03:22.337Z"
      },
      {
        "duration": 0,
        "start_time": "2022-06-30T15:03:22.338Z"
      },
      {
        "duration": 0,
        "start_time": "2022-06-30T15:03:22.340Z"
      },
      {
        "duration": 1,
        "start_time": "2022-06-30T15:03:22.340Z"
      },
      {
        "duration": 0,
        "start_time": "2022-06-30T15:03:22.342Z"
      },
      {
        "duration": 0,
        "start_time": "2022-06-30T15:03:22.343Z"
      },
      {
        "duration": 0,
        "start_time": "2022-06-30T15:03:22.344Z"
      },
      {
        "duration": 13,
        "start_time": "2022-06-30T15:04:07.179Z"
      },
      {
        "duration": 74106,
        "start_time": "2022-06-30T15:04:36.554Z"
      },
      {
        "duration": 829,
        "start_time": "2022-06-30T15:05:50.662Z"
      },
      {
        "duration": 19,
        "start_time": "2022-06-30T15:05:51.494Z"
      },
      {
        "duration": 35,
        "start_time": "2022-06-30T15:05:51.515Z"
      },
      {
        "duration": 51,
        "start_time": "2022-06-30T15:05:51.555Z"
      },
      {
        "duration": 54,
        "start_time": "2022-06-30T15:05:51.608Z"
      },
      {
        "duration": 9,
        "start_time": "2022-06-30T15:05:51.665Z"
      },
      {
        "duration": 32,
        "start_time": "2022-06-30T15:05:51.677Z"
      },
      {
        "duration": 18,
        "start_time": "2022-06-30T15:05:51.712Z"
      },
      {
        "duration": 779,
        "start_time": "2022-06-30T15:05:51.734Z"
      },
      {
        "duration": 495561,
        "start_time": "2022-06-30T15:05:52.515Z"
      },
      {
        "duration": 12,
        "start_time": "2022-06-30T15:14:08.078Z"
      },
      {
        "duration": 130713,
        "start_time": "2022-06-30T15:14:08.092Z"
      },
      {
        "duration": 19,
        "start_time": "2022-06-30T15:16:18.808Z"
      },
      {
        "duration": 601,
        "start_time": "2022-06-30T15:16:18.829Z"
      },
      {
        "duration": 231,
        "start_time": "2022-06-30T15:16:19.434Z"
      },
      {
        "duration": 4,
        "start_time": "2022-06-30T15:16:19.668Z"
      },
      {
        "duration": 230,
        "start_time": "2022-06-30T15:16:19.674Z"
      },
      {
        "duration": 1693,
        "start_time": "2022-06-30T15:16:19.906Z"
      },
      {
        "duration": 5,
        "start_time": "2022-06-30T15:16:21.602Z"
      },
      {
        "duration": 42,
        "start_time": "2022-06-30T15:16:21.609Z"
      },
      {
        "duration": 123380,
        "start_time": "2022-06-30T15:16:21.654Z"
      },
      {
        "duration": 4,
        "start_time": "2022-06-30T15:18:25.038Z"
      },
      {
        "duration": 3544997,
        "start_time": "2022-06-30T15:18:25.045Z"
      },
      {
        "duration": 7,
        "start_time": "2022-06-30T16:17:30.044Z"
      },
      {
        "duration": 88,
        "start_time": "2022-06-30T16:17:30.053Z"
      }
    ],
    "kernelspec": {
      "display_name": "Python 3 (ipykernel)",
      "language": "python",
      "name": "python3"
    },
    "language_info": {
      "codemirror_mode": {
        "name": "ipython",
        "version": 3
      },
      "file_extension": ".py",
      "mimetype": "text/x-python",
      "name": "python",
      "nbconvert_exporter": "python",
      "pygments_lexer": "ipython3",
      "version": "3.9.5"
    },
    "toc": {
      "base_numbering": "1",
      "nav_menu": {},
      "number_sections": true,
      "sideBar": true,
      "skip_h1_title": true,
      "title_cell": "Содержание",
      "title_sidebar": "Contents",
      "toc_cell": true,
      "toc_position": {
        "height": "calc(100% - 180px)",
        "left": "10px",
        "top": "150px",
        "width": "168.391px"
      },
      "toc_section_display": true,
      "toc_window_display": true
    },
    "colab": {
      "provenance": []
    }
  },
  "nbformat": 4,
  "nbformat_minor": 0
}
