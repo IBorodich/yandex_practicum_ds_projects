{
 "cells": [
  {
   "cell_type": "markdown",
   "metadata": {
    "toc": true
   },
   "source": [
    "<h1>Содержание<span class=\"tocSkip\"></span></h1>\n",
    "<div class=\"toc\"><ul class=\"toc-item\"><li><span><a href=\"#Загрузка-библиотек\" data-toc-modified-id=\"Загрузка-библиотек-1\"><span class=\"toc-item-num\">1&nbsp;&nbsp;</span>Загрузка библиотек</a></span></li><li><span><a href=\"#Подготовка\" data-toc-modified-id=\"Подготовка-2\"><span class=\"toc-item-num\">2&nbsp;&nbsp;</span>Подготовка</a></span></li><li><span><a href=\"#Анализ\" data-toc-modified-id=\"Анализ-3\"><span class=\"toc-item-num\">3&nbsp;&nbsp;</span>Анализ</a></span></li><li><span><a href=\"#Обучение\" data-toc-modified-id=\"Обучение-4\"><span class=\"toc-item-num\">4&nbsp;&nbsp;</span>Обучение</a></span><ul class=\"toc-item\"><li><span><a href=\"#Вспомогательные-функции-и-переменные\" data-toc-modified-id=\"Вспомогательные-функции-и-переменные-4.1\"><span class=\"toc-item-num\">4.1&nbsp;&nbsp;</span>Вспомогательные функции и переменные</a></span></li><li><span><a href=\"#LinearRegression\" data-toc-modified-id=\"LinearRegression-4.2\"><span class=\"toc-item-num\">4.2&nbsp;&nbsp;</span>LinearRegression</a></span></li><li><span><a href=\"#RandomForestRegressor\" data-toc-modified-id=\"RandomForestRegressor-4.3\"><span class=\"toc-item-num\">4.3&nbsp;&nbsp;</span>RandomForestRegressor</a></span></li><li><span><a href=\"#CatBoostRegressor\" data-toc-modified-id=\"CatBoostRegressor-4.4\"><span class=\"toc-item-num\">4.4&nbsp;&nbsp;</span>CatBoostRegressor</a></span></li><li><span><a href=\"#Выводы\" data-toc-modified-id=\"Выводы-4.5\"><span class=\"toc-item-num\">4.5&nbsp;&nbsp;</span>Выводы</a></span></li></ul></li><li><span><a href=\"#Тестирование\" data-toc-modified-id=\"Тестирование-5\"><span class=\"toc-item-num\">5&nbsp;&nbsp;</span>Тестирование</a></span><ul class=\"toc-item\"><li><span><a href=\"#LinearRegression\" data-toc-modified-id=\"LinearRegression-5.1\"><span class=\"toc-item-num\">5.1&nbsp;&nbsp;</span>LinearRegression</a></span></li><li><span><a href=\"#RandomForestRegressor\" data-toc-modified-id=\"RandomForestRegressor-5.2\"><span class=\"toc-item-num\">5.2&nbsp;&nbsp;</span>RandomForestRegressor</a></span></li><li><span><a href=\"#CatBoostRegressor\" data-toc-modified-id=\"CatBoostRegressor-5.3\"><span class=\"toc-item-num\">5.3&nbsp;&nbsp;</span>CatBoostRegressor</a></span></li><li><span><a href=\"#Выводы\" data-toc-modified-id=\"Выводы-5.4\"><span class=\"toc-item-num\">5.4&nbsp;&nbsp;</span>Выводы</a></span></li></ul></li></ul></div>"
   ]
  },
  {
   "cell_type": "markdown",
   "metadata": {},
   "source": [
    "#  Прогнозирование заказов такси"
   ]
  },
  {
   "cell_type": "markdown",
   "metadata": {},
   "source": [
    "Компания «Чётенькое такси» собрала исторические данные о заказах такси в аэропортах. Чтобы привлекать больше водителей в период пиковой нагрузки, нужно спрогнозировать количество заказов такси на следующий час. Постройте модель для такого предсказания.\n",
    "\n",
    "Значение метрики *RMSE* на тестовой выборке должно быть не больше 48.\n",
   ]
  },
  {
   "cell_type": "markdown",
   "metadata": {},
   "source": [
    "## Загрузка библиотек"
   ]
  },
  {
   "cell_type": "code",
   "execution_count": 1,
   "metadata": {},
   "outputs": [],
   "source": [
    "import pandas as pd\n",
    "import numpy as np\n",
    "import matplotlib.pyplot as plt\n",
    "import matplotlib.dates as mdates\n",
    "from statsmodels.tsa.seasonal import seasonal_decompose\n",
    "from sklearn.metrics import mean_squared_error\n",
    "from sklearn.metrics import make_scorer\n",
    "from sklearn.model_selection import TimeSeriesSplit\n",
    "from sklearn.model_selection import train_test_split\n",
    "from sklearn.model_selection import cross_val_score\n",
    "from sklearn.model_selection import GridSearchCV\n",
    "from sklearn.model_selection import RandomizedSearchCV\n",
    "from sklearn.linear_model import LinearRegression\n",
    "from sklearn.ensemble import RandomForestRegressor\n",
    "from catboost import CatBoostRegressor"
   ]
  },
  {
   "cell_type": "markdown",
   "metadata": {},
   "source": [
    "## Подготовка"
   ]
  },
  {
   "cell_type": "code",
   "execution_count": 2,
   "metadata": {},
   "outputs": [],
   "source": [
    "ts = pd.read_csv('/datasets/taxi.csv', index_col=[0], parse_dates=[0])"
   ]
  },
  {
   "cell_type": "code",
   "execution_count": 3,
   "metadata": {},
   "outputs": [
    {
     "data": {
      "text/html": [
       "<div>\n",
       "<style scoped>\n",
       "    .dataframe tbody tr th:only-of-type {\n",
       "        vertical-align: middle;\n",
       "    }\n",
       "\n",
       "    .dataframe tbody tr th {\n",
       "        vertical-align: top;\n",
       "    }\n",
       "\n",
       "    .dataframe thead th {\n",
       "        text-align: right;\n",
       "    }\n",
       "</style>\n",
       "<table border=\"1\" class=\"dataframe\">\n",
       "  <thead>\n",
       "    <tr style=\"text-align: right;\">\n",
       "      <th></th>\n",
       "      <th>num_orders</th>\n",
       "    </tr>\n",
       "    <tr>\n",
       "      <th>datetime</th>\n",
       "      <th></th>\n",
       "    </tr>\n",
       "  </thead>\n",
       "  <tbody>\n",
       "    <tr>\n",
       "      <th>2018-03-01 00:00:00</th>\n",
       "      <td>9</td>\n",
       "    </tr>\n",
       "    <tr>\n",
       "      <th>2018-03-01 00:10:00</th>\n",
       "      <td>14</td>\n",
       "    </tr>\n",
       "    <tr>\n",
       "      <th>2018-03-01 00:20:00</th>\n",
       "      <td>28</td>\n",
       "    </tr>\n",
       "    <tr>\n",
       "      <th>2018-03-01 00:30:00</th>\n",
       "      <td>20</td>\n",
       "    </tr>\n",
       "    <tr>\n",
       "      <th>2018-03-01 00:40:00</th>\n",
       "      <td>32</td>\n",
       "    </tr>\n",
       "  </tbody>\n",
       "</table>\n",
       "</div>"
      ],
      "text/plain": [
       "                     num_orders\n",
       "datetime                       \n",
       "2018-03-01 00:00:00           9\n",
       "2018-03-01 00:10:00          14\n",
       "2018-03-01 00:20:00          28\n",
       "2018-03-01 00:30:00          20\n",
       "2018-03-01 00:40:00          32"
      ]
     },
     "execution_count": 3,
     "metadata": {},
     "output_type": "execute_result"
    }
   ],
   "source": [
    "ts.head()"
   ]
  },
  {
   "cell_type": "code",
   "execution_count": 4,
   "metadata": {},
   "outputs": [
    {
     "data": {
      "text/plain": [
       "True"
      ]
     },
     "execution_count": 4,
     "metadata": {},
     "output_type": "execute_result"
    }
   ],
   "source": [
    "ts.index.is_monotonic"
   ]
  },
  {
   "cell_type": "code",
   "execution_count": 5,
   "metadata": {},
   "outputs": [
    {
     "name": "stdout",
     "output_type": "stream",
     "text": [
      "<class 'pandas.core.frame.DataFrame'>\n",
      "DatetimeIndex: 26496 entries, 2018-03-01 00:00:00 to 2018-08-31 23:50:00\n",
      "Data columns (total 1 columns):\n",
      " #   Column      Non-Null Count  Dtype\n",
      "---  ------      --------------  -----\n",
      " 0   num_orders  26496 non-null  int64\n",
      "dtypes: int64(1)\n",
      "memory usage: 414.0 KB\n"
     ]
    }
   ],
   "source": [
    "ts.info()"
   ]
  },
  {
   "cell_type": "code",
   "execution_count": 6,
   "metadata": {},
   "outputs": [
    {
     "data": {
      "text/html": [
       "<div>\n",
       "<style scoped>\n",
       "    .dataframe tbody tr th:only-of-type {\n",
       "        vertical-align: middle;\n",
       "    }\n",
       "\n",
       "    .dataframe tbody tr th {\n",
       "        vertical-align: top;\n",
       "    }\n",
       "\n",
       "    .dataframe thead th {\n",
       "        text-align: right;\n",
       "    }\n",
       "</style>\n",
       "<table border=\"1\" class=\"dataframe\">\n",
       "  <thead>\n",
       "    <tr style=\"text-align: right;\">\n",
       "      <th></th>\n",
       "      <th>count</th>\n",
       "      <th>mean</th>\n",
       "      <th>std</th>\n",
       "      <th>min</th>\n",
       "      <th>25%</th>\n",
       "      <th>50%</th>\n",
       "      <th>75%</th>\n",
       "      <th>max</th>\n",
       "    </tr>\n",
       "  </thead>\n",
       "  <tbody>\n",
       "    <tr>\n",
       "      <th>num_orders</th>\n",
       "      <td>26496.0</td>\n",
       "      <td>14.070463</td>\n",
       "      <td>9.21133</td>\n",
       "      <td>0.0</td>\n",
       "      <td>8.0</td>\n",
       "      <td>13.0</td>\n",
       "      <td>19.0</td>\n",
       "      <td>119.0</td>\n",
       "    </tr>\n",
       "  </tbody>\n",
       "</table>\n",
       "</div>"
      ],
      "text/plain": [
       "              count       mean      std  min  25%   50%   75%    max\n",
       "num_orders  26496.0  14.070463  9.21133  0.0  8.0  13.0  19.0  119.0"
      ]
     },
     "execution_count": 6,
     "metadata": {},
     "output_type": "execute_result"
    }
   ],
   "source": [
    "ts.describe().T"
   ]
  },
  {
   "cell_type": "code",
   "execution_count": 7,
   "metadata": {},
   "outputs": [],
   "source": [
    "ts = ts.resample('1H').sum()"
   ]
  },
  {
   "cell_type": "code",
   "execution_count": 8,
   "metadata": {},
   "outputs": [
    {
     "data": {
      "text/plain": [
       "(4416, 1)"
      ]
     },
     "execution_count": 8,
     "metadata": {},
     "output_type": "execute_result"
    }
   ],
   "source": [
    "ts.shape"
   ]
  },
  {
   "cell_type": "markdown",
   "metadata": {},
   "source": [
    "**Выводы**\n",
    "\n",
    "Исходный временной ряд содержит 26496 строк. Строки расположены в хронологическом порядке с `2018-03-01 00:00:00` до `2018-08-31 23:50:00` с интервалом 10 минут. Пропусков и аномальных значений нет. \n",
    "\n",
    "После ресемплирования по одному часу количество строк равно 4416."
   ]
  },
  {
   "cell_type": "markdown",
   "metadata": {},
   "source": [
    "## Анализ"
   ]
  },
  {
   "cell_type": "code",
   "execution_count": 9,
   "metadata": {},
   "outputs": [
    {
     "data": {
      "image/png": "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\n",
      "text/plain": [
       "<Figure size 720x864 with 3 Axes>"
      ]
     },
     "metadata": {
      "needs_background": "light"
     },
     "output_type": "display_data"
    }
   ],
   "source": [
    "decomposed = seasonal_decompose(ts)\n",
    "\n",
    "fig, (ax1, ax2, ax3) = plt.subplots(nrows=3, ncols=1, figsize=(10, 12))\n",
    "\n",
    "ax1.plot(decomposed.trend, label='Тренд')\n",
    "ax1.plot(decomposed.trend.rolling(168).mean(), label='Скользящее среднее (период 168)')\n",
    "ax1.set_title('Тренд')\n",
    "ax1.legend()\n",
    "ax1.grid(True)\n",
    "\n",
    "ax2.plot(decomposed.seasonal['2018-03-01':'2018-03-03'])\n",
    "ax2.set_title('Сезонность для трех дней')\n",
    "ax2.xaxis.set_minor_locator(mdates.HourLocator(interval=1))\n",
    "ax2.grid(True)\n",
    "\n",
    "ax3.plot(decomposed.resid)\n",
    "ax3.set_title('Остатки')\n",
    "ax3.grid(True)\n",
    "\n",
    "fig.tight_layout()\n",
    "\n",
    "plt.show()"
   ]
  },
  {
   "cell_type": "markdown",
   "metadata": {},
   "source": [
    "**Выводы**\n",
    "\n",
    "Для заданного диапазона дат наблюдается:\n",
    "1.\tТенденция роста числа заказов такси от месяца к месяцу.\n",
    "2.\tВнутридневная сезонность: \n",
    "- максимум заказов приходится на 12 ночи;\n",
    "- минимум заказов приходится на 6 утра\n",
    "- с 12 ночи до 6 утра резкое снижение числа заказов; \n",
    "- с 6 утра до 12 ночи плавный рост числа заказов с локальными максимумами в 10 утра и 4 дня и локальными минимумами в 12 и 6 дня.\n",
    "3.\tСамые большие выбросы по остаткам приходятся на август.\n"
   ]
  },
  {
   "cell_type": "markdown",
   "metadata": {},
   "source": [
    "## Обучение"
   ]
  },
  {
   "cell_type": "markdown",
   "metadata": {},
   "source": [
    "### Вспомогательные функции и переменные"
   ]
  },
  {
   "cell_type": "code",
   "execution_count": 10,
   "metadata": {},
   "outputs": [],
   "source": [
    "# функция для расчета метрики RMSE\n",
    "\n",
    "def rmse(y_target, y_pred):\n",
    "    return mean_squared_error(y_target, y_pred)**0.5"
   ]
  },
  {
   "cell_type": "code",
   "execution_count": 11,
   "metadata": {},
   "outputs": [],
   "source": [
    "scorer = make_scorer(rmse, greater_is_better=False)"
   ]
  },
  {
   "cell_type": "code",
   "execution_count": 12,
   "metadata": {},
   "outputs": [],
   "source": [
    "tscv = TimeSeriesSplit(n_splits=3)"
   ]
  },
  {
   "cell_type": "code",
   "execution_count": 13,
   "metadata": {},
   "outputs": [],
   "source": [
    "\"\"\"\n",
    "функция для создания календарных признаков, «отстающих» значений и скользящего среднего и \n",
    "разделения данных на train и test выборки\n",
    "\"\"\"\n",
    "\n",
    "def train_test_prepare(max_lag, rolling_mean_size):\n",
    "    \n",
    "    data = ts.copy()\n",
    "    \n",
    "    data['month'] = data.index.month\n",
    "    data['day'] = data.index.day\n",
    "    data['hour'] = data.index.hour\n",
    "    \n",
    "    for lag in range(1, max_lag + 1):\n",
    "        data[f'lag_{lag}'] = data['num_orders'].shift(lag)\n",
    "\n",
    "    data['rolling_mean'] = data['num_orders'].shift().rolling(rolling_mean_size).mean()\n",
    "    \n",
    "    train, test = train_test_split(data, shuffle=False, test_size=0.1)\n",
    "    train = train.dropna()\n",
    "    \n",
    "    X_train = train.drop('num_orders', axis=1)\n",
    "    y_train = train['num_orders']\n",
    "\n",
    "    X_test = test.drop('num_orders', axis=1)\n",
    "    y_test = test['num_orders']\n",
    "    \n",
    "    return X_train, y_train, X_test, y_test"
   ]
  },
  {
   "cell_type": "code",
   "execution_count": 14,
   "metadata": {},
   "outputs": [],
   "source": [
    "\"\"\"\n",
    "функция для подбора максимального сдвига и окна скользящего среднего \n",
    "без перебора гиперпараметров модели\n",
    "\"\"\"\n",
    "\n",
    "def make_features_without_params_tuning(model):\n",
    "    \n",
    "    res = {}\n",
    "    best_score = -1000\n",
    "    best_lag = 0\n",
    "    best_size = 0\n",
    "    \n",
    "    for lag in lags:\n",
    "        for size in rolling_mean_sizes:\n",
    "            X_train, y_train, X_test, y_test = train_test_prepare(lag, size)\n",
    "            score = cross_val_score(model, X_train, y_train, scoring = scorer, \n",
    "                                    cv=tscv, n_jobs=-1).mean()\n",
    "            if score > best_score:\n",
    "                best_score = score\n",
    "                best_lag = lag\n",
    "                best_size = size\n",
    "    \n",
    "    res['lag'] = best_lag\n",
    "    res['size'] = best_size\n",
    "    res['model'] = model\n",
    "    \n",
    "    print(f'RMSE на кросс-валидации: {best_score:.0f}')\n",
    "    print(f'Максимальный сдвиг: {best_lag}')\n",
    "    print(f'Окно скользящего среднего: {best_size}')\n",
    "    \n",
    "    return res"
   ]
  },
  {
   "cell_type": "code",
   "execution_count": 15,
   "metadata": {},
   "outputs": [],
   "source": [
    "\"\"\"\n",
    "функция для подбора максимального сдвига и окна скользящего среднего \n",
    "с перебором гиперпараметров модели\n",
    "\"\"\"\n",
    "\n",
    "def make_features_with_params_tuning(grid):\n",
    "    \n",
    "    res = {}\n",
    "    best_score = -1000\n",
    "    best_lag = 0\n",
    "    best_size = 0\n",
    "    best_params = None\n",
    "    best_model = None\n",
    "    \n",
    "    for lag in lags:\n",
    "        for size in rolling_mean_sizes:\n",
    "            X_train, y_train, X_test, y_test = train_test_prepare(lag, size)\n",
    "            grid.fit(X_train, y_train)\n",
    "            score = grid.best_score_\n",
    "            if score > best_score:\n",
    "                best_score = score\n",
    "                best_lag = lag\n",
    "                best_size = size\n",
    "                best_params = grid.best_params_\n",
    "                best_model = grid.best_estimator_\n",
    "    \n",
    "    res['lag'] = best_lag\n",
    "    res['size'] = best_size\n",
    "    res['model'] = best_model\n",
    "    \n",
    "    print(f'RMSE на кросс-валидации: {best_score:.0f}')\n",
    "    print(f'Максимальный сдвиг: {best_lag}')\n",
    "    print(f'Окно скользящего среднего: {best_size}')\n",
    "    print(f'Лучшие параметры модели: {best_params}')\n",
    "    \n",
    "    return res"
   ]
  },
  {
   "cell_type": "code",
   "execution_count": 16,
   "metadata": {},
   "outputs": [],
   "source": [
    "# функция для оценки качества модели\n",
    "\n",
    "def model_eval(model_dict):\n",
    "    \n",
    "    X_train, y_train, X_test, y_test = train_test_prepare(model_dict['lag'], model_dict['size'])\n",
    "    \n",
    "    model = model_dict['model']\n",
    "    model.fit(X_train, y_train)\n",
    "    preds = pd.Series(model.predict(X_test), index=y_test.index)\n",
    "    score = rmse(y_test, preds)\n",
    "    \n",
    "    print(f'RMSE на тесте: {score:.0f}')\n",
    "    \n",
    "    fig, ax = plt.subplots(figsize=(10, 4))\n",
    "    \n",
    "    ax.plot(y_test, label='Таргет')\n",
    "    ax.plot(preds, label='Предсказания')\n",
    "    ax.set_title('Предсказания vs Таргет')\n",
    "    ax.set_ylabel('Количество заказов такси')\n",
    "    ax.legend()\n",
    "    \n",
    "    fig.tight_layout()\n",
    "    \n",
    "    plt.show()"
   ]
  },
  {
   "cell_type": "code",
   "execution_count": 17,
   "metadata": {},
   "outputs": [],
   "source": [
    "# набор значений сдвига\n",
    "lags = np.arange(1, 11)\n",
    "\n",
    "# набор значений окна скользящего среднего\n",
    "rolling_mean_sizes = np.array([6, 12, 24])"
   ]
  },
  {
   "cell_type": "markdown",
   "metadata": {},
   "source": [
    "### LinearRegression"
   ]
  },
  {
   "cell_type": "code",
   "execution_count": 18,
   "metadata": {},
   "outputs": [],
   "source": [
    "LR = LinearRegression()"
   ]
  },
  {
   "cell_type": "code",
   "execution_count": 19,
   "metadata": {},
   "outputs": [
    {
     "name": "stdout",
     "output_type": "stream",
     "text": [
      "RMSE на кросс-валидации: -32\n",
      "Максимальный сдвиг: 9\n",
      "Окно скользящего среднего: 24\n"
     ]
    }
   ],
   "source": [
    "LR_dict = make_features_without_params_tuning(LR)"
   ]
  },
  {
   "cell_type": "markdown",
   "metadata": {},
   "source": [
    "### RandomForestRegressor"
   ]
  },
  {
   "cell_type": "code",
   "execution_count": 20,
   "metadata": {},
   "outputs": [],
   "source": [
    "RFR = RandomForestRegressor(max_depth=9, random_state=42)"
   ]
  },
  {
   "cell_type": "code",
   "execution_count": 21,
   "metadata": {},
   "outputs": [],
   "source": [
    "RFR_params_grid = {'n_estimators': np.array([100, 200, 300, 400, 500]),\n",
    "                   'min_samples_split': np.array([31, 65, 127, 255, 511])}"
   ]
  },
  {
   "cell_type": "code",
   "execution_count": 22,
   "metadata": {},
   "outputs": [],
   "source": [
    "RFR_grid = RandomizedSearchCV(RFR, \n",
    "                              RFR_params_grid, \n",
    "                              n_iter=5, \n",
    "                              scoring=scorer, \n",
    "                              cv=tscv,\n",
    "                              verbose=0,\n",
    "                              n_jobs=-1, \n",
    "                              random_state=42)"
   ]
  },
  {
   "cell_type": "code",
   "execution_count": 23,
   "metadata": {},
   "outputs": [
    {
     "name": "stdout",
     "output_type": "stream",
     "text": [
      "RMSE на кросс-валидации: -28\n",
      "Максимальный сдвиг: 1\n",
      "Окно скользящего среднего: 12\n",
      "Лучшие параметры модели: {'n_estimators': 100, 'min_samples_split': 31}\n"
     ]
    }
   ],
   "source": [
    "RFR_dict = make_features_with_params_tuning(RFR_grid)"
   ]
  },
  {
   "cell_type": "markdown",
   "metadata": {},
   "source": [
    "### CatBoostRegressor"
   ]
  },
  {
   "cell_type": "code",
   "execution_count": 24,
   "metadata": {},
   "outputs": [],
   "source": [
    "CBR = CatBoostRegressor(loss_function='RMSE', \n",
    "                        verbose=False,\n",
    "                        random_state=42,\n",
    "                        early_stopping_rounds=200)"
   ]
  },
  {
   "cell_type": "code",
   "execution_count": 25,
   "metadata": {},
   "outputs": [],
   "source": [
    "CBR_params_grid = {'learning_rate': np.linspace(0.01, 0.05, num=5)}"
   ]
  },
  {
   "cell_type": "code",
   "execution_count": 26,
   "metadata": {},
   "outputs": [],
   "source": [
    "CBR_grid = GridSearchCV(CBR, \n",
    "                        CBR_params_grid, \n",
    "                        scoring=scorer, \n",
    "                        cv=tscv,\n",
    "                        verbose=0,\n",
    "                        n_jobs=-1)"
   ]
  },
  {
   "cell_type": "code",
   "execution_count": 27,
   "metadata": {},
   "outputs": [
    {
     "name": "stdout",
     "output_type": "stream",
     "text": [
      "RMSE на кросс-валидации: -26\n",
      "Максимальный сдвиг: 2\n",
      "Окно скользящего среднего: 12\n",
      "Лучшие параметры модели: {'learning_rate': 0.02}\n"
     ]
    }
   ],
   "source": [
    "CBR_dict = make_features_with_params_tuning(CBR_grid)"
   ]
  },
  {
   "cell_type": "markdown",
   "metadata": {},
   "source": [
    "### Выводы"
   ]
  },
  {
   "cell_type": "markdown",
   "metadata": {},
   "source": [
    "Для модели `LinearRegression` потери `RMSE` на кросс-валидации равны **`-32`** заказа при `max_lag = 9` и `rolling_mean_size = 24`.\n",
    "\n",
    "Для лучшей модели `RandomForestRegressor` с параметрами `n_estimators = 100`, `max_depth = 9` и `min_samples_split = 31` потери `RMSE` на кросс-валидации равны **`-28`** заказов при `max_lag = 1` и `rolling_mean_size = 12`.\n",
    "\n",
    "Для лучшей модели `CatBoostRegressor` с параметром `learning_rate = 0.02` потери `RMSE` на кросс-валидации равны **`-26`** заказов при `max_lag = 2` и `rolling_mean_size = 12`."
   ]
  },
  {
   "cell_type": "markdown",
   "metadata": {},
   "source": [
    "## Тестирование"
   ]
  },
  {
   "cell_type": "markdown",
   "metadata": {},
   "source": [
    "### LinearRegression"
   ]
  },
  {
   "cell_type": "code",
   "execution_count": 28,
   "metadata": {},
   "outputs": [
    {
     "name": "stdout",
     "output_type": "stream",
     "text": [
      "RMSE на тесте: 51\n"
     ]
    },
    {
     "data": {
      "image/png": "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\n",
      "text/plain": [
       "<Figure size 720x288 with 1 Axes>"
      ]
     },
     "metadata": {
      "needs_background": "light"
     },
     "output_type": "display_data"
    }
   ],
   "source": [
    "model_eval(LR_dict)"
   ]
  },
  {
   "cell_type": "markdown",
   "metadata": {},
   "source": [
    "### RandomForestRegressor"
   ]
  },
  {
   "cell_type": "code",
   "execution_count": 29,
   "metadata": {},
   "outputs": [
    {
     "name": "stdout",
     "output_type": "stream",
     "text": [
      "RMSE на тесте: 46\n"
     ]
    },
    {
     "data": {
      "image/png": "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\n",
      "text/plain": [
       "<Figure size 720x288 with 1 Axes>"
      ]
     },
     "metadata": {
      "needs_background": "light"
     },
     "output_type": "display_data"
    }
   ],
   "source": [
    "model_eval(RFR_dict)"
   ]
  },
  {
   "cell_type": "markdown",
   "metadata": {},
   "source": [
    "### CatBoostRegressor"
   ]
  },
  {
   "cell_type": "code",
   "execution_count": 30,
   "metadata": {},
   "outputs": [
    {
     "name": "stdout",
     "output_type": "stream",
     "text": [
      "RMSE на тесте: 45\n"
     ]
    },
    {
     "data": {
      "image/png": "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\n",
      "text/plain": [
       "<Figure size 720x288 with 1 Axes>"
      ]
     },
     "metadata": {
      "needs_background": "light"
     },
     "output_type": "display_data"
    }
   ],
   "source": [
    "model_eval(CBR_dict)"
   ]
  },
  {
   "cell_type": "markdown",
   "metadata": {},
   "source": [
    "### Выводы"
   ]
  },
  {
   "cell_type": "markdown",
   "metadata": {},
   "source": [
    "Сравнение качества моделей показало, что минимальное `RMSE` на тесте равно **`45`** заказов для модели `CatBoostRegressor` с параметром `learning_rate = 0.02` и параметрами фичей `max_lag = 2` и `rolling_mean_size = 12`."
   ]
  }
 ],
 "metadata": {
  "ExecuteTimeLog": [
   {
    "duration": 413,
    "start_time": "2022-06-21T12:26:24.486Z"
   },
   {
    "duration": 121,
    "start_time": "2022-06-21T12:27:14.985Z"
   },
   {
    "duration": 46,
    "start_time": "2022-06-21T12:31:46.739Z"
   },
   {
    "duration": 13,
    "start_time": "2022-06-21T12:31:54.292Z"
   },
   {
    "duration": 41,
    "start_time": "2022-06-21T12:32:35.580Z"
   },
   {
    "duration": 7,
    "start_time": "2022-06-21T12:32:36.443Z"
   },
   {
    "duration": 7,
    "start_time": "2022-06-21T12:33:03.503Z"
   },
   {
    "duration": 9,
    "start_time": "2022-06-21T12:33:11.779Z"
   },
   {
    "duration": 23,
    "start_time": "2022-06-21T12:33:36.342Z"
   },
   {
    "duration": 4,
    "start_time": "2022-06-21T12:36:07.474Z"
   },
   {
    "duration": 10,
    "start_time": "2022-06-21T12:37:19.465Z"
   },
   {
    "duration": 41,
    "start_time": "2022-06-21T12:37:32.767Z"
   },
   {
    "duration": 6,
    "start_time": "2022-06-21T12:37:32.810Z"
   },
   {
    "duration": 3,
    "start_time": "2022-06-21T12:37:32.969Z"
   },
   {
    "duration": 8,
    "start_time": "2022-06-21T12:37:33.326Z"
   },
   {
    "duration": 14,
    "start_time": "2022-06-21T12:37:33.825Z"
   },
   {
    "duration": 7,
    "start_time": "2022-06-21T12:37:34.495Z"
   },
   {
    "duration": 11,
    "start_time": "2022-06-21T12:37:42.461Z"
   },
   {
    "duration": 66,
    "start_time": "2022-06-21T12:37:58.440Z"
   },
   {
    "duration": 6,
    "start_time": "2022-06-21T12:38:06.162Z"
   },
   {
    "duration": 3,
    "start_time": "2022-06-21T12:38:08.416Z"
   },
   {
    "duration": 518,
    "start_time": "2022-06-21T12:38:56.266Z"
   },
   {
    "duration": 21,
    "start_time": "2022-06-21T12:42:17.066Z"
   },
   {
    "duration": 3,
    "start_time": "2022-06-21T12:42:35.222Z"
   },
   {
    "duration": 359,
    "start_time": "2022-06-21T12:42:39.039Z"
   },
   {
    "duration": 304,
    "start_time": "2022-06-21T12:42:45.016Z"
   },
   {
    "duration": 281,
    "start_time": "2022-06-21T12:43:22.564Z"
   },
   {
    "duration": 246,
    "start_time": "2022-06-21T12:44:12.968Z"
   },
   {
    "duration": 281,
    "start_time": "2022-06-21T12:44:30.287Z"
   },
   {
    "duration": 301,
    "start_time": "2022-06-21T12:46:42.707Z"
   },
   {
    "duration": 274,
    "start_time": "2022-06-21T12:47:15.190Z"
   },
   {
    "duration": 276,
    "start_time": "2022-06-21T12:47:48.032Z"
   },
   {
    "duration": 102,
    "start_time": "2022-06-21T12:48:13.063Z"
   },
   {
    "duration": 260,
    "start_time": "2022-06-21T12:48:18.342Z"
   },
   {
    "duration": 361,
    "start_time": "2022-06-21T12:50:54.976Z"
   },
   {
    "duration": 487,
    "start_time": "2022-06-21T12:51:03.980Z"
   },
   {
    "duration": 596,
    "start_time": "2022-06-21T12:52:09.181Z"
   },
   {
    "duration": 620,
    "start_time": "2022-06-21T12:54:46.565Z"
   },
   {
    "duration": 563,
    "start_time": "2022-06-21T12:55:00.182Z"
   },
   {
    "duration": 482,
    "start_time": "2022-06-21T12:55:29.629Z"
   },
   {
    "duration": 541,
    "start_time": "2022-06-21T12:55:57.147Z"
   },
   {
    "duration": 525,
    "start_time": "2022-06-21T12:56:07.648Z"
   },
   {
    "duration": 369,
    "start_time": "2022-06-21T12:57:20.700Z"
   },
   {
    "duration": 14,
    "start_time": "2022-06-21T12:58:00.552Z"
   },
   {
    "duration": 668,
    "start_time": "2022-06-21T12:58:46.303Z"
   },
   {
    "duration": 344,
    "start_time": "2022-06-21T12:59:17.417Z"
   },
   {
    "duration": 548,
    "start_time": "2022-06-21T12:59:23.166Z"
   },
   {
    "duration": 602,
    "start_time": "2022-06-21T13:00:27.337Z"
   },
   {
    "duration": 192,
    "start_time": "2022-06-21T13:00:46.582Z"
   },
   {
    "duration": 582,
    "start_time": "2022-06-21T13:02:43.238Z"
   },
   {
    "duration": 202,
    "start_time": "2022-06-21T13:05:24.497Z"
   },
   {
    "duration": 184,
    "start_time": "2022-06-21T13:09:10.549Z"
   },
   {
    "duration": 206,
    "start_time": "2022-06-21T13:12:27.586Z"
   },
   {
    "duration": 308,
    "start_time": "2022-06-21T13:12:35.117Z"
   },
   {
    "duration": 139,
    "start_time": "2022-06-21T13:13:08.790Z"
   },
   {
    "duration": 240,
    "start_time": "2022-06-21T13:13:15.778Z"
   },
   {
    "duration": 283,
    "start_time": "2022-06-21T13:14:13.941Z"
   },
   {
    "duration": 3,
    "start_time": "2022-06-21T13:16:41.108Z"
   },
   {
    "duration": 4,
    "start_time": "2022-06-21T13:17:03.021Z"
   },
   {
    "duration": 5,
    "start_time": "2022-06-21T13:17:13.793Z"
   },
   {
    "duration": 343,
    "start_time": "2022-06-21T13:17:30.186Z"
   },
   {
    "duration": 367,
    "start_time": "2022-06-21T13:18:16.243Z"
   },
   {
    "duration": 361,
    "start_time": "2022-06-21T13:18:21.925Z"
   },
   {
    "duration": 407,
    "start_time": "2022-06-21T13:18:28.557Z"
   },
   {
    "duration": 354,
    "start_time": "2022-06-21T13:18:35.583Z"
   },
   {
    "duration": 280,
    "start_time": "2022-06-21T13:18:47.604Z"
   },
   {
    "duration": 334,
    "start_time": "2022-06-21T13:18:54.815Z"
   },
   {
    "duration": 285,
    "start_time": "2022-06-21T13:19:32.000Z"
   },
   {
    "duration": 343,
    "start_time": "2022-06-21T13:19:54.429Z"
   },
   {
    "duration": 293,
    "start_time": "2022-06-21T13:24:18.570Z"
   },
   {
    "duration": 316,
    "start_time": "2022-06-21T13:24:50.913Z"
   },
   {
    "duration": 297,
    "start_time": "2022-06-21T13:24:58.412Z"
   },
   {
    "duration": 327,
    "start_time": "2022-06-21T13:26:50.300Z"
   },
   {
    "duration": 211,
    "start_time": "2022-06-21T13:29:03.492Z"
   },
   {
    "duration": 92,
    "start_time": "2022-06-21T13:29:14.990Z"
   },
   {
    "duration": 217,
    "start_time": "2022-06-21T13:29:19.321Z"
   },
   {
    "duration": 229,
    "start_time": "2022-06-21T13:29:53.663Z"
   },
   {
    "duration": 338,
    "start_time": "2022-06-21T13:30:10.303Z"
   },
   {
    "duration": 341,
    "start_time": "2022-06-21T13:30:51.900Z"
   },
   {
    "duration": 326,
    "start_time": "2022-06-21T13:31:02.110Z"
   },
   {
    "duration": 498,
    "start_time": "2022-06-21T13:31:13.721Z"
   },
   {
    "duration": 208,
    "start_time": "2022-06-21T13:31:39.530Z"
   },
   {
    "duration": 339,
    "start_time": "2022-06-21T13:31:45.286Z"
   },
   {
    "duration": 382,
    "start_time": "2022-06-21T13:31:52.930Z"
   },
   {
    "duration": 8,
    "start_time": "2022-06-21T13:32:07.994Z"
   },
   {
    "duration": 331,
    "start_time": "2022-06-21T13:32:18.606Z"
   },
   {
    "duration": 344,
    "start_time": "2022-06-21T13:32:24.892Z"
   },
   {
    "duration": 279,
    "start_time": "2022-06-21T13:32:41.590Z"
   },
   {
    "duration": 6,
    "start_time": "2022-06-21T13:36:43.673Z"
   },
   {
    "duration": 5,
    "start_time": "2022-06-21T13:36:53.541Z"
   },
   {
    "duration": 11,
    "start_time": "2022-06-21T13:37:16.789Z"
   },
   {
    "duration": 7,
    "start_time": "2022-06-21T13:37:30.479Z"
   },
   {
    "duration": 8,
    "start_time": "2022-06-21T13:38:00.866Z"
   },
   {
    "duration": 4,
    "start_time": "2022-06-21T13:38:08.605Z"
   },
   {
    "duration": 107,
    "start_time": "2022-06-21T13:38:50.389Z"
   },
   {
    "duration": 390,
    "start_time": "2022-06-21T13:38:59.993Z"
   },
   {
    "duration": 269,
    "start_time": "2022-06-21T13:39:08.740Z"
   },
   {
    "duration": 322,
    "start_time": "2022-06-21T13:39:14.430Z"
   },
   {
    "duration": 1551,
    "start_time": "2022-06-21T13:39:50.723Z"
   },
   {
    "duration": 297,
    "start_time": "2022-06-21T13:40:09.544Z"
   },
   {
    "duration": 360,
    "start_time": "2022-06-21T13:40:15.833Z"
   },
   {
    "duration": 363,
    "start_time": "2022-06-21T13:40:23.638Z"
   },
   {
    "duration": 322,
    "start_time": "2022-06-21T13:40:57.789Z"
   },
   {
    "duration": 525,
    "start_time": "2022-06-21T13:42:02.788Z"
   },
   {
    "duration": 889,
    "start_time": "2022-06-21T13:42:16.150Z"
   },
   {
    "duration": 49,
    "start_time": "2022-06-21T13:42:23.689Z"
   },
   {
    "duration": 360,
    "start_time": "2022-06-21T13:42:29.130Z"
   },
   {
    "duration": 329,
    "start_time": "2022-06-21T13:42:34.098Z"
   },
   {
    "duration": 350,
    "start_time": "2022-06-21T13:42:44.097Z"
   },
   {
    "duration": 1099,
    "start_time": "2022-06-21T13:43:43.985Z"
   },
   {
    "duration": 3,
    "start_time": "2022-06-21T13:44:13.622Z"
   },
   {
    "duration": 396,
    "start_time": "2022-06-21T13:44:19.686Z"
   },
   {
    "duration": 16,
    "start_time": "2022-06-21T13:44:50.167Z"
   },
   {
    "duration": 4,
    "start_time": "2022-06-21T13:44:50.597Z"
   },
   {
    "duration": 4,
    "start_time": "2022-06-21T13:44:59.414Z"
   },
   {
    "duration": 4,
    "start_time": "2022-06-21T13:45:00.586Z"
   },
   {
    "duration": 426,
    "start_time": "2022-06-21T13:45:03.357Z"
   },
   {
    "duration": 454,
    "start_time": "2022-06-21T13:45:19.475Z"
   },
   {
    "duration": 491,
    "start_time": "2022-06-21T13:45:31.690Z"
   },
   {
    "duration": 317,
    "start_time": "2022-06-21T13:45:40.490Z"
   },
   {
    "duration": 8,
    "start_time": "2022-06-21T13:47:21.998Z"
   },
   {
    "duration": 9,
    "start_time": "2022-06-21T13:47:30.306Z"
   },
   {
    "duration": 6,
    "start_time": "2022-06-21T13:47:50.386Z"
   },
   {
    "duration": 206,
    "start_time": "2022-06-21T13:49:50.039Z"
   },
   {
    "duration": 360,
    "start_time": "2022-06-21T13:50:00.736Z"
   },
   {
    "duration": 4,
    "start_time": "2022-06-21T13:50:20.238Z"
   },
   {
    "duration": 270,
    "start_time": "2022-06-21T13:50:31.751Z"
   },
   {
    "duration": 4,
    "start_time": "2022-06-21T13:50:34.563Z"
   },
   {
    "duration": 293,
    "start_time": "2022-06-21T13:51:07.232Z"
   },
   {
    "duration": 183,
    "start_time": "2022-06-21T13:51:19.162Z"
   },
   {
    "duration": 366,
    "start_time": "2022-06-21T13:51:57.917Z"
   },
   {
    "duration": 190,
    "start_time": "2022-06-21T13:53:10.640Z"
   },
   {
    "duration": 5,
    "start_time": "2022-06-21T13:53:19.085Z"
   },
   {
    "duration": 194,
    "start_time": "2022-06-21T13:53:31.299Z"
   },
   {
    "duration": 3,
    "start_time": "2022-06-21T13:53:41.585Z"
   },
   {
    "duration": 175,
    "start_time": "2022-06-21T13:54:07.104Z"
   },
   {
    "duration": 312,
    "start_time": "2022-06-21T13:54:16.497Z"
   },
   {
    "duration": 13,
    "start_time": "2022-06-21T13:55:57.334Z"
   },
   {
    "duration": 10,
    "start_time": "2022-06-21T13:56:09.695Z"
   },
   {
    "duration": 305,
    "start_time": "2022-06-21T13:56:20.219Z"
   },
   {
    "duration": 315,
    "start_time": "2022-06-21T13:56:26.699Z"
   },
   {
    "duration": 322,
    "start_time": "2022-06-21T13:56:36.934Z"
   },
   {
    "duration": 270,
    "start_time": "2022-06-21T14:03:36.127Z"
   },
   {
    "duration": 3,
    "start_time": "2022-06-21T14:04:00.501Z"
   },
   {
    "duration": 3,
    "start_time": "2022-06-21T14:04:01.009Z"
   },
   {
    "duration": 4,
    "start_time": "2022-06-21T14:08:42.484Z"
   },
   {
    "duration": 6,
    "start_time": "2022-06-21T14:10:37.341Z"
   },
   {
    "duration": 11,
    "start_time": "2022-06-21T14:11:31.246Z"
   },
   {
    "duration": 5,
    "start_time": "2022-06-21T14:11:37.242Z"
   },
   {
    "duration": 19,
    "start_time": "2022-06-21T14:12:09.576Z"
   },
   {
    "duration": 23,
    "start_time": "2022-06-21T14:12:17.082Z"
   },
   {
    "duration": 4,
    "start_time": "2022-06-21T14:13:59.625Z"
   },
   {
    "duration": 14,
    "start_time": "2022-06-21T14:14:00.567Z"
   },
   {
    "duration": 25,
    "start_time": "2022-06-21T14:14:01.376Z"
   },
   {
    "duration": 663,
    "start_time": "2022-06-21T14:19:12.749Z"
   },
   {
    "duration": 340,
    "start_time": "2022-06-21T14:19:25.716Z"
   },
   {
    "duration": 767,
    "start_time": "2022-06-21T14:21:05.933Z"
   },
   {
    "duration": 618,
    "start_time": "2022-06-21T14:22:10.966Z"
   },
   {
    "duration": 591,
    "start_time": "2022-06-21T14:22:32.702Z"
   },
   {
    "duration": 827,
    "start_time": "2022-06-21T14:25:36.716Z"
   },
   {
    "duration": 186,
    "start_time": "2022-06-21T14:25:51.715Z"
   },
   {
    "duration": 248,
    "start_time": "2022-06-21T14:26:20.490Z"
   },
   {
    "duration": 199,
    "start_time": "2022-06-21T14:26:26.237Z"
   },
   {
    "duration": 259,
    "start_time": "2022-06-21T14:27:01.605Z"
   },
   {
    "duration": 246,
    "start_time": "2022-06-21T14:27:15.320Z"
   },
   {
    "duration": 173,
    "start_time": "2022-06-21T14:27:42.367Z"
   },
   {
    "duration": 362,
    "start_time": "2022-06-21T14:27:55.819Z"
   },
   {
    "duration": 207,
    "start_time": "2022-06-21T14:28:03.010Z"
   },
   {
    "duration": 195,
    "start_time": "2022-06-21T14:28:08.400Z"
   },
   {
    "duration": 202,
    "start_time": "2022-06-21T14:28:45.293Z"
   },
   {
    "duration": 209,
    "start_time": "2022-06-21T14:28:55.327Z"
   },
   {
    "duration": 333,
    "start_time": "2022-06-21T14:29:08.370Z"
   },
   {
    "duration": 209,
    "start_time": "2022-06-21T14:29:33.890Z"
   },
   {
    "duration": 342,
    "start_time": "2022-06-21T14:29:37.923Z"
   },
   {
    "duration": 500,
    "start_time": "2022-06-21T14:29:54.711Z"
   },
   {
    "duration": 520,
    "start_time": "2022-06-21T14:30:06.449Z"
   },
   {
    "duration": 242,
    "start_time": "2022-06-21T14:31:12.144Z"
   },
   {
    "duration": 569,
    "start_time": "2022-06-21T14:32:40.793Z"
   },
   {
    "duration": 586,
    "start_time": "2022-06-21T14:33:35.103Z"
   },
   {
    "duration": 10,
    "start_time": "2022-06-21T14:36:02.428Z"
   },
   {
    "duration": 14,
    "start_time": "2022-06-21T14:36:14.664Z"
   },
   {
    "duration": 14,
    "start_time": "2022-06-21T14:36:18.738Z"
   },
   {
    "duration": 16,
    "start_time": "2022-06-21T14:36:22.752Z"
   },
   {
    "duration": 16,
    "start_time": "2022-06-21T14:36:30.552Z"
   },
   {
    "duration": 14,
    "start_time": "2022-06-21T14:36:40.577Z"
   },
   {
    "duration": 4,
    "start_time": "2022-06-21T14:37:54.707Z"
   },
   {
    "duration": 3,
    "start_time": "2022-06-21T14:47:08.714Z"
   },
   {
    "duration": 3,
    "start_time": "2022-06-21T14:50:27.096Z"
   },
   {
    "duration": 2,
    "start_time": "2022-06-21T14:53:22.224Z"
   },
   {
    "duration": 4,
    "start_time": "2022-06-21T14:53:32.049Z"
   },
   {
    "duration": 3,
    "start_time": "2022-06-21T14:53:52.212Z"
   },
   {
    "duration": 4,
    "start_time": "2022-06-21T14:53:52.738Z"
   },
   {
    "duration": 3,
    "start_time": "2022-06-21T14:54:11.918Z"
   },
   {
    "duration": 4,
    "start_time": "2022-06-21T14:54:13.136Z"
   },
   {
    "duration": 3,
    "start_time": "2022-06-21T14:55:42.812Z"
   },
   {
    "duration": 4,
    "start_time": "2022-06-21T14:55:54.877Z"
   },
   {
    "duration": 2,
    "start_time": "2022-06-21T14:56:00.313Z"
   },
   {
    "duration": 4,
    "start_time": "2022-06-21T14:56:00.701Z"
   },
   {
    "duration": 4,
    "start_time": "2022-06-21T14:56:09.599Z"
   },
   {
    "duration": 3,
    "start_time": "2022-06-21T15:02:03.298Z"
   },
   {
    "duration": 4,
    "start_time": "2022-06-21T15:03:46.667Z"
   },
   {
    "duration": 28,
    "start_time": "2022-06-21T15:04:15.226Z"
   },
   {
    "duration": 3,
    "start_time": "2022-06-21T15:04:38.915Z"
   },
   {
    "duration": 28,
    "start_time": "2022-06-21T15:04:57.498Z"
   },
   {
    "duration": 4,
    "start_time": "2022-06-21T15:05:08.042Z"
   },
   {
    "duration": 2,
    "start_time": "2022-06-21T15:05:08.680Z"
   },
   {
    "duration": 4425,
    "start_time": "2022-06-21T15:05:09.236Z"
   },
   {
    "duration": 81,
    "start_time": "2022-06-21T15:06:10.277Z"
   },
   {
    "duration": 2,
    "start_time": "2022-06-21T15:06:58.129Z"
   },
   {
    "duration": 133313,
    "start_time": "2022-06-21T15:07:08.560Z"
   },
   {
    "duration": 13,
    "start_time": "2022-06-21T15:14:44.292Z"
   },
   {
    "duration": 76,
    "start_time": "2022-06-21T15:14:48.087Z"
   },
   {
    "duration": 3,
    "start_time": "2022-06-21T15:14:56.696Z"
   },
   {
    "duration": 85152,
    "start_time": "2022-06-21T15:15:14.383Z"
   },
   {
    "duration": 3,
    "start_time": "2022-06-21T15:18:11.673Z"
   },
   {
    "duration": 4,
    "start_time": "2022-06-21T15:18:54.446Z"
   },
   {
    "duration": 4,
    "start_time": "2022-06-21T15:19:35.476Z"
   },
   {
    "duration": 14,
    "start_time": "2022-06-21T15:20:47.387Z"
   },
   {
    "duration": 24439,
    "start_time": "2022-06-21T15:21:01.839Z"
   },
   {
    "duration": 3,
    "start_time": "2022-06-21T15:21:35.637Z"
   },
   {
    "duration": 3,
    "start_time": "2022-06-21T15:22:43.220Z"
   },
   {
    "duration": 123029,
    "start_time": "2022-06-21T15:22:43.979Z"
   },
   {
    "duration": 4,
    "start_time": "2022-06-21T15:25:14.017Z"
   },
   {
    "duration": 3,
    "start_time": "2022-06-21T15:25:14.437Z"
   },
   {
    "duration": 16,
    "start_time": "2022-06-21T15:25:14.910Z"
   },
   {
    "duration": 25466,
    "start_time": "2022-06-21T15:25:15.542Z"
   },
   {
    "duration": 3,
    "start_time": "2022-06-21T15:25:44.117Z"
   },
   {
    "duration": 8,
    "start_time": "2022-06-22T02:55:13.306Z"
   },
   {
    "duration": 1489,
    "start_time": "2022-06-22T03:06:30.499Z"
   },
   {
    "duration": 132,
    "start_time": "2022-06-22T03:06:31.990Z"
   },
   {
    "duration": 12,
    "start_time": "2022-06-22T03:06:32.124Z"
   },
   {
    "duration": 4,
    "start_time": "2022-06-22T03:06:32.355Z"
   },
   {
    "duration": 11,
    "start_time": "2022-06-22T03:06:33.019Z"
   },
   {
    "duration": 17,
    "start_time": "2022-06-22T03:06:33.483Z"
   },
   {
    "duration": 9,
    "start_time": "2022-06-22T03:06:33.883Z"
   },
   {
    "duration": 3,
    "start_time": "2022-06-22T03:06:34.447Z"
   },
   {
    "duration": 95,
    "start_time": "2022-06-22T04:19:57.692Z"
   },
   {
    "duration": 662,
    "start_time": "2022-06-22T04:20:02.409Z"
   },
   {
    "duration": 5,
    "start_time": "2022-06-22T04:20:03.199Z"
   },
   {
    "duration": 6,
    "start_time": "2022-06-22T04:20:16.441Z"
   },
   {
    "duration": 7,
    "start_time": "2022-06-22T04:20:22.858Z"
   },
   {
    "duration": 252,
    "start_time": "2022-06-22T04:20:28.336Z"
   },
   {
    "duration": 187,
    "start_time": "2022-06-22T04:20:56.660Z"
   },
   {
    "duration": 158,
    "start_time": "2022-06-22T04:22:29.437Z"
   },
   {
    "duration": 164,
    "start_time": "2022-06-22T04:24:58.955Z"
   },
   {
    "duration": 157,
    "start_time": "2022-06-22T04:25:23.744Z"
   },
   {
    "duration": 520,
    "start_time": "2022-06-22T04:25:53.505Z"
   },
   {
    "duration": 603,
    "start_time": "2022-06-22T04:28:15.458Z"
   },
   {
    "duration": 294,
    "start_time": "2022-06-22T04:28:32.104Z"
   },
   {
    "duration": 577,
    "start_time": "2022-06-22T04:28:41.080Z"
   },
   {
    "duration": 600,
    "start_time": "2022-06-22T04:28:51.099Z"
   },
   {
    "duration": 610,
    "start_time": "2022-06-22T04:29:17.198Z"
   },
   {
    "duration": 316,
    "start_time": "2022-06-22T04:39:52.360Z"
   },
   {
    "duration": 432,
    "start_time": "2022-06-22T04:40:01.150Z"
   },
   {
    "duration": 574,
    "start_time": "2022-06-22T04:40:10.865Z"
   },
   {
    "duration": 4,
    "start_time": "2022-06-22T04:40:19.372Z"
   },
   {
    "duration": 575,
    "start_time": "2022-06-22T04:41:31.349Z"
   },
   {
    "duration": 4,
    "start_time": "2022-06-22T04:41:35.405Z"
   },
   {
    "duration": 601,
    "start_time": "2022-06-22T04:42:03.858Z"
   },
   {
    "duration": 636,
    "start_time": "2022-06-22T04:42:31.237Z"
   },
   {
    "duration": 417,
    "start_time": "2022-06-22T04:43:34.423Z"
   },
   {
    "duration": 672,
    "start_time": "2022-06-22T04:44:02.445Z"
   },
   {
    "duration": 571,
    "start_time": "2022-06-22T04:44:13.648Z"
   },
   {
    "duration": 360,
    "start_time": "2022-06-22T04:46:41.311Z"
   },
   {
    "duration": 362,
    "start_time": "2022-06-22T04:49:04.060Z"
   },
   {
    "duration": 372,
    "start_time": "2022-06-22T04:49:58.343Z"
   },
   {
    "duration": 4,
    "start_time": "2022-06-22T04:51:47.685Z"
   },
   {
    "duration": 585,
    "start_time": "2022-06-22T04:51:52.731Z"
   },
   {
    "duration": 590,
    "start_time": "2022-06-22T04:53:00.256Z"
   },
   {
    "duration": 669,
    "start_time": "2022-06-22T04:53:11.919Z"
   },
   {
    "duration": 737,
    "start_time": "2022-06-22T04:56:55.123Z"
   },
   {
    "duration": 750,
    "start_time": "2022-06-22T04:57:22.682Z"
   },
   {
    "duration": 759,
    "start_time": "2022-06-22T04:58:41.928Z"
   },
   {
    "duration": 851,
    "start_time": "2022-06-22T04:59:10.461Z"
   },
   {
    "duration": 925,
    "start_time": "2022-06-22T05:33:17.871Z"
   },
   {
    "duration": 800,
    "start_time": "2022-06-22T05:34:43.294Z"
   },
   {
    "duration": 791,
    "start_time": "2022-06-22T05:35:40.110Z"
   },
   {
    "duration": 884,
    "start_time": "2022-06-22T05:36:29.024Z"
   },
   {
    "duration": 3,
    "start_time": "2022-06-22T05:42:10.476Z"
   },
   {
    "duration": 2,
    "start_time": "2022-06-22T05:42:10.902Z"
   },
   {
    "duration": 2,
    "start_time": "2022-06-22T05:42:11.288Z"
   },
   {
    "duration": 5,
    "start_time": "2022-06-22T05:42:11.801Z"
   },
   {
    "duration": 4,
    "start_time": "2022-06-22T05:42:13.313Z"
   },
   {
    "duration": 3,
    "start_time": "2022-06-22T05:44:36.376Z"
   },
   {
    "duration": 2,
    "start_time": "2022-06-22T05:44:39.152Z"
   },
   {
    "duration": 4,
    "start_time": "2022-06-22T05:45:16.397Z"
   },
   {
    "duration": 6319,
    "start_time": "2022-06-22T05:45:34.914Z"
   },
   {
    "duration": 4,
    "start_time": "2022-06-22T05:46:09.443Z"
   },
   {
    "duration": 7154,
    "start_time": "2022-06-22T05:46:14.093Z"
   },
   {
    "duration": 3,
    "start_time": "2022-06-22T05:46:43.462Z"
   },
   {
    "duration": 6739,
    "start_time": "2022-06-22T05:46:46.495Z"
   },
   {
    "duration": 4,
    "start_time": "2022-06-22T05:47:08.483Z"
   },
   {
    "duration": 5790,
    "start_time": "2022-06-22T05:47:10.851Z"
   },
   {
    "duration": 5,
    "start_time": "2022-06-22T05:48:25.942Z"
   },
   {
    "duration": 6366,
    "start_time": "2022-06-22T05:48:29.385Z"
   },
   {
    "duration": 4,
    "start_time": "2022-06-22T05:50:20.113Z"
   },
   {
    "duration": 6025,
    "start_time": "2022-06-22T05:50:47.708Z"
   },
   {
    "duration": 3,
    "start_time": "2022-06-22T10:07:20.229Z"
   },
   {
    "duration": 3,
    "start_time": "2022-06-22T10:07:23.936Z"
   },
   {
    "duration": 4,
    "start_time": "2022-06-22T10:07:32.394Z"
   },
   {
    "duration": 6,
    "start_time": "2022-06-22T10:10:24.716Z"
   },
   {
    "duration": 3,
    "start_time": "2022-06-22T10:10:35.806Z"
   },
   {
    "duration": 3,
    "start_time": "2022-06-22T10:10:39.643Z"
   },
   {
    "duration": 10,
    "start_time": "2022-06-22T10:10:41.001Z"
   },
   {
    "duration": 11,
    "start_time": "2022-06-22T10:10:50.706Z"
   },
   {
    "duration": 2,
    "start_time": "2022-06-22T10:11:18.909Z"
   },
   {
    "duration": 1115542,
    "start_time": "2022-06-22T10:11:21.074Z"
   },
   {
    "duration": 4,
    "start_time": "2022-06-22T10:32:49.115Z"
   },
   {
    "duration": 2,
    "start_time": "2022-06-22T10:34:11.322Z"
   },
   {
    "duration": 3,
    "start_time": "2022-06-22T10:45:40.788Z"
   },
   {
    "duration": 210,
    "start_time": "2022-06-22T10:46:25.226Z"
   },
   {
    "duration": 4,
    "start_time": "2022-06-22T10:47:55.318Z"
   },
   {
    "duration": 40,
    "start_time": "2022-06-22T10:47:59.143Z"
   },
   {
    "duration": 2729,
    "start_time": "2022-06-22T10:48:22.478Z"
   },
   {
    "duration": 5,
    "start_time": "2022-06-22T12:00:52.990Z"
   },
   {
    "duration": 3,
    "start_time": "2022-06-22T12:01:01.490Z"
   },
   {
    "duration": 71,
    "start_time": "2022-06-22T12:01:01.503Z"
   },
   {
    "duration": 6,
    "start_time": "2022-06-22T12:01:01.576Z"
   },
   {
    "duration": 12,
    "start_time": "2022-06-22T12:01:01.584Z"
   },
   {
    "duration": 14,
    "start_time": "2022-06-22T12:01:01.598Z"
   },
   {
    "duration": 33,
    "start_time": "2022-06-22T12:01:01.615Z"
   },
   {
    "duration": 8,
    "start_time": "2022-06-22T12:01:01.651Z"
   },
   {
    "duration": 11,
    "start_time": "2022-06-22T12:01:01.661Z"
   },
   {
    "duration": 842,
    "start_time": "2022-06-22T12:01:01.674Z"
   },
   {
    "duration": 3,
    "start_time": "2022-06-22T12:01:02.517Z"
   },
   {
    "duration": 7,
    "start_time": "2022-06-22T12:01:02.522Z"
   },
   {
    "duration": 4,
    "start_time": "2022-06-22T12:01:02.530Z"
   },
   {
    "duration": 6,
    "start_time": "2022-06-22T12:01:02.536Z"
   },
   {
    "duration": 6,
    "start_time": "2022-06-22T12:01:02.543Z"
   },
   {
    "duration": 7,
    "start_time": "2022-06-22T12:01:02.553Z"
   },
   {
    "duration": 9,
    "start_time": "2022-06-22T12:01:02.562Z"
   },
   {
    "duration": 7,
    "start_time": "2022-06-22T12:01:02.573Z"
   },
   {
    "duration": 16,
    "start_time": "2022-06-22T12:01:02.582Z"
   },
   {
    "duration": 6,
    "start_time": "2022-06-22T12:01:02.601Z"
   },
   {
    "duration": 7223,
    "start_time": "2022-06-22T12:01:02.609Z"
   },
   {
    "duration": 3,
    "start_time": "2022-06-22T12:01:09.833Z"
   },
   {
    "duration": 120,
    "start_time": "2022-06-22T12:01:09.838Z"
   },
   {
    "duration": 11,
    "start_time": "2022-06-22T12:01:09.960Z"
   },
   {
    "duration": 648,
    "start_time": "2022-06-22T12:01:09.972Z"
   },
   {
    "duration": 0,
    "start_time": "2022-06-22T12:01:10.622Z"
   },
   {
    "duration": 0,
    "start_time": "2022-06-22T12:01:10.629Z"
   },
   {
    "duration": 0,
    "start_time": "2022-06-22T12:01:10.630Z"
   },
   {
    "duration": 0,
    "start_time": "2022-06-22T12:01:10.631Z"
   },
   {
    "duration": 0,
    "start_time": "2022-06-22T12:01:10.632Z"
   },
   {
    "duration": 0,
    "start_time": "2022-06-22T12:01:10.633Z"
   },
   {
    "duration": 5,
    "start_time": "2022-06-22T12:01:22.261Z"
   },
   {
    "duration": 46,
    "start_time": "2022-06-22T12:01:22.274Z"
   },
   {
    "duration": 6,
    "start_time": "2022-06-22T12:01:22.322Z"
   },
   {
    "duration": 7,
    "start_time": "2022-06-22T12:01:22.329Z"
   },
   {
    "duration": 11,
    "start_time": "2022-06-22T12:01:22.337Z"
   },
   {
    "duration": 15,
    "start_time": "2022-06-22T12:01:22.350Z"
   },
   {
    "duration": 6,
    "start_time": "2022-06-22T12:01:22.367Z"
   },
   {
    "duration": 7,
    "start_time": "2022-06-22T12:01:22.374Z"
   },
   {
    "duration": 985,
    "start_time": "2022-06-22T12:01:22.383Z"
   },
   {
    "duration": 2,
    "start_time": "2022-06-22T12:01:23.370Z"
   },
   {
    "duration": 6,
    "start_time": "2022-06-22T12:01:23.375Z"
   },
   {
    "duration": 6,
    "start_time": "2022-06-22T12:01:23.383Z"
   },
   {
    "duration": 6,
    "start_time": "2022-06-22T12:01:23.390Z"
   },
   {
    "duration": 5,
    "start_time": "2022-06-22T12:01:29.815Z"
   },
   {
    "duration": 97,
    "start_time": "2022-06-22T12:04:11.554Z"
   },
   {
    "duration": 167,
    "start_time": "2022-06-22T12:07:01.174Z"
   },
   {
    "duration": 85,
    "start_time": "2022-06-22T12:07:15.034Z"
   },
   {
    "duration": 6,
    "start_time": "2022-06-22T12:08:23.911Z"
   },
   {
    "duration": 5,
    "start_time": "2022-06-22T12:10:46.488Z"
   },
   {
    "duration": 3,
    "start_time": "2022-06-22T12:10:49.840Z"
   },
   {
    "duration": 3,
    "start_time": "2022-06-22T12:10:52.177Z"
   },
   {
    "duration": 7704,
    "start_time": "2022-06-22T12:10:54.435Z"
   },
   {
    "duration": 6962,
    "start_time": "2022-06-22T12:11:13.772Z"
   },
   {
    "duration": 23,
    "start_time": "2022-06-22T12:11:37.629Z"
   },
   {
    "duration": 5,
    "start_time": "2022-06-22T12:13:17.010Z"
   },
   {
    "duration": 5405,
    "start_time": "2022-06-22T12:13:23.525Z"
   },
   {
    "duration": 23,
    "start_time": "2022-06-22T12:13:36.673Z"
   },
   {
    "duration": 6,
    "start_time": "2022-06-22T12:13:58.544Z"
   },
   {
    "duration": 4,
    "start_time": "2022-06-22T12:14:04.472Z"
   },
   {
    "duration": 4,
    "start_time": "2022-06-22T12:14:15.039Z"
   },
   {
    "duration": 5,
    "start_time": "2022-06-22T12:14:22.464Z"
   },
   {
    "duration": 1339,
    "start_time": "2022-06-22T12:16:53.662Z"
   },
   {
    "duration": 47,
    "start_time": "2022-06-22T12:16:55.003Z"
   },
   {
    "duration": 10,
    "start_time": "2022-06-22T12:16:55.051Z"
   },
   {
    "duration": 4,
    "start_time": "2022-06-22T12:16:55.063Z"
   },
   {
    "duration": 13,
    "start_time": "2022-06-22T12:16:55.070Z"
   },
   {
    "duration": 16,
    "start_time": "2022-06-22T12:16:55.085Z"
   },
   {
    "duration": 32,
    "start_time": "2022-06-22T12:16:55.102Z"
   },
   {
    "duration": 4,
    "start_time": "2022-06-22T12:16:55.135Z"
   },
   {
    "duration": 904,
    "start_time": "2022-06-22T12:16:55.140Z"
   },
   {
    "duration": 3,
    "start_time": "2022-06-22T12:16:56.046Z"
   },
   {
    "duration": 10,
    "start_time": "2022-06-22T12:16:56.050Z"
   },
   {
    "duration": 9,
    "start_time": "2022-06-22T12:16:56.062Z"
   },
   {
    "duration": 87,
    "start_time": "2022-06-22T12:16:56.073Z"
   },
   {
    "duration": 8,
    "start_time": "2022-06-22T12:16:56.164Z"
   },
   {
    "duration": 14,
    "start_time": "2022-06-22T12:16:56.174Z"
   },
   {
    "duration": 15,
    "start_time": "2022-06-22T12:16:56.189Z"
   },
   {
    "duration": 12,
    "start_time": "2022-06-22T12:16:56.205Z"
   },
   {
    "duration": 8,
    "start_time": "2022-06-22T12:16:56.219Z"
   },
   {
    "duration": 6501,
    "start_time": "2022-06-22T12:16:56.229Z"
   },
   {
    "duration": 4,
    "start_time": "2022-06-22T12:17:02.731Z"
   },
   {
    "duration": 98,
    "start_time": "2022-06-22T12:17:02.737Z"
   },
   {
    "duration": 8,
    "start_time": "2022-06-22T12:17:02.837Z"
   },
   {
    "duration": 445314,
    "start_time": "2022-06-22T12:17:02.847Z"
   },
   {
    "duration": 3,
    "start_time": "2022-06-22T12:24:28.162Z"
   },
   {
    "duration": 5,
    "start_time": "2022-06-22T12:24:28.166Z"
   },
   {
    "duration": 6,
    "start_time": "2022-06-22T12:24:28.172Z"
   },
   {
    "duration": 1130564,
    "start_time": "2022-06-22T12:24:28.179Z"
   },
   {
    "duration": 22,
    "start_time": "2022-06-22T12:43:18.744Z"
   },
   {
    "duration": 663,
    "start_time": "2022-06-22T12:43:18.768Z"
   },
   {
    "duration": 2047,
    "start_time": "2022-06-22T12:43:19.433Z"
   },
   {
    "duration": 1798,
    "start_time": "2022-06-22T16:04:11.434Z"
   },
   {
    "duration": 126,
    "start_time": "2022-06-22T16:04:13.233Z"
   },
   {
    "duration": 12,
    "start_time": "2022-06-22T16:04:13.361Z"
   },
   {
    "duration": 4,
    "start_time": "2022-06-22T16:04:13.375Z"
   },
   {
    "duration": 15,
    "start_time": "2022-06-22T16:04:13.382Z"
   },
   {
    "duration": 17,
    "start_time": "2022-06-22T16:04:13.398Z"
   },
   {
    "duration": 9,
    "start_time": "2022-06-22T16:04:13.416Z"
   },
   {
    "duration": 32,
    "start_time": "2022-06-22T16:04:13.426Z"
   },
   {
    "duration": 964,
    "start_time": "2022-06-22T16:04:13.460Z"
   },
   {
    "duration": 3,
    "start_time": "2022-06-22T16:04:14.427Z"
   },
   {
    "duration": 8,
    "start_time": "2022-06-22T16:04:14.432Z"
   },
   {
    "duration": 9,
    "start_time": "2022-06-22T16:04:14.442Z"
   },
   {
    "duration": 78,
    "start_time": "2022-06-22T16:04:14.452Z"
   },
   {
    "duration": 9,
    "start_time": "2022-06-22T16:04:14.531Z"
   },
   {
    "duration": 6,
    "start_time": "2022-06-22T16:04:14.541Z"
   },
   {
    "duration": 6,
    "start_time": "2022-06-22T16:04:17.515Z"
   },
   {
    "duration": 4,
    "start_time": "2022-06-22T16:04:18.174Z"
   },
   {
    "duration": 3,
    "start_time": "2022-06-22T16:04:21.056Z"
   },
   {
    "duration": 6568,
    "start_time": "2022-06-22T16:04:25.403Z"
   },
   {
    "duration": 341,
    "start_time": "2022-06-22T16:04:44.796Z"
   },
   {
    "duration": 6,
    "start_time": "2022-06-22T16:05:17.278Z"
   },
   {
    "duration": 255,
    "start_time": "2022-06-22T16:05:21.309Z"
   },
   {
    "duration": 5,
    "start_time": "2022-06-22T16:05:58.323Z"
   },
   {
    "duration": 396,
    "start_time": "2022-06-22T16:06:03.941Z"
   },
   {
    "duration": 6,
    "start_time": "2022-06-22T16:07:43.853Z"
   },
   {
    "duration": 457,
    "start_time": "2022-06-22T16:07:47.688Z"
   },
   {
    "duration": 1522,
    "start_time": "2022-06-22T16:09:06.944Z"
   },
   {
    "duration": 48,
    "start_time": "2022-06-22T16:09:08.469Z"
   },
   {
    "duration": 12,
    "start_time": "2022-06-22T16:09:08.519Z"
   },
   {
    "duration": 4,
    "start_time": "2022-06-22T16:09:08.534Z"
   },
   {
    "duration": 14,
    "start_time": "2022-06-22T16:09:08.540Z"
   },
   {
    "duration": 18,
    "start_time": "2022-06-22T16:09:08.558Z"
   },
   {
    "duration": 8,
    "start_time": "2022-06-22T16:09:08.578Z"
   },
   {
    "duration": 4,
    "start_time": "2022-06-22T16:09:08.588Z"
   },
   {
    "duration": 959,
    "start_time": "2022-06-22T16:09:08.593Z"
   },
   {
    "duration": 2,
    "start_time": "2022-06-22T16:09:09.555Z"
   },
   {
    "duration": 6,
    "start_time": "2022-06-22T16:09:09.559Z"
   },
   {
    "duration": 8,
    "start_time": "2022-06-22T16:09:09.566Z"
   },
   {
    "duration": 77,
    "start_time": "2022-06-22T16:09:09.576Z"
   },
   {
    "duration": 5,
    "start_time": "2022-06-22T16:09:09.659Z"
   },
   {
    "duration": 12,
    "start_time": "2022-06-22T16:09:09.666Z"
   },
   {
    "duration": 14,
    "start_time": "2022-06-22T16:09:09.680Z"
   },
   {
    "duration": 9,
    "start_time": "2022-06-22T16:09:09.696Z"
   },
   {
    "duration": 9,
    "start_time": "2022-06-22T16:09:09.707Z"
   },
   {
    "duration": 5942,
    "start_time": "2022-06-22T16:09:09.718Z"
   },
   {
    "duration": 4,
    "start_time": "2022-06-22T16:09:15.662Z"
   },
   {
    "duration": 96,
    "start_time": "2022-06-22T16:09:15.669Z"
   },
   {
    "duration": 6,
    "start_time": "2022-06-22T16:09:15.767Z"
   },
   {
    "duration": 468275,
    "start_time": "2022-06-22T16:09:15.774Z"
   },
   {
    "duration": 9,
    "start_time": "2022-06-22T16:17:04.050Z"
   },
   {
    "duration": 28,
    "start_time": "2022-06-22T16:17:04.060Z"
   },
   {
    "duration": 13,
    "start_time": "2022-06-22T16:17:04.090Z"
   },
   {
    "duration": 1049743,
    "start_time": "2022-06-22T16:17:04.105Z"
   },
   {
    "duration": 517,
    "start_time": "2022-06-22T16:34:33.852Z"
   },
   {
    "duration": 841,
    "start_time": "2022-06-22T16:34:34.371Z"
   },
   {
    "duration": 2285,
    "start_time": "2022-06-22T16:34:35.214Z"
   }
  ],
  "kernelspec": {
   "display_name": "Python 3 (ipykernel)",
   "language": "python",
   "name": "python3"
  },
  "language_info": {
   "codemirror_mode": {
    "name": "ipython",
    "version": 3
   },
   "file_extension": ".py",
   "mimetype": "text/x-python",
   "name": "python",
   "nbconvert_exporter": "python",
   "pygments_lexer": "ipython3",
   "version": "3.9.5"
  },
  "toc": {
   "base_numbering": 1,
   "nav_menu": {},
   "number_sections": true,
   "sideBar": true,
   "skip_h1_title": true,
   "title_cell": "Содержание",
   "title_sidebar": "Contents",
   "toc_cell": true,
   "toc_position": {
    "height": "calc(100% - 180px)",
    "left": "10px",
    "top": "150px",
    "width": "255.594px"
   },
   "toc_section_display": true,
   "toc_window_display": true
  }
 },
 "nbformat": 4,
 "nbformat_minor": 2
}
