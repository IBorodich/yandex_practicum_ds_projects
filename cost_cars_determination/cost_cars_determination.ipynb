{
 "cells": [
  {
   "cell_type": "markdown",
   "metadata": {
    "toc": true
   },
   "source": [
    "<h1>Содержание<span class=\"tocSkip\"></span></h1>\n",
    "<div class=\"toc\"><ul class=\"toc-item\"><li><span><a href=\"#Подготовка-данных\" data-toc-modified-id=\"Подготовка-данных-1\"><span class=\"toc-item-num\">1&nbsp;&nbsp;</span>Подготовка данных</a></span><ul class=\"toc-item\"><li><span><a href=\"#Загрузка-библиотек\" data-toc-modified-id=\"Загрузка-библиотек-1.1\"><span class=\"toc-item-num\">1.1&nbsp;&nbsp;</span>Загрузка библиотек</a></span></li><li><span><a href=\"#Изучение-данных\" data-toc-modified-id=\"Изучение-данных-1.2\"><span class=\"toc-item-num\">1.2&nbsp;&nbsp;</span>Изучение данных</a></span></li><li><span><a href=\"#Переименование-столбцов\" data-toc-modified-id=\"Переименование-столбцов-1.3\"><span class=\"toc-item-num\">1.3&nbsp;&nbsp;</span>Переименование столбцов</a></span></li><li><span><a href=\"#Приведение-типов\" data-toc-modified-id=\"Приведение-типов-1.4\"><span class=\"toc-item-num\">1.4&nbsp;&nbsp;</span>Приведение типов</a></span></li><li><span><a href=\"#Проверка-дубликатов\" data-toc-modified-id=\"Проверка-дубликатов-1.5\"><span class=\"toc-item-num\">1.5&nbsp;&nbsp;</span>Проверка дубликатов</a></span><ul class=\"toc-item\"><li><span><a href=\"#Проверка-неявных-дубликатов\" data-toc-modified-id=\"Проверка-неявных-дубликатов-1.5.1\"><span class=\"toc-item-num\">1.5.1&nbsp;&nbsp;</span>Проверка неявных дубликатов</a></span></li><li><span><a href=\"#Проверка-явных-дубликатов\" data-toc-modified-id=\"Проверка-явных-дубликатов-1.5.2\"><span class=\"toc-item-num\">1.5.2&nbsp;&nbsp;</span>Проверка явных дубликатов</a></span></li></ul></li><li><span><a href=\"#Заполнение-пропусков\" data-toc-modified-id=\"Заполнение-пропусков-1.6\"><span class=\"toc-item-num\">1.6&nbsp;&nbsp;</span>Заполнение пропусков</a></span></li><li><span><a href=\"#Добавление-вспомогательных-столбцов\" data-toc-modified-id=\"Добавление-вспомогательных-столбцов-1.7\"><span class=\"toc-item-num\">1.7&nbsp;&nbsp;</span>Добавление вспомогательных столбцов</a></span></li><li><span><a href=\"#Обработка-аномальных-значений\" data-toc-modified-id=\"Обработка-аномальных-значений-1.8\"><span class=\"toc-item-num\">1.8&nbsp;&nbsp;</span>Обработка аномальных значений</a></span><ul class=\"toc-item\"><li><span><a href=\"#Цена-автомобиля\" data-toc-modified-id=\"Цена-автомобиля-1.8.1\"><span class=\"toc-item-num\">1.8.1&nbsp;&nbsp;</span>Цена автомобиля</a></span></li><li><span><a href=\"#Год-регистрации-автомобиля\" data-toc-modified-id=\"Год-регистрации-автомобиля-1.8.2\"><span class=\"toc-item-num\">1.8.2&nbsp;&nbsp;</span>Год регистрации автомобиля</a></span></li><li><span><a href=\"#Мощность-автомобиля\" data-toc-modified-id=\"Мощность-автомобиля-1.8.3\"><span class=\"toc-item-num\">1.8.3&nbsp;&nbsp;</span>Мощность автомобиля</a></span></li></ul></li><li><span><a href=\"#Общий-вывод\" data-toc-modified-id=\"Общий-вывод-1.9\"><span class=\"toc-item-num\">1.9&nbsp;&nbsp;</span>Общий вывод</a></span></li></ul></li><li><span><a href=\"#Обучение-моделей\" data-toc-modified-id=\"Обучение-моделей-2\"><span class=\"toc-item-num\">2&nbsp;&nbsp;</span>Обучение моделей</a></span><ul class=\"toc-item\"><li><span><a href=\"#Разделение-признаков\" data-toc-modified-id=\"Разделение-признаков-2.1\"><span class=\"toc-item-num\">2.1&nbsp;&nbsp;</span>Разделение признаков</a></span></li><li><span><a href=\"#Вспомогательные-функции\" data-toc-modified-id=\"Вспомогательные-функции-2.2\"><span class=\"toc-item-num\">2.2&nbsp;&nbsp;</span>Вспомогательные функции</a></span></li><li><span><a href=\"#DecisionTreeRegressor\" data-toc-modified-id=\"DecisionTreeRegressor-2.3\"><span class=\"toc-item-num\">2.3&nbsp;&nbsp;</span>DecisionTreeRegressor</a></span></li><li><span><a href=\"#CatBoostRegressor\" data-toc-modified-id=\"CatBoostRegressor-2.4\"><span class=\"toc-item-num\">2.4&nbsp;&nbsp;</span>CatBoostRegressor</a></span></li><li><span><a href=\"#LGBMRegressor\" data-toc-modified-id=\"LGBMRegressor-2.5\"><span class=\"toc-item-num\">2.5&nbsp;&nbsp;</span>LGBMRegressor</a></span></li></ul></li><li><span><a href=\"#Анализ-моделей\" data-toc-modified-id=\"Анализ-моделей-3\"><span class=\"toc-item-num\">3&nbsp;&nbsp;</span>Анализ моделей</a></span></li></ul></div>"
   ]
  },
  {
   "cell_type": "markdown",
   "metadata": {},
   "source": [
    "# Определение стоимости автомобилей"
   ]
  },
  {
   "cell_type": "markdown",
   "metadata": {},
   "source": [
    "Сервис по продаже автомобилей с пробегом разрабатывает приложение для привлечения новых клиентов. В нём можно быстро узнать рыночную стоимость своего автомобиля. В нашем распоряжении исторические данные: технические характеристики, комплектации и цены автомобилей. Необходимо построить модель для определения стоимости. \n",
    "\n",
    "Заказчику важны:\n",
    "\n",
    "- качество предсказания (минимальное RMSE);\n",
    "- скорость предсказания;\n",
    "- время обучения."
   ]
  },
  {
   "cell_type": "markdown",
   "metadata": {},
   "source": [
    "## Подготовка данных"
   ]
  },
  {
   "cell_type": "markdown",
   "metadata": {},
   "source": [
    "### Загрузка библиотек"
   ]
  },
  {
   "cell_type": "code",
   "execution_count": 1,
   "metadata": {},
   "outputs": [],
   "source": [
    "import pandas as pd\n",
    "import numpy as np\n",
    "import matplotlib.pyplot as plt\n",
    "from sklearn.model_selection import train_test_split\n",
    "from sklearn.preprocessing import StandardScaler\n",
    "from sklearn.metrics import make_scorer\n",
    "from sklearn.model_selection import KFold\n",
    "from sklearn.model_selection import cross_val_score\n",
    "from sklearn.model_selection import RandomizedSearchCV\n",
    "from sklearn.metrics import mean_squared_error\n",
    "from sklearn.tree import DecisionTreeRegressor\n",
    "from catboost import CatBoostRegressor\n",
    "from lightgbm import LGBMRegressor"
   ]
  },
  {
   "cell_type": "markdown",
   "metadata": {},
   "source": [
    "### Изучение данных"
   ]
  },
  {
   "cell_type": "code",
   "execution_count": 2,
   "metadata": {},
   "outputs": [],
   "source": [
    "df = pd.read_csv('/datasets/autos.csv')"
   ]
  },
  {
   "cell_type": "code",
   "execution_count": 3,
   "metadata": {},
   "outputs": [
    {
     "data": {
      "text/html": [
       "<div>\n",
       "<style scoped>\n",
       "    .dataframe tbody tr th:only-of-type {\n",
       "        vertical-align: middle;\n",
       "    }\n",
       "\n",
       "    .dataframe tbody tr th {\n",
       "        vertical-align: top;\n",
       "    }\n",
       "\n",
       "    .dataframe thead th {\n",
       "        text-align: right;\n",
       "    }\n",
       "</style>\n",
       "<table border=\"1\" class=\"dataframe\">\n",
       "  <thead>\n",
       "    <tr style=\"text-align: right;\">\n",
       "      <th></th>\n",
       "      <th>DateCrawled</th>\n",
       "      <th>Price</th>\n",
       "      <th>VehicleType</th>\n",
       "      <th>RegistrationYear</th>\n",
       "      <th>Gearbox</th>\n",
       "      <th>Power</th>\n",
       "      <th>Model</th>\n",
       "      <th>Kilometer</th>\n",
       "      <th>RegistrationMonth</th>\n",
       "      <th>FuelType</th>\n",
       "      <th>Brand</th>\n",
       "      <th>NotRepaired</th>\n",
       "      <th>DateCreated</th>\n",
       "      <th>NumberOfPictures</th>\n",
       "      <th>PostalCode</th>\n",
       "      <th>LastSeen</th>\n",
       "    </tr>\n",
       "  </thead>\n",
       "  <tbody>\n",
       "    <tr>\n",
       "      <th>0</th>\n",
       "      <td>2016-03-24 11:52:17</td>\n",
       "      <td>480</td>\n",
       "      <td>NaN</td>\n",
       "      <td>1993</td>\n",
       "      <td>manual</td>\n",
       "      <td>0</td>\n",
       "      <td>golf</td>\n",
       "      <td>150000</td>\n",
       "      <td>0</td>\n",
       "      <td>petrol</td>\n",
       "      <td>volkswagen</td>\n",
       "      <td>NaN</td>\n",
       "      <td>2016-03-24 00:00:00</td>\n",
       "      <td>0</td>\n",
       "      <td>70435</td>\n",
       "      <td>2016-04-07 03:16:57</td>\n",
       "    </tr>\n",
       "    <tr>\n",
       "      <th>1</th>\n",
       "      <td>2016-03-24 10:58:45</td>\n",
       "      <td>18300</td>\n",
       "      <td>coupe</td>\n",
       "      <td>2011</td>\n",
       "      <td>manual</td>\n",
       "      <td>190</td>\n",
       "      <td>NaN</td>\n",
       "      <td>125000</td>\n",
       "      <td>5</td>\n",
       "      <td>gasoline</td>\n",
       "      <td>audi</td>\n",
       "      <td>yes</td>\n",
       "      <td>2016-03-24 00:00:00</td>\n",
       "      <td>0</td>\n",
       "      <td>66954</td>\n",
       "      <td>2016-04-07 01:46:50</td>\n",
       "    </tr>\n",
       "    <tr>\n",
       "      <th>2</th>\n",
       "      <td>2016-03-14 12:52:21</td>\n",
       "      <td>9800</td>\n",
       "      <td>suv</td>\n",
       "      <td>2004</td>\n",
       "      <td>auto</td>\n",
       "      <td>163</td>\n",
       "      <td>grand</td>\n",
       "      <td>125000</td>\n",
       "      <td>8</td>\n",
       "      <td>gasoline</td>\n",
       "      <td>jeep</td>\n",
       "      <td>NaN</td>\n",
       "      <td>2016-03-14 00:00:00</td>\n",
       "      <td>0</td>\n",
       "      <td>90480</td>\n",
       "      <td>2016-04-05 12:47:46</td>\n",
       "    </tr>\n",
       "    <tr>\n",
       "      <th>3</th>\n",
       "      <td>2016-03-17 16:54:04</td>\n",
       "      <td>1500</td>\n",
       "      <td>small</td>\n",
       "      <td>2001</td>\n",
       "      <td>manual</td>\n",
       "      <td>75</td>\n",
       "      <td>golf</td>\n",
       "      <td>150000</td>\n",
       "      <td>6</td>\n",
       "      <td>petrol</td>\n",
       "      <td>volkswagen</td>\n",
       "      <td>no</td>\n",
       "      <td>2016-03-17 00:00:00</td>\n",
       "      <td>0</td>\n",
       "      <td>91074</td>\n",
       "      <td>2016-03-17 17:40:17</td>\n",
       "    </tr>\n",
       "    <tr>\n",
       "      <th>4</th>\n",
       "      <td>2016-03-31 17:25:20</td>\n",
       "      <td>3600</td>\n",
       "      <td>small</td>\n",
       "      <td>2008</td>\n",
       "      <td>manual</td>\n",
       "      <td>69</td>\n",
       "      <td>fabia</td>\n",
       "      <td>90000</td>\n",
       "      <td>7</td>\n",
       "      <td>gasoline</td>\n",
       "      <td>skoda</td>\n",
       "      <td>no</td>\n",
       "      <td>2016-03-31 00:00:00</td>\n",
       "      <td>0</td>\n",
       "      <td>60437</td>\n",
       "      <td>2016-04-06 10:17:21</td>\n",
       "    </tr>\n",
       "  </tbody>\n",
       "</table>\n",
       "</div>"
      ],
      "text/plain": [
       "           DateCrawled  Price VehicleType  RegistrationYear Gearbox  Power  \\\n",
       "0  2016-03-24 11:52:17    480         NaN              1993  manual      0   \n",
       "1  2016-03-24 10:58:45  18300       coupe              2011  manual    190   \n",
       "2  2016-03-14 12:52:21   9800         suv              2004    auto    163   \n",
       "3  2016-03-17 16:54:04   1500       small              2001  manual     75   \n",
       "4  2016-03-31 17:25:20   3600       small              2008  manual     69   \n",
       "\n",
       "   Model  Kilometer  RegistrationMonth  FuelType       Brand NotRepaired  \\\n",
       "0   golf     150000                  0    petrol  volkswagen         NaN   \n",
       "1    NaN     125000                  5  gasoline        audi         yes   \n",
       "2  grand     125000                  8  gasoline        jeep         NaN   \n",
       "3   golf     150000                  6    petrol  volkswagen          no   \n",
       "4  fabia      90000                  7  gasoline       skoda          no   \n",
       "\n",
       "           DateCreated  NumberOfPictures  PostalCode             LastSeen  \n",
       "0  2016-03-24 00:00:00                 0       70435  2016-04-07 03:16:57  \n",
       "1  2016-03-24 00:00:00                 0       66954  2016-04-07 01:46:50  \n",
       "2  2016-03-14 00:00:00                 0       90480  2016-04-05 12:47:46  \n",
       "3  2016-03-17 00:00:00                 0       91074  2016-03-17 17:40:17  \n",
       "4  2016-03-31 00:00:00                 0       60437  2016-04-06 10:17:21  "
      ]
     },
     "execution_count": 3,
     "metadata": {},
     "output_type": "execute_result"
    }
   ],
   "source": [
    "df.head()"
   ]
  },
  {
   "cell_type": "code",
   "execution_count": 4,
   "metadata": {},
   "outputs": [
    {
     "name": "stdout",
     "output_type": "stream",
     "text": [
      "<class 'pandas.core.frame.DataFrame'>\n",
      "RangeIndex: 354369 entries, 0 to 354368\n",
      "Data columns (total 16 columns):\n",
      " #   Column             Non-Null Count   Dtype \n",
      "---  ------             --------------   ----- \n",
      " 0   DateCrawled        354369 non-null  object\n",
      " 1   Price              354369 non-null  int64 \n",
      " 2   VehicleType        316879 non-null  object\n",
      " 3   RegistrationYear   354369 non-null  int64 \n",
      " 4   Gearbox            334536 non-null  object\n",
      " 5   Power              354369 non-null  int64 \n",
      " 6   Model              334664 non-null  object\n",
      " 7   Kilometer          354369 non-null  int64 \n",
      " 8   RegistrationMonth  354369 non-null  int64 \n",
      " 9   FuelType           321474 non-null  object\n",
      " 10  Brand              354369 non-null  object\n",
      " 11  NotRepaired        283215 non-null  object\n",
      " 12  DateCreated        354369 non-null  object\n",
      " 13  NumberOfPictures   354369 non-null  int64 \n",
      " 14  PostalCode         354369 non-null  int64 \n",
      " 15  LastSeen           354369 non-null  object\n",
      "dtypes: int64(7), object(9)\n",
      "memory usage: 43.3+ MB\n"
     ]
    }
   ],
   "source": [
    "df.info()"
   ]
  },
  {
   "cell_type": "code",
   "execution_count": 5,
   "metadata": {},
   "outputs": [
    {
     "data": {
      "text/html": [
       "<div>\n",
       "<style scoped>\n",
       "    .dataframe tbody tr th:only-of-type {\n",
       "        vertical-align: middle;\n",
       "    }\n",
       "\n",
       "    .dataframe tbody tr th {\n",
       "        vertical-align: top;\n",
       "    }\n",
       "\n",
       "    .dataframe thead th {\n",
       "        text-align: right;\n",
       "    }\n",
       "</style>\n",
       "<table border=\"1\" class=\"dataframe\">\n",
       "  <thead>\n",
       "    <tr style=\"text-align: right;\">\n",
       "      <th></th>\n",
       "      <th>count</th>\n",
       "      <th>mean</th>\n",
       "      <th>std</th>\n",
       "      <th>min</th>\n",
       "      <th>25%</th>\n",
       "      <th>50%</th>\n",
       "      <th>75%</th>\n",
       "      <th>max</th>\n",
       "    </tr>\n",
       "  </thead>\n",
       "  <tbody>\n",
       "    <tr>\n",
       "      <th>Price</th>\n",
       "      <td>354369.0</td>\n",
       "      <td>4416.656776</td>\n",
       "      <td>4514.158514</td>\n",
       "      <td>0.0</td>\n",
       "      <td>1050.0</td>\n",
       "      <td>2700.0</td>\n",
       "      <td>6400.0</td>\n",
       "      <td>20000.0</td>\n",
       "    </tr>\n",
       "    <tr>\n",
       "      <th>RegistrationYear</th>\n",
       "      <td>354369.0</td>\n",
       "      <td>2004.234448</td>\n",
       "      <td>90.227958</td>\n",
       "      <td>1000.0</td>\n",
       "      <td>1999.0</td>\n",
       "      <td>2003.0</td>\n",
       "      <td>2008.0</td>\n",
       "      <td>9999.0</td>\n",
       "    </tr>\n",
       "    <tr>\n",
       "      <th>Power</th>\n",
       "      <td>354369.0</td>\n",
       "      <td>110.094337</td>\n",
       "      <td>189.850405</td>\n",
       "      <td>0.0</td>\n",
       "      <td>69.0</td>\n",
       "      <td>105.0</td>\n",
       "      <td>143.0</td>\n",
       "      <td>20000.0</td>\n",
       "    </tr>\n",
       "    <tr>\n",
       "      <th>Kilometer</th>\n",
       "      <td>354369.0</td>\n",
       "      <td>128211.172535</td>\n",
       "      <td>37905.341530</td>\n",
       "      <td>5000.0</td>\n",
       "      <td>125000.0</td>\n",
       "      <td>150000.0</td>\n",
       "      <td>150000.0</td>\n",
       "      <td>150000.0</td>\n",
       "    </tr>\n",
       "    <tr>\n",
       "      <th>RegistrationMonth</th>\n",
       "      <td>354369.0</td>\n",
       "      <td>5.714645</td>\n",
       "      <td>3.726421</td>\n",
       "      <td>0.0</td>\n",
       "      <td>3.0</td>\n",
       "      <td>6.0</td>\n",
       "      <td>9.0</td>\n",
       "      <td>12.0</td>\n",
       "    </tr>\n",
       "    <tr>\n",
       "      <th>NumberOfPictures</th>\n",
       "      <td>354369.0</td>\n",
       "      <td>0.000000</td>\n",
       "      <td>0.000000</td>\n",
       "      <td>0.0</td>\n",
       "      <td>0.0</td>\n",
       "      <td>0.0</td>\n",
       "      <td>0.0</td>\n",
       "      <td>0.0</td>\n",
       "    </tr>\n",
       "    <tr>\n",
       "      <th>PostalCode</th>\n",
       "      <td>354369.0</td>\n",
       "      <td>50508.689087</td>\n",
       "      <td>25783.096248</td>\n",
       "      <td>1067.0</td>\n",
       "      <td>30165.0</td>\n",
       "      <td>49413.0</td>\n",
       "      <td>71083.0</td>\n",
       "      <td>99998.0</td>\n",
       "    </tr>\n",
       "  </tbody>\n",
       "</table>\n",
       "</div>"
      ],
      "text/plain": [
       "                      count           mean           std     min       25%  \\\n",
       "Price              354369.0    4416.656776   4514.158514     0.0    1050.0   \n",
       "RegistrationYear   354369.0    2004.234448     90.227958  1000.0    1999.0   \n",
       "Power              354369.0     110.094337    189.850405     0.0      69.0   \n",
       "Kilometer          354369.0  128211.172535  37905.341530  5000.0  125000.0   \n",
       "RegistrationMonth  354369.0       5.714645      3.726421     0.0       3.0   \n",
       "NumberOfPictures   354369.0       0.000000      0.000000     0.0       0.0   \n",
       "PostalCode         354369.0   50508.689087  25783.096248  1067.0   30165.0   \n",
       "\n",
       "                        50%       75%       max  \n",
       "Price                2700.0    6400.0   20000.0  \n",
       "RegistrationYear     2003.0    2008.0    9999.0  \n",
       "Power                 105.0     143.0   20000.0  \n",
       "Kilometer          150000.0  150000.0  150000.0  \n",
       "RegistrationMonth       6.0       9.0      12.0  \n",
       "NumberOfPictures        0.0       0.0       0.0  \n",
       "PostalCode          49413.0   71083.0   99998.0  "
      ]
     },
     "execution_count": 5,
     "metadata": {},
     "output_type": "execute_result"
    }
   ],
   "source": [
    "df.describe().T"
   ]
  },
  {
   "cell_type": "markdown",
   "metadata": {},
   "source": [
    "**Выводы**\n",
    "\n",
    "Датасет содержит 354369 строк и 16 столбцов. Были выявлены следующие отклонения:\n",
    "- названия столбцов не соответствуют «змеиному» стилю;\n",
    "- присутствуют пропущенные значения в столбцах с текстом;\n",
    "- присутствую аномальные значения (слишком низкие и высокие значения в столбцах с Ценой, Годом регистрации и Мощностью).\n",
    "Также необходимо провести проверку на дубликаты."
   ]
  },
  {
   "cell_type": "markdown",
   "metadata": {},
   "source": [
    "### Переименование столбцов"
   ]
  },
  {
   "cell_type": "markdown",
   "metadata": {},
   "source": [
    "Приведем названия столбцов к \"змеиному\" стилю."
   ]
  },
  {
   "cell_type": "code",
   "execution_count": 6,
   "metadata": {},
   "outputs": [],
   "source": [
    "df.columns = df.columns.str.replace(r'(?=[A-Z])', r'_', regex=True)\\\n",
    "                       .str.lower()\\\n",
    "                       .str[1:]"
   ]
  },
  {
   "cell_type": "code",
   "execution_count": 7,
   "metadata": {},
   "outputs": [
    {
     "data": {
      "text/plain": [
       "Index(['date_crawled', 'price', 'vehicle_type', 'registration_year', 'gearbox',\n",
       "       'power', 'model', 'kilometer', 'registration_month', 'fuel_type',\n",
       "       'brand', 'not_repaired', 'date_created', 'number_of_pictures',\n",
       "       'postal_code', 'last_seen'],\n",
       "      dtype='object')"
      ]
     },
     "execution_count": 7,
     "metadata": {},
     "output_type": "execute_result"
    }
   ],
   "source": [
    "df.columns"
   ]
  },
  {
   "cell_type": "markdown",
   "metadata": {},
   "source": [
    "### Приведение типов"
   ]
  },
  {
   "cell_type": "code",
   "execution_count": 8,
   "metadata": {},
   "outputs": [],
   "source": [
    "for col in ['date_crawled', 'date_created', 'last_seen']:\n",
    "    df[col] = pd.to_datetime(df[col])"
   ]
  },
  {
   "cell_type": "code",
   "execution_count": 9,
   "metadata": {},
   "outputs": [
    {
     "data": {
      "text/plain": [
       "array([  5000,  10000,  20000,  30000,  40000,  50000,  60000,  70000,\n",
       "        80000,  90000, 100000, 125000, 150000])"
      ]
     },
     "execution_count": 9,
     "metadata": {},
     "output_type": "execute_result"
    }
   ],
   "source": [
    "np.sort(df['kilometer'].unique())"
   ]
  },
  {
   "cell_type": "code",
   "execution_count": 10,
   "metadata": {},
   "outputs": [],
   "source": [
    "df['kilometer'] = df['kilometer'].astype(str)"
   ]
  },
  {
   "cell_type": "markdown",
   "metadata": {},
   "source": [
    "**Выводы**\n",
    "\n",
    "Столбцы с датой были приведены к типу `datetime`. Столбец с пробегом был приведен к строкову типу, т.к. является категориальной характеристикой."
   ]
  },
  {
   "cell_type": "markdown",
   "metadata": {},
   "source": [
    "### Проверка дубликатов"
   ]
  },
  {
   "cell_type": "markdown",
   "metadata": {},
   "source": [
    "Сохраним исходное количество строк в датасете в переменную `nrows_initial`, чтобы после обработки проверить, какой процент данных мы удалили."
   ]
  },
  {
   "cell_type": "code",
   "execution_count": 11,
   "metadata": {},
   "outputs": [],
   "source": [
    "nrows_initial = len(df)"
   ]
  },
  {
   "cell_type": "markdown",
   "metadata": {},
   "source": [
    "#### Проверка неявных дубликатов"
   ]
  },
  {
   "cell_type": "code",
   "execution_count": 12,
   "metadata": {},
   "outputs": [],
   "source": [
    "columns_with_text = ['vehicle_type', 'gearbox', 'model', 'fuel_type', 'brand', 'not_repaired']"
   ]
  },
  {
   "cell_type": "code",
   "execution_count": 13,
   "metadata": {},
   "outputs": [
    {
     "name": "stdout",
     "output_type": "stream",
     "text": [
      "vehicle_type\n",
      "['bus' 'convertible' 'coupe' 'other' 'sedan' 'small' 'suv' 'wagon']\n",
      "\n",
      "gearbox\n",
      "['auto' 'manual']\n",
      "\n",
      "model\n",
      "['100' '145' '147' '156' '159' '1_reihe' '1er' '200' '2_reihe' '300c'\n",
      " '3_reihe' '3er' '4_reihe' '500' '5_reihe' '5er' '601' '6_reihe' '6er'\n",
      " '7er' '80' '850' '90' '900' '9000' '911' 'a1' 'a2' 'a3' 'a4' 'a5' 'a6'\n",
      " 'a8' 'a_klasse' 'accord' 'agila' 'alhambra' 'almera' 'altea' 'amarok'\n",
      " 'antara' 'arosa' 'astra' 'auris' 'avensis' 'aveo' 'aygo' 'b_klasse'\n",
      " 'b_max' 'beetle' 'berlingo' 'bora' 'boxster' 'bravo' 'c1' 'c2' 'c3' 'c4'\n",
      " 'c5' 'c_klasse' 'c_max' 'c_reihe' 'caddy' 'calibra' 'captiva' 'carisma'\n",
      " 'carnival' 'cayenne' 'cc' 'ceed' 'charade' 'cherokee' 'citigo' 'civic'\n",
      " 'cl' 'clio' 'clk' 'clubman' 'colt' 'combo' 'cooper' 'cordoba' 'corolla'\n",
      " 'corsa' 'cr_reihe' 'croma' 'crossfire' 'cuore' 'cx_reihe' 'defender'\n",
      " 'delta' 'discovery' 'doblo' 'ducato' 'duster' 'e_klasse' 'elefantino'\n",
      " 'eos' 'escort' 'espace' 'exeo' 'fabia' 'fiesta' 'focus' 'forester'\n",
      " 'forfour' 'fortwo' 'fox' 'freelander' 'fusion' 'g_klasse' 'galant'\n",
      " 'galaxy' 'getz' 'gl' 'glk' 'golf' 'grand' 'i3' 'i_reihe' 'ibiza'\n",
      " 'impreza' 'insignia' 'jazz' 'jetta' 'jimny' 'juke' 'justy' 'ka' 'kadett'\n",
      " 'kaefer' 'kalina' 'kalos' 'kangoo' 'kappa' 'kuga' 'laguna' 'lancer'\n",
      " 'lanos' 'legacy' 'leon' 'lodgy' 'logan' 'lupo' 'lybra' 'm_klasse'\n",
      " 'm_reihe' 'materia' 'matiz' 'megane' 'meriva' 'micra' 'mii' 'modus'\n",
      " 'mondeo' 'move' 'musa' 'mustang' 'mx_reihe' 'navara' 'niva' 'note'\n",
      " 'nubira' 'octavia' 'omega' 'one' 'other' 'outlander' 'pajero' 'panda'\n",
      " 'passat' 'phaeton' 'picanto' 'polo' 'primera' 'ptcruiser' 'punto' 'q3'\n",
      " 'q5' 'q7' 'qashqai' 'r19' 'range_rover' 'range_rover_evoque'\n",
      " 'range_rover_sport' 'rangerover' 'rav' 'rio' 'roadster' 'roomster'\n",
      " 'rx_reihe' 's60' 's_klasse' 's_max' 's_type' 'samara' 'sandero' 'santa'\n",
      " 'scenic' 'scirocco' 'seicento' 'serie_1' 'serie_2' 'serie_3' 'sharan'\n",
      " 'signum' 'sirion' 'sl' 'slk' 'sorento' 'spark' 'spider' 'sportage'\n",
      " 'sprinter' 'stilo' 'superb' 'swift' 'terios' 'tigra' 'tiguan' 'toledo'\n",
      " 'touareg' 'touran' 'transit' 'transporter' 'tt' 'tucson' 'twingo' 'up'\n",
      " 'v40' 'v50' 'v60' 'v70' 'v_klasse' 'vectra' 'verso' 'viano' 'vito'\n",
      " 'vivaro' 'voyager' 'wrangler' 'x_reihe' 'x_trail' 'x_type' 'xc_reihe'\n",
      " 'yaris' 'yeti' 'ypsilon' 'z_reihe' 'zafira']\n",
      "\n",
      "fuel_type\n",
      "['cng' 'electric' 'gasoline' 'hybrid' 'lpg' 'other' 'petrol']\n",
      "\n",
      "brand\n",
      "['alfa_romeo' 'audi' 'bmw' 'chevrolet' 'chrysler' 'citroen' 'dacia'\n",
      " 'daewoo' 'daihatsu' 'fiat' 'ford' 'honda' 'hyundai' 'jaguar' 'jeep' 'kia'\n",
      " 'lada' 'lancia' 'land_rover' 'mazda' 'mercedes_benz' 'mini' 'mitsubishi'\n",
      " 'nissan' 'opel' 'peugeot' 'porsche' 'renault' 'rover' 'saab' 'seat'\n",
      " 'skoda' 'smart' 'sonstige_autos' 'subaru' 'suzuki' 'toyota' 'trabant'\n",
      " 'volkswagen' 'volvo']\n",
      "\n",
      "not_repaired\n",
      "['no' 'yes']\n",
      "\n"
     ]
    }
   ],
   "source": [
    "for col in columns_with_text:\n",
    "    print(col)\n",
    "    print(np.sort(df[col].dropna().unique()))\n",
    "    print()"
   ]
  },
  {
   "cell_type": "markdown",
   "metadata": {},
   "source": [
    "**Выводы**\n",
    "\n",
    "Неявные дубликаты не выявлены. \n",
    "\n",
    "В некоторых столбцах содержится значение `other`. При необходимости используем его в качестве \"заглушки\" при заполнении пропусков, чтобы не создавать новые переменные."
   ]
  },
  {
   "cell_type": "markdown",
   "metadata": {},
   "source": [
    "#### Проверка явных дубликатов"
   ]
  },
  {
   "cell_type": "code",
   "execution_count": 14,
   "metadata": {},
   "outputs": [
    {
     "data": {
      "text/plain": [
       "4"
      ]
     },
     "execution_count": 14,
     "metadata": {},
     "output_type": "execute_result"
    }
   ],
   "source": [
    "df.duplicated().sum()"
   ]
  },
  {
   "cell_type": "code",
   "execution_count": 15,
   "metadata": {},
   "outputs": [],
   "source": [
    "df = df.drop_duplicates()"
   ]
  },
  {
   "cell_type": "markdown",
   "metadata": {},
   "source": [
    "**Выводы**\n",
    "\n",
    "Выявлено четыре явных дубликата, которые были удалены."
   ]
  },
  {
   "cell_type": "markdown",
   "metadata": {},
   "source": [
    "### Заполнение пропусков"
   ]
  },
  {
   "cell_type": "code",
   "execution_count": 16,
   "metadata": {},
   "outputs": [
    {
     "data": {
      "text/plain": [
       "0.30634451659146256"
      ]
     },
     "execution_count": 16,
     "metadata": {},
     "output_type": "execute_result"
    }
   ],
   "source": [
    "1 - len(df.dropna()) / nrows_initial"
   ]
  },
  {
   "cell_type": "code",
   "execution_count": 17,
   "metadata": {},
   "outputs": [],
   "source": [
    "df = df.fillna('other')"
   ]
  },
  {
   "cell_type": "markdown",
   "metadata": {},
   "source": [
    "**Выводы**\n",
    "\n",
    "При удалении пропущенных значений мы бы потеряли 30 % данных. Это большое количество. Поэтому пропуски были заполнены \"заглушкой\", найденной при анализе дубликатов."
   ]
  },
  {
   "cell_type": "markdown",
   "metadata": {},
   "source": [
    "### Добавление вспомогательных столбцов"
   ]
  },
  {
   "cell_type": "code",
   "execution_count": 18,
   "metadata": {},
   "outputs": [],
   "source": [
    "df['year_created'] = df['date_created'].dt.year\n",
    "df['month_created'] = df['date_created'].dt.month\n",
    "\n",
    "df['year_last_seen'] = df['last_seen'].dt.year\n",
    "df['month_last_seen'] = df['last_seen'].dt.month"
   ]
  },
  {
   "cell_type": "code",
   "execution_count": 19,
   "metadata": {},
   "outputs": [],
   "source": [
    "df['total_months'] = ((12 * df['year_last_seen'] + df['month_last_seen']) - \n",
    "                      (12 * df['registration_year'] + df['registration_month']))"
   ]
  },
  {
   "cell_type": "markdown",
   "metadata": {},
   "source": [
    "**Выводы**\n",
    "\n",
    "Для дальнейшего обучения моделей будем использовать не год и месяц регистрации автомобиля, а сколько ему было всего месяцев на момент продажи (`total_months`). Годом и месяцем продажи будем считать год и месяц последней активности пользователя."
   ]
  },
  {
   "cell_type": "markdown",
   "metadata": {},
   "source": [
    "### Обработка аномальных значений"
   ]
  },
  {
   "cell_type": "markdown",
   "metadata": {},
   "source": [
    "#### Цена автомобиля"
   ]
  },
  {
   "cell_type": "code",
   "execution_count": 20,
   "metadata": {},
   "outputs": [
    {
     "data": {
      "image/png": "[encoded data removed]",
      "text/plain": [
       "<Figure size 720x288 with 1 Axes>"
      ]
     },
     "metadata": {
      "needs_background": "light"
     },
     "output_type": "display_data"
    }
   ],
   "source": [
    "fig, ax = plt.subplots(figsize=(10, 4))\n",
    "\n",
    "ax.plot(pd.Series(np.sort(df['price'].unique())), linestyle=':')\n",
    "\n",
    "ax.set_title('Уникальные значения цены автомобиля')\n",
    "ax.set_ylabel('Цена автомобиля')\n",
    "ax.set_xticks([])\n",
    "\n",
    "fig.tight_layout()\n",
    "\n",
    "plt.show()"
   ]
  },
  {
   "cell_type": "code",
   "execution_count": 21,
   "metadata": {},
   "outputs": [
    {
     "data": {
      "text/html": [
       "<div>\n",
       "<style scoped>\n",
       "    .dataframe tbody tr th:only-of-type {\n",
       "        vertical-align: middle;\n",
       "    }\n",
       "\n",
       "    .dataframe tbody tr th {\n",
       "        vertical-align: top;\n",
       "    }\n",
       "\n",
       "    .dataframe thead th {\n",
       "        text-align: right;\n",
       "    }\n",
       "</style>\n",
       "<table border=\"1\" class=\"dataframe\">\n",
       "  <thead>\n",
       "    <tr style=\"text-align: right;\">\n",
       "      <th></th>\n",
       "      <th>count</th>\n",
       "      <th>sum</th>\n",
       "    </tr>\n",
       "    <tr>\n",
       "      <th>postal_code</th>\n",
       "      <th></th>\n",
       "      <th></th>\n",
       "    </tr>\n",
       "  </thead>\n",
       "  <tbody>\n",
       "    <tr>\n",
       "      <th>44239</th>\n",
       "      <td>1</td>\n",
       "      <td>0</td>\n",
       "    </tr>\n",
       "    <tr>\n",
       "      <th>96367</th>\n",
       "      <td>1</td>\n",
       "      <td>0</td>\n",
       "    </tr>\n",
       "    <tr>\n",
       "      <th>89294</th>\n",
       "      <td>1</td>\n",
       "      <td>0</td>\n",
       "    </tr>\n",
       "    <tr>\n",
       "      <th>8265</th>\n",
       "      <td>1</td>\n",
       "      <td>0</td>\n",
       "    </tr>\n",
       "    <tr>\n",
       "      <th>95682</th>\n",
       "      <td>2</td>\n",
       "      <td>0</td>\n",
       "    </tr>\n",
       "    <tr>\n",
       "      <th>17329</th>\n",
       "      <td>1</td>\n",
       "      <td>100</td>\n",
       "    </tr>\n",
       "    <tr>\n",
       "      <th>89368</th>\n",
       "      <td>1</td>\n",
       "      <td>120</td>\n",
       "    </tr>\n",
       "    <tr>\n",
       "      <th>4685</th>\n",
       "      <td>1</td>\n",
       "      <td>150</td>\n",
       "    </tr>\n",
       "    <tr>\n",
       "      <th>6725</th>\n",
       "      <td>1</td>\n",
       "      <td>150</td>\n",
       "    </tr>\n",
       "    <tr>\n",
       "      <th>79697</th>\n",
       "      <td>1</td>\n",
       "      <td>200</td>\n",
       "    </tr>\n",
       "  </tbody>\n",
       "</table>\n",
       "</div>"
      ],
      "text/plain": [
       "             count  sum\n",
       "postal_code            \n",
       "44239            1    0\n",
       "96367            1    0\n",
       "89294            1    0\n",
       "8265             1    0\n",
       "95682            2    0\n",
       "17329            1  100\n",
       "89368            1  120\n",
       "4685             1  150\n",
       "6725             1  150\n",
       "79697            1  200"
      ]
     },
     "execution_count": 21,
     "metadata": {},
     "output_type": "execute_result"
    }
   ],
   "source": [
    "df.groupby('postal_code')['price'].agg(['count', 'sum']).sort_values(by='sum').head(10)"
   ]
  },
  {
   "cell_type": "code",
   "execution_count": 22,
   "metadata": {},
   "outputs": [],
   "source": [
    "df = df[df['price'] >= 100]"
   ]
  },
  {
   "cell_type": "markdown",
   "metadata": {},
   "source": [
    "**Выводы**\n",
    "\n",
    "Из-за того, что уникальные цены автомобиля непрерывно растут от 0 до 20000 евро, график не показал точку, по которой мы могли бы откинуть аномально низкие значения. \n",
    "\n",
    "После этого для каждого пользователя было рассчитано количество сделок и их общая сумма. Группировка показала, что самой низкой адекватной ценой является значение 100 евро. Все значения ниже 100 евро были удалены. "
   ]
  },
  {
   "cell_type": "markdown",
   "metadata": {},
   "source": [
    "#### Год регистрации автомобиля"
   ]
  },
  {
   "cell_type": "markdown",
   "metadata": {},
   "source": [
    "*Этап №1*"
   ]
  },
  {
   "cell_type": "code",
   "execution_count": 23,
   "metadata": {},
   "outputs": [
    {
     "data": {
      "text/plain": [
       "array([1000, 1001, 1039, 1111, 1234, 1255, 1300, 1400, 1500, 1600, 1602,\n",
       "       1800, 1910, 1923, 1925, 1927, 1928, 1929, 1930, 1931, 1932, 1933,\n",
       "       1934, 1935, 1936, 1937, 1938, 1940, 1941, 1942, 1943, 1944, 1945,\n",
       "       1946, 1947, 1948, 1949, 1950, 1951, 1952, 1953, 1954, 1955, 1956,\n",
       "       1957, 1958, 1959, 1960, 1961, 1962, 1963, 1964, 1965, 1966, 1967,\n",
       "       1968, 1969, 1970, 1971, 1972, 1973, 1974, 1975, 1976, 1977, 1978,\n",
       "       1979, 1980, 1981, 1982, 1983, 1984, 1985, 1986, 1987, 1988, 1989,\n",
       "       1990, 1991, 1992, 1993, 1994, 1995, 1996, 1997, 1998, 1999, 2000,\n",
       "       2001, 2002, 2003, 2004, 2005, 2006, 2007, 2008, 2009, 2010, 2011,\n",
       "       2012, 2013, 2014, 2015, 2016, 2017, 2018, 2019, 2066, 2200, 2222,\n",
       "       2290, 2500, 2800, 2900, 3000, 3200, 3700, 3800, 4000, 4100, 4500,\n",
       "       4800, 5000, 5300, 5555, 5600, 5900, 5911, 6000, 7000, 7100, 7800,\n",
       "       8200, 8500, 8888, 9000, 9450, 9999])"
      ]
     },
     "execution_count": 23,
     "metadata": {},
     "output_type": "execute_result"
    }
   ],
   "source": [
    "np.sort(df['registration_year'].unique())"
   ]
  },
  {
   "cell_type": "code",
   "execution_count": 24,
   "metadata": {},
   "outputs": [],
   "source": [
    "df = df[(df['registration_year'] >= 1910) & (df['registration_year'] <= 2019)]"
   ]
  },
  {
   "cell_type": "code",
   "execution_count": 25,
   "metadata": {},
   "outputs": [
    {
     "data": {
      "image/png": "[encoded data removed]",
      "text/plain": [
       "<Figure size 720x288 with 1 Axes>"
      ]
     },
     "metadata": {
      "needs_background": "light"
     },
     "output_type": "display_data"
    }
   ],
   "source": [
    "fig, ax = plt.subplots(figsize=(10, 4))\n",
    "\n",
    "ax.hist(df['registration_year'], bins=25, density=True)\n",
    "\n",
    "ax.set_title('Плотность распределения значений года регистрации автомобиля')\n",
    "ax.set_ylabel('Плотность')\n",
    "ax.set_xlabel('Год регистрации автомобиля')\n",
    "\n",
    "fig.tight_layout()\n",
    "\n",
    "plt.show()"
   ]
  },
  {
   "cell_type": "code",
   "execution_count": 26,
   "metadata": {},
   "outputs": [],
   "source": [
    "df = df[df['registration_year'] >= 1960]"
   ]
  },
  {
   "cell_type": "markdown",
   "metadata": {},
   "source": [
    "*Этап №2*"
   ]
  },
  {
   "cell_type": "code",
   "execution_count": 27,
   "metadata": {},
   "outputs": [
    {
     "data": {
      "text/plain": [
       "Timestamp('2016-04-07 00:00:00')"
      ]
     },
     "execution_count": 27,
     "metadata": {},
     "output_type": "execute_result"
    }
   ],
   "source": [
    "df['date_created'].max()"
   ]
  },
  {
   "cell_type": "code",
   "execution_count": 28,
   "metadata": {},
   "outputs": [],
   "source": [
    "df = df[df['registration_year'] <= df['year_created']]"
   ]
  },
  {
   "cell_type": "code",
   "execution_count": 29,
   "metadata": {},
   "outputs": [],
   "source": [
    "df = df[~((df['registration_year'] == df['year_created']) & \n",
    "          ((df['registration_month'] == 0) | (df['registration_month'] > df['month_created'])))]"
   ]
  },
  {
   "cell_type": "code",
   "execution_count": 30,
   "metadata": {},
   "outputs": [
    {
     "data": {
      "text/plain": [
       "2016"
      ]
     },
     "execution_count": 30,
     "metadata": {},
     "output_type": "execute_result"
    }
   ],
   "source": [
    "df['registration_year'].max()"
   ]
  },
  {
   "cell_type": "code",
   "execution_count": 31,
   "metadata": {},
   "outputs": [
    {
     "data": {
      "text/plain": [
       "array([1, 3, 2, 4])"
      ]
     },
     "execution_count": 31,
     "metadata": {},
     "output_type": "execute_result"
    }
   ],
   "source": [
    "df[df['registration_year'] == 2016]['registration_month'].unique()"
   ]
  },
  {
   "cell_type": "markdown",
   "metadata": {},
   "source": [
    "**Выводы**\n",
    "\n",
    "Обработка аномальных значений для года регистрации автомобиля состояла из двух этапов.\n",
    "\n",
    "*Этап №1*\n",
    "\n",
    "Нас основании списка уникальных значений года регистрации автомобиля для фильтрации было выбрано нижнее значение (1910 год) и верхнее значение (2019 год). Гистограмма распределения плотностей показала, что ниже 1960 года данных почти нет. Поэтому автомобили младше 1960 года также были удалены.\n",
    "\n",
    "*Этап №2*\n",
    "\n",
    "Второй этап заключался в проверке того, что год и месяц регистрации автомобиля не превышает год и месяц создания анкеты. В противном случае получается, что мы продаем машины из будущего. Сначала была сделана общая фильтрация и удалены все автомобили, у которых год регистрации был больше, чем год создания анкеты. Далее для тех позиций, у которых год регистрации равен году создания анкеты, проверялся месяц регистрации. И если он был равен нулю или превышал месяц создания анкеты, то эта позиция удалялась."
   ]
  },
  {
   "cell_type": "markdown",
   "metadata": {},
   "source": [
    "#### Мощность автомобиля"
   ]
  },
  {
   "cell_type": "code",
   "execution_count": 32,
   "metadata": {},
   "outputs": [],
   "source": [
    "df = df[(df['power'] >= 50) & (df['power'] <= 500)]"
   ]
  },
  {
   "cell_type": "code",
   "execution_count": 33,
   "metadata": {},
   "outputs": [
    {
     "data": {
      "image/png": "[encoded data removed]",
      "text/plain": [
       "<Figure size 720x288 with 1 Axes>"
      ]
     },
     "metadata": {
      "needs_background": "light"
     },
     "output_type": "display_data"
    }
   ],
   "source": [
    "fig, ax = plt.subplots(figsize=(10, 4))\n",
    "\n",
    "ax.hist(df['power'], bins=15, density=True)\n",
    "\n",
    "ax.set_title('Плотность распределения мощности автомобиля')\n",
    "ax.set_ylabel('Плотность')\n",
    "ax.set_xlabel('Мощность автомобиля')\n",
    "\n",
    "fig.tight_layout()\n",
    "\n",
    "plt.show()"
   ]
  },
  {
   "cell_type": "code",
   "execution_count": 34,
   "metadata": {},
   "outputs": [],
   "source": [
    "df = df[df['power'] <= 400]"
   ]
  },
  {
   "cell_type": "markdown",
   "metadata": {},
   "source": [
    "**Выводы**\n",
    "\n",
    "В интернет-источниках сказано, что мощность автомобилей находится где-то в районе от 50 до 500 л.с. Гистограмма распределения плотностей показала, что выше 400 л.с. автомобилей практически нет. Поэтому автомобили с мощностью выше 400 л.с. также были удалены."
   ]
  },
  {
   "cell_type": "markdown",
   "metadata": {},
   "source": [
    "### Общий вывод"
   ]
  },
  {
   "cell_type": "code",
   "execution_count": 35,
   "metadata": {},
   "outputs": [
    {
     "data": {
      "text/plain": [
       "0.19686823621705063"
      ]
     },
     "execution_count": 35,
     "metadata": {},
     "output_type": "execute_result"
    }
   ],
   "source": [
    "1 - len(df) / nrows_initial"
   ]
  },
  {
   "cell_type": "markdown",
   "metadata": {},
   "source": [
    "В ходе предобработки данных были удалены все аномальные значения и дубликаты, заполнены пропуски, данные приведены к необходимым типам и добавлены дополнительные столбцы.\n",
    "\n",
    "Всего суммарно было удалено почти 20 % данных."
   ]
  },
  {
   "cell_type": "markdown",
   "metadata": {},
   "source": [
    "## Обучение моделей"
   ]
  },
  {
   "cell_type": "markdown",
   "metadata": {},
   "source": [
    "### Разделение признаков"
   ]
  },
  {
   "cell_type": "markdown",
   "metadata": {},
   "source": [
    "Создадим два набора данных:\n",
    "- набор `X`: с признаками, которые используются для предсказания (Тип кузова, Тип коробки передач, Мощность, Модель, Пробег, Тип топлива, Марка, Признак ремонта и Общее количество месяцев);\n",
    "- набор `y`: с целевым признаком, который нужно предсказать (Цена)."
   ]
  },
  {
   "cell_type": "code",
   "execution_count": 36,
   "metadata": {},
   "outputs": [],
   "source": [
    "X = df[['vehicle_type', 'gearbox', 'power', 'model', 'kilometer', \n",
    "        'fuel_type', 'brand', 'not_repaired', 'total_months']].copy()\n",
    "\n",
    "y = df['price'].copy()"
   ]
  },
  {
   "cell_type": "markdown",
   "metadata": {},
   "source": [
    "Также создадим два вспомогательных списка:\n",
    "- `numeric` - с числовыми признаками;\n",
    "- `categorical` - с категориальными признаками."
   ]
  },
  {
   "cell_type": "code",
   "execution_count": 37,
   "metadata": {},
   "outputs": [],
   "source": [
    "numeric = ['power', 'total_months']\n",
    "categorical = ['vehicle_type', 'gearbox', 'model', 'kilometer','fuel_type', 'brand', 'not_repaired']"
   ]
  },
  {
   "cell_type": "markdown",
   "metadata": {},
   "source": [
    "### Вспомогательные функции"
   ]
  },
  {
   "cell_type": "code",
   "execution_count": 38,
   "metadata": {},
   "outputs": [],
   "source": [
    "# функция для разделения выборки на train и test с фиксированными параметрами 'test_size' и 'random_state'\n",
    "\n",
    "def train_test(features, target):\n",
    "    features_train, features_test, target_train, target_test = train_test_split(features, target, \n",
    "                                                                                test_size=0.25, \n",
    "                                                                                random_state=42) \n",
    "    return features_train, features_test, target_train, target_test"
   ]
  },
  {
   "cell_type": "code",
   "execution_count": 39,
   "metadata": {},
   "outputs": [],
   "source": [
    "# функция для расчета метрики RMSE\n",
    "\n",
    "def rmse(y_target, y_pred):\n",
    "    return mean_squared_error(y_target, y_pred)**0.5"
   ]
  },
  {
   "cell_type": "code",
   "execution_count": 40,
   "metadata": {},
   "outputs": [],
   "source": [
    "scorer = make_scorer(rmse, greater_is_better=False)"
   ]
  },
  {
   "cell_type": "code",
   "execution_count": 41,
   "metadata": {},
   "outputs": [],
   "source": [
    "kfold = KFold(n_splits=3, shuffle=True, random_state=42)"
   ]
  },
  {
   "cell_type": "markdown",
   "metadata": {},
   "source": [
    "### DecisionTreeRegressor"
   ]
  },
  {
   "cell_type": "code",
   "execution_count": 42,
   "metadata": {},
   "outputs": [],
   "source": [
    "X_ohe = pd.get_dummies(X, columns=categorical, drop_first=True)"
   ]
  },
  {
   "cell_type": "code",
   "execution_count": 43,
   "metadata": {},
   "outputs": [],
   "source": [
    "X_train, X_test, y_train, y_test = train_test(X_ohe, y)"
   ]
  },
  {
   "cell_type": "code",
   "execution_count": 44,
   "metadata": {},
   "outputs": [],
   "source": [
    "DTR = DecisionTreeRegressor(random_state=42)"
   ]
  },
  {
   "cell_type": "code",
   "execution_count": 45,
   "metadata": {},
   "outputs": [],
   "source": [
    "param_dist = {'max_depth': np.array([5, 6, 7, 8, 9]),\n",
    "              'min_samples_split': np.array([31, 65, 127, 255, 511])}"
   ]
  },
  {
   "cell_type": "code",
   "execution_count": 46,
   "metadata": {},
   "outputs": [],
   "source": [
    "DTR_randomized = RandomizedSearchCV(DTR, \n",
    "                                    param_dist, \n",
    "                                    n_iter=5, \n",
    "                                    scoring=scorer, \n",
    "                                    cv=kfold,\n",
    "                                    verbose=100,\n",
    "                                    n_jobs=-1, \n",
    "                                    random_state=42)"
   ]
  },
  {
   "cell_type": "code",
   "execution_count": 47,
   "metadata": {},
   "outputs": [
    {
     "name": "stdout",
     "output_type": "stream",
     "text": [
      "Fitting 3 folds for each of 5 candidates, totalling 15 fits\n",
      "[CV 1/3; 1/5] START max_depth=6, min_samples_split=255..........................\n",
      "[CV 1/3; 1/5] END ........max_depth=6, min_samples_split=255; total time=   1.9s\n",
      "[CV 2/3; 1/5] START max_depth=6, min_samples_split=255..........................\n",
      "[CV 2/3; 1/5] END ........max_depth=6, min_samples_split=255; total time=   1.8s\n",
      "[CV 3/3; 1/5] START max_depth=6, min_samples_split=255..........................\n",
      "[CV 3/3; 1/5] END ........max_depth=6, min_samples_split=255; total time=   1.9s\n",
      "[CV 1/3; 2/5] START max_depth=8, min_samples_split=65...........................\n",
      "[CV 1/3; 2/5] END .........max_depth=8, min_samples_split=65; total time=   2.3s\n",
      "[CV 2/3; 2/5] START max_depth=8, min_samples_split=65...........................\n",
      "[CV 2/3; 2/5] END .........max_depth=8, min_samples_split=65; total time=   2.3s\n",
      "[CV 3/3; 2/5] START max_depth=8, min_samples_split=65...........................\n",
      "[CV 3/3; 2/5] END .........max_depth=8, min_samples_split=65; total time=   2.3s\n",
      "[CV 1/3; 3/5] START max_depth=5, min_samples_split=31...........................\n",
      "[CV 1/3; 3/5] END .........max_depth=5, min_samples_split=31; total time=   1.6s\n",
      "[CV 2/3; 3/5] START max_depth=5, min_samples_split=31...........................\n",
      "[CV 2/3; 3/5] END .........max_depth=5, min_samples_split=31; total time=   1.6s\n",
      "[CV 3/3; 3/5] START max_depth=5, min_samples_split=31...........................\n",
      "[CV 3/3; 3/5] END .........max_depth=5, min_samples_split=31; total time=   1.6s\n",
      "[CV 1/3; 4/5] START max_depth=9, min_samples_split=255..........................\n",
      "[CV 1/3; 4/5] END ........max_depth=9, min_samples_split=255; total time=   2.5s\n",
      "[CV 2/3; 4/5] START max_depth=9, min_samples_split=255..........................\n",
      "[CV 2/3; 4/5] END ........max_depth=9, min_samples_split=255; total time=   2.5s\n",
      "[CV 3/3; 4/5] START max_depth=9, min_samples_split=255..........................\n",
      "[CV 3/3; 4/5] END ........max_depth=9, min_samples_split=255; total time=   2.4s\n",
      "[CV 1/3; 5/5] START max_depth=7, min_samples_split=65...........................\n",
      "[CV 1/3; 5/5] END .........max_depth=7, min_samples_split=65; total time=   2.0s\n",
      "[CV 2/3; 5/5] START max_depth=7, min_samples_split=65...........................\n",
      "[CV 2/3; 5/5] END .........max_depth=7, min_samples_split=65; total time=   2.0s\n",
      "[CV 3/3; 5/5] START max_depth=7, min_samples_split=65...........................\n",
      "[CV 3/3; 5/5] END .........max_depth=7, min_samples_split=65; total time=   2.1s\n",
      "CPU times: user 30.5 s, sys: 3.67 s, total: 34.1 s\n",
      "Wall time: 34.2 s\n"
     ]
    },
    {
     "data": {
      "text/plain": [
       "RandomizedSearchCV(cv=KFold(n_splits=3, random_state=42, shuffle=True),\n",
       "                   estimator=DecisionTreeRegressor(random_state=42), n_iter=5,\n",
       "                   n_jobs=-1,\n",
       "                   param_distributions={'max_depth': array([5, 6, 7, 8, 9]),\n",
       "                                        'min_samples_split': array([ 31,  65, 127, 255, 511])},\n",
       "                   random_state=42,\n",
       "                   scoring=make_scorer(rmse, greater_is_better=False),\n",
       "                   verbose=100)"
      ]
     },
     "execution_count": 47,
     "metadata": {},
     "output_type": "execute_result"
    }
   ],
   "source": [
    "%%time\n",
    "\n",
    "DTR_randomized.fit(X_train, y_train)"
   ]
  },
  {
   "cell_type": "code",
   "execution_count": 48,
   "metadata": {},
   "outputs": [
    {
     "data": {
      "text/plain": [
       "-2043.3210405151087"
      ]
     },
     "execution_count": 48,
     "metadata": {},
     "output_type": "execute_result"
    }
   ],
   "source": [
    "DTR_randomized.best_score_"
   ]
  },
  {
   "cell_type": "code",
   "execution_count": 49,
   "metadata": {},
   "outputs": [
    {
     "data": {
      "text/plain": [
       "{'min_samples_split': 255, 'max_depth': 9}"
      ]
     },
     "execution_count": 49,
     "metadata": {},
     "output_type": "execute_result"
    }
   ],
   "source": [
    "DTR_randomized.best_params_"
   ]
  },
  {
   "cell_type": "code",
   "execution_count": 50,
   "metadata": {},
   "outputs": [],
   "source": [
    "DTR_best = DTR_randomized.best_estimator_"
   ]
  },
  {
   "cell_type": "code",
   "execution_count": 51,
   "metadata": {},
   "outputs": [
    {
     "name": "stdout",
     "output_type": "stream",
     "text": [
      "CPU times: user 3.41 s, sys: 192 ms, total: 3.6 s\n",
      "Wall time: 3.61 s\n"
     ]
    },
    {
     "data": {
      "text/plain": [
       "DecisionTreeRegressor(max_depth=9, min_samples_split=255, random_state=42)"
      ]
     },
     "execution_count": 51,
     "metadata": {},
     "output_type": "execute_result"
    }
   ],
   "source": [
    "%%time\n",
    "\n",
    "DTR_best.fit(X_train, y_train)"
   ]
  },
  {
   "cell_type": "code",
   "execution_count": 52,
   "metadata": {},
   "outputs": [
    {
     "name": "stdout",
     "output_type": "stream",
     "text": [
      "CPU times: user 57.2 ms, sys: 76.1 ms, total: 133 ms\n",
      "Wall time: 140 ms\n"
     ]
    },
    {
     "data": {
      "text/plain": [
       "2009.3554294601092"
      ]
     },
     "execution_count": 52,
     "metadata": {},
     "output_type": "execute_result"
    }
   ],
   "source": [
    "%%time\n",
    "\n",
    "rmse(y_test, DTR_best.predict(X_test))"
   ]
  },
  {
   "cell_type": "code",
   "execution_count": 53,
   "metadata": {},
   "outputs": [],
   "source": [
    "del X_ohe, X_train, X_test, y_train, y_test"
   ]
  },
  {
   "cell_type": "markdown",
   "metadata": {},
   "source": [
    "**Выводы**\n",
    "\n",
    "Для модели `DecisionTreeRegressor` с параметрами `min_samples_split`: 255, `max_depth`: 9:\n",
    "- RMSE на кросс-валидации: -2043 евро;\n",
    "- время обучения модели: 3.61 с;\n",
    "- время предсказания: 140 мс;\n",
    "- RMSE на тесте: 2009 евро."
   ]
  },
  {
   "cell_type": "markdown",
   "metadata": {},
   "source": [
    "### CatBoostRegressor"
   ]
  },
  {
   "cell_type": "code",
   "execution_count": 54,
   "metadata": {},
   "outputs": [],
   "source": [
    "X_train, X_test, y_train, y_test = train_test(X, y)"
   ]
  },
  {
   "cell_type": "code",
   "execution_count": 55,
   "metadata": {},
   "outputs": [],
   "source": [
    "CBR = CatBoostRegressor(loss_function='RMSE', \n",
    "                        cat_features=categorical, \n",
    "                        verbose=False,\n",
    "                        random_state=42,\n",
    "                        early_stopping_rounds=200)"
   ]
  },
  {
   "cell_type": "code",
   "execution_count": 56,
   "metadata": {},
   "outputs": [],
   "source": [
    "param_dist = {'learning_rate': np.linspace(0.1, 0.5, num=5),\n",
    "              'iterations': np.array([200, 400, 600, 800, 1000])}"
   ]
  },
  {
   "cell_type": "code",
   "execution_count": 57,
   "metadata": {},
   "outputs": [],
   "source": [
    "CBR_randomized = RandomizedSearchCV(CBR, \n",
    "                                    param_dist, \n",
    "                                    n_iter=5, \n",
    "                                    scoring=scorer, \n",
    "                                    cv=kfold,\n",
    "                                    verbose=100,\n",
    "                                    n_jobs=-1, \n",
    "                                    random_state=42)"
   ]
  },
  {
   "cell_type": "code",
   "execution_count": 58,
   "metadata": {},
   "outputs": [
    {
     "name": "stdout",
     "output_type": "stream",
     "text": [
      "Fitting 3 folds for each of 5 candidates, totalling 15 fits\n",
      "[CV 1/3; 1/5] START iterations=400, learning_rate=0.4...........................\n",
      "[CV 1/3; 1/5] END .........iterations=400, learning_rate=0.4; total time= 1.0min\n",
      "[CV 2/3; 1/5] START iterations=400, learning_rate=0.4...........................\n",
      "[CV 2/3; 1/5] END .........iterations=400, learning_rate=0.4; total time= 1.0min\n",
      "[CV 3/3; 1/5] START iterations=400, learning_rate=0.4...........................\n",
      "[CV 3/3; 1/5] END .........iterations=400, learning_rate=0.4; total time= 1.0min\n",
      "[CV 1/3; 2/5] START iterations=800, learning_rate=0.2...........................\n",
      "[CV 1/3; 2/5] END .........iterations=800, learning_rate=0.2; total time= 2.1min\n",
      "[CV 2/3; 2/5] START iterations=800, learning_rate=0.2...........................\n",
      "[CV 2/3; 2/5] END .........iterations=800, learning_rate=0.2; total time= 2.1min\n",
      "[CV 3/3; 2/5] START iterations=800, learning_rate=0.2...........................\n",
      "[CV 3/3; 2/5] END .........iterations=800, learning_rate=0.2; total time= 2.1min\n",
      "[CV 1/3; 3/5] START iterations=200, learning_rate=0.1...........................\n",
      "[CV 1/3; 3/5] END .........iterations=200, learning_rate=0.1; total time=  30.6s\n",
      "[CV 2/3; 3/5] START iterations=200, learning_rate=0.1...........................\n",
      "[CV 2/3; 3/5] END .........iterations=200, learning_rate=0.1; total time=  30.5s\n",
      "[CV 3/3; 3/5] START iterations=200, learning_rate=0.1...........................\n",
      "[CV 3/3; 3/5] END .........iterations=200, learning_rate=0.1; total time=  31.0s\n",
      "[CV 1/3; 4/5] START iterations=1000, learning_rate=0.4..........................\n",
      "[CV 1/3; 4/5] END ........iterations=1000, learning_rate=0.4; total time= 2.6min\n",
      "[CV 2/3; 4/5] START iterations=1000, learning_rate=0.4..........................\n",
      "[CV 2/3; 4/5] END ........iterations=1000, learning_rate=0.4; total time= 2.7min\n",
      "[CV 3/3; 4/5] START iterations=1000, learning_rate=0.4..........................\n",
      "[CV 3/3; 4/5] END ........iterations=1000, learning_rate=0.4; total time= 2.8min\n",
      "[CV 1/3; 5/5] START iterations=600, learning_rate=0.2...........................\n",
      "[CV 1/3; 5/5] END .........iterations=600, learning_rate=0.2; total time= 1.7min\n",
      "[CV 2/3; 5/5] START iterations=600, learning_rate=0.2...........................\n",
      "[CV 2/3; 5/5] END .........iterations=600, learning_rate=0.2; total time= 1.6min\n",
      "[CV 3/3; 5/5] START iterations=600, learning_rate=0.2...........................\n",
      "[CV 3/3; 5/5] END .........iterations=600, learning_rate=0.2; total time= 1.7min\n",
      "CPU times: user 27min 46s, sys: 7.24 s, total: 27min 53s\n",
      "Wall time: 28min 6s\n"
     ]
    },
    {
     "data": {
      "text/plain": [
       "RandomizedSearchCV(cv=KFold(n_splits=3, random_state=42, shuffle=True),\n",
       "                   estimator=<catboost.core.CatBoostRegressor object at 0x7efb7a649310>,\n",
       "                   n_iter=5, n_jobs=-1,\n",
       "                   param_distributions={'iterations': array([ 200,  400,  600,  800, 1000]),\n",
       "                                        'learning_rate': array([0.1, 0.2, 0.3, 0.4, 0.5])},\n",
       "                   random_state=42,\n",
       "                   scoring=make_scorer(rmse, greater_is_better=False),\n",
       "                   verbose=100)"
      ]
     },
     "execution_count": 58,
     "metadata": {},
     "output_type": "execute_result"
    }
   ],
   "source": [
    "%%time\n",
    "\n",
    "CBR_randomized.fit(X_train, y_train)"
   ]
  },
  {
   "cell_type": "code",
   "execution_count": 59,
   "metadata": {},
   "outputs": [
    {
     "data": {
      "text/plain": [
       "-1553.0163370943076"
      ]
     },
     "execution_count": 59,
     "metadata": {},
     "output_type": "execute_result"
    }
   ],
   "source": [
    "CBR_randomized.best_score_"
   ]
  },
  {
   "cell_type": "code",
   "execution_count": 60,
   "metadata": {},
   "outputs": [
    {
     "data": {
      "text/plain": [
       "{'learning_rate': 0.4, 'iterations': 1000}"
      ]
     },
     "execution_count": 60,
     "metadata": {},
     "output_type": "execute_result"
    }
   ],
   "source": [
    "CBR_randomized.best_params_"
   ]
  },
  {
   "cell_type": "code",
   "execution_count": 61,
   "metadata": {},
   "outputs": [],
   "source": [
    "CBR_best = CBR_randomized.best_estimator_"
   ]
  },
  {
   "cell_type": "code",
   "execution_count": 62,
   "metadata": {},
   "outputs": [
    {
     "name": "stdout",
     "output_type": "stream",
     "text": [
      "CPU times: user 4min 4s, sys: 1.07 s, total: 4min 5s\n",
      "Wall time: 4min 7s\n"
     ]
    },
    {
     "data": {
      "text/plain": [
       "<catboost.core.CatBoostRegressor at 0x7efb7a649b50>"
      ]
     },
     "execution_count": 62,
     "metadata": {},
     "output_type": "execute_result"
    }
   ],
   "source": [
    "%%time\n",
    "\n",
    "CBR_best.fit(X_train, y_train)"
   ]
  },
  {
   "cell_type": "code",
   "execution_count": 63,
   "metadata": {},
   "outputs": [
    {
     "name": "stdout",
     "output_type": "stream",
     "text": [
      "CPU times: user 1.02 s, sys: 7.98 ms, total: 1.03 s\n",
      "Wall time: 1.03 s\n"
     ]
    },
    {
     "data": {
      "text/plain": [
       "1519.656334279963"
      ]
     },
     "execution_count": 63,
     "metadata": {},
     "output_type": "execute_result"
    }
   ],
   "source": [
    "%%time\n",
    "\n",
    "rmse(y_test, CBR_best.predict(X_test))"
   ]
  },
  {
   "cell_type": "code",
   "execution_count": 64,
   "metadata": {},
   "outputs": [],
   "source": [
    "del X_train, X_test, y_train, y_test"
   ]
  },
  {
   "cell_type": "markdown",
   "metadata": {},
   "source": [
    "**Выводы**\n",
    "\n",
    "Для модели `CatBoostRegressor` с параметрами `learning_rate`: 0.4, `iterations`: 1000:\n",
    "- RMSE на кросс-валидации: -1553 евро;\n",
    "- время обучения модели: 247 с;\n",
    "- время предсказания: 1.03 с;\n",
    "- RMSE на тесте: 1520 евро."
   ]
  },
  {
   "cell_type": "markdown",
   "metadata": {},
   "source": [
    "### LGBMRegressor"
   ]
  },
  {
   "cell_type": "code",
   "execution_count": 65,
   "metadata": {},
   "outputs": [],
   "source": [
    "X_train, X_test, y_train, y_test = train_test(X, y)"
   ]
  },
  {
   "cell_type": "code",
   "execution_count": 66,
   "metadata": {},
   "outputs": [],
   "source": [
    "pd.options.mode.chained_assignment = None\n",
    "\n",
    "X_train[categorical] = X_train[categorical].astype('category')\n",
    "X_test[categorical] = X_test[categorical].astype('category')"
   ]
  },
  {
   "cell_type": "code",
   "execution_count": 67,
   "metadata": {},
   "outputs": [],
   "source": [
    "LGBMR = LGBMRegressor(n_estimators=100, \n",
    "                      max_depth=9, \n",
    "                      objective='rmse', \n",
    "                      random_state=42, \n",
    "                      n_jobs=-1)"
   ]
  },
  {
   "cell_type": "code",
   "execution_count": 68,
   "metadata": {},
   "outputs": [],
   "source": [
    "param_dist = {'learning_rate': np.linspace(0.1, 0.5, num=5),\n",
    "              'num_leaves': np.array([31, 65, 127, 255, 511])}"
   ]
  },
  {
   "cell_type": "code",
   "execution_count": 69,
   "metadata": {},
   "outputs": [],
   "source": [
    "LGBMR_randomized = RandomizedSearchCV(LGBMR, \n",
    "                                      param_dist, \n",
    "                                      n_iter=5, \n",
    "                                      scoring=scorer, \n",
    "                                      cv=kfold,\n",
    "                                      verbose=100,\n",
    "                                      n_jobs=-1, \n",
    "                                      random_state=42)"
   ]
  },
  {
   "cell_type": "code",
   "execution_count": 70,
   "metadata": {},
   "outputs": [
    {
     "name": "stdout",
     "output_type": "stream",
     "text": [
      "Fitting 3 folds for each of 5 candidates, totalling 15 fits\n",
      "[CV 1/3; 1/5] START learning_rate=0.2, num_leaves=255...........................\n",
      "[CV 1/3; 1/5] END .........learning_rate=0.2, num_leaves=255; total time=   9.8s\n",
      "[CV 2/3; 1/5] START learning_rate=0.2, num_leaves=255...........................\n",
      "[CV 2/3; 1/5] END .........learning_rate=0.2, num_leaves=255; total time=   9.6s\n",
      "[CV 3/3; 1/5] START learning_rate=0.2, num_leaves=255...........................\n",
      "[CV 3/3; 1/5] END .........learning_rate=0.2, num_leaves=255; total time=   8.7s\n",
      "[CV 1/3; 2/5] START learning_rate=0.4, num_leaves=65............................\n",
      "[CV 1/3; 2/5] END ..........learning_rate=0.4, num_leaves=65; total time=   4.6s\n",
      "[CV 2/3; 2/5] START learning_rate=0.4, num_leaves=65............................\n",
      "[CV 2/3; 2/5] END ..........learning_rate=0.4, num_leaves=65; total time=   7.6s\n",
      "[CV 3/3; 2/5] START learning_rate=0.4, num_leaves=65............................\n",
      "[CV 3/3; 2/5] END ..........learning_rate=0.4, num_leaves=65; total time=   4.7s\n",
      "[CV 1/3; 3/5] START learning_rate=0.1, num_leaves=31............................\n",
      "[CV 1/3; 3/5] END ..........learning_rate=0.1, num_leaves=31; total time=   9.3s\n",
      "[CV 2/3; 3/5] START learning_rate=0.1, num_leaves=31............................\n",
      "[CV 2/3; 3/5] END ..........learning_rate=0.1, num_leaves=31; total time=   6.5s\n",
      "[CV 3/3; 3/5] START learning_rate=0.1, num_leaves=31............................\n",
      "[CV 3/3; 3/5] END ..........learning_rate=0.1, num_leaves=31; total time=   4.8s\n",
      "[CV 1/3; 4/5] START learning_rate=0.5, num_leaves=255...........................\n",
      "[CV 1/3; 4/5] END .........learning_rate=0.5, num_leaves=255; total time=  10.7s\n",
      "[CV 2/3; 4/5] START learning_rate=0.5, num_leaves=255...........................\n",
      "[CV 2/3; 4/5] END .........learning_rate=0.5, num_leaves=255; total time=   8.0s\n",
      "[CV 3/3; 4/5] START learning_rate=0.5, num_leaves=255...........................\n",
      "[CV 3/3; 4/5] END .........learning_rate=0.5, num_leaves=255; total time=   7.9s\n",
      "[CV 1/3; 5/5] START learning_rate=0.30000000000000004, num_leaves=65............\n",
      "[CV 1/3; 5/5] END learning_rate=0.30000000000000004, num_leaves=65; total time=   4.7s\n",
      "[CV 2/3; 5/5] START learning_rate=0.30000000000000004, num_leaves=65............\n",
      "[CV 2/3; 5/5] END learning_rate=0.30000000000000004, num_leaves=65; total time=   4.4s\n",
      "[CV 3/3; 5/5] START learning_rate=0.30000000000000004, num_leaves=65............\n",
      "[CV 3/3; 5/5] END learning_rate=0.30000000000000004, num_leaves=65; total time=   4.7s\n",
      "CPU times: user 1min 53s, sys: 526 ms, total: 1min 54s\n",
      "Wall time: 1min 55s\n"
     ]
    },
    {
     "data": {
      "text/plain": [
       "RandomizedSearchCV(cv=KFold(n_splits=3, random_state=42, shuffle=True),\n",
       "                   estimator=LGBMRegressor(max_depth=9, objective='rmse',\n",
       "                                           random_state=42),\n",
       "                   n_iter=5, n_jobs=-1,\n",
       "                   param_distributions={'learning_rate': array([0.1, 0.2, 0.3, 0.4, 0.5]),\n",
       "                                        'num_leaves': array([ 31,  65, 127, 255, 511])},\n",
       "                   random_state=42,\n",
       "                   scoring=make_scorer(rmse, greater_is_better=False),\n",
       "                   verbose=100)"
      ]
     },
     "execution_count": 70,
     "metadata": {},
     "output_type": "execute_result"
    }
   ],
   "source": [
    "%%time\n",
    "\n",
    "LGBMR_randomized.fit(X_train, y_train)"
   ]
  },
  {
   "cell_type": "code",
   "execution_count": 71,
   "metadata": {},
   "outputs": [
    {
     "data": {
      "text/plain": [
       "-1527.3149527105752"
      ]
     },
     "execution_count": 71,
     "metadata": {},
     "output_type": "execute_result"
    }
   ],
   "source": [
    "LGBMR_randomized.best_score_"
   ]
  },
  {
   "cell_type": "code",
   "execution_count": 72,
   "metadata": {},
   "outputs": [
    {
     "data": {
      "text/plain": [
       "{'num_leaves': 255, 'learning_rate': 0.2}"
      ]
     },
     "execution_count": 72,
     "metadata": {},
     "output_type": "execute_result"
    }
   ],
   "source": [
    "LGBMR_randomized.best_params_"
   ]
  },
  {
   "cell_type": "code",
   "execution_count": 73,
   "metadata": {},
   "outputs": [],
   "source": [
    "LGBMR_best = LGBMR_randomized.best_estimator_"
   ]
  },
  {
   "cell_type": "code",
   "execution_count": 74,
   "metadata": {},
   "outputs": [
    {
     "name": "stdout",
     "output_type": "stream",
     "text": [
      "CPU times: user 10.5 s, sys: 31.3 ms, total: 10.6 s\n",
      "Wall time: 10.6 s\n"
     ]
    },
    {
     "data": {
      "text/plain": [
       "LGBMRegressor(learning_rate=0.2, max_depth=9, num_leaves=255, objective='rmse',\n",
       "              random_state=42)"
      ]
     },
     "execution_count": 74,
     "metadata": {},
     "output_type": "execute_result"
    }
   ],
   "source": [
    "%%time\n",
    "\n",
    "LGBMR_best.fit(X_train, y_train)"
   ]
  },
  {
   "cell_type": "code",
   "execution_count": 75,
   "metadata": {},
   "outputs": [
    {
     "name": "stdout",
     "output_type": "stream",
     "text": [
      "CPU times: user 1.01 s, sys: 0 ns, total: 1.01 s\n",
      "Wall time: 1 s\n"
     ]
    },
    {
     "data": {
      "text/plain": [
       "1490.9500251703798"
      ]
     },
     "execution_count": 75,
     "metadata": {},
     "output_type": "execute_result"
    }
   ],
   "source": [
    "%%time\n",
    "\n",
    "rmse(y_test, LGBMR_best.predict(X_test))"
   ]
  },
  {
   "cell_type": "code",
   "execution_count": 76,
   "metadata": {},
   "outputs": [],
   "source": [
    "del X_train, X_test, y_train, y_test"
   ]
  },
  {
   "cell_type": "markdown",
   "metadata": {},
   "source": [
    "**Выводы**\n",
    "\n",
    "Для модели `LGBMRegressor` с параметрами `num_leaves`: 255, `learning_rate`: 0.2:\n",
    "- RMSE на кросс-валидации: -1527 евро;\n",
    "- время обучения модели: 10.6 с;\n",
    "- время предсказания: 1 с;\n",
    "- RMSE на тесте: 1491 евро"
   ]
  },
  {
   "cell_type": "markdown",
   "metadata": {},
   "source": [
    "## Анализ моделей"
   ]
  },
  {
   "cell_type": "markdown",
   "metadata": {},
   "source": [
    "Сводная информация для рассмотренных моделей приведена в таблице."
   ]
  },
  {
   "cell_type": "markdown",
   "metadata": {},
   "source": [
    "|Модель               |RMSE на кросс-валидации|Время обучения модели|Время предсказания|RMSE на тесте|\n",
    "|:--------------------|:---------------------:|:-------------------:|:----------------:|:-----------:|\n",
    "|DecisionTreeRegressor|-2043 евро             |3.61 с               |140 мс            |2009 евро    |\n",
    "|CatBoostRegressor    |-1553 евро             |247 с                |1.03 с            |1520 евро    |\n",
    "|LGBMRegressor        |-1527 евро             |10.6 с               |1 с               |1491 евро    |"
   ]
  },
  {
   "cell_type": "markdown",
   "metadata": {},
   "source": [
    "Лучшей моделью в соотношении Качество предсказаний-Скорость обучения-Скорость предсказания получился `LGBMRegressor` с параметрами `num_leaves`: 255, `learning_rate`: 0.2."
   ]
  }
 ],
 "metadata": {
  "ExecuteTimeLog": [
   {
    "duration": 1298,
    "start_time": "2022-06-10T16:57:13.505Z"
   },
   {
    "duration": 3,
    "start_time": "2022-06-10T16:57:14.805Z"
   },
   {
    "duration": 2929,
    "start_time": "2022-06-10T16:57:14.809Z"
   },
   {
    "duration": 17,
    "start_time": "2022-06-10T16:57:17.741Z"
   },
   {
    "duration": 144,
    "start_time": "2022-06-10T16:57:17.760Z"
   },
   {
    "duration": 152,
    "start_time": "2022-06-10T16:57:17.905Z"
   },
   {
    "duration": 5,
    "start_time": "2022-06-10T16:57:18.058Z"
   },
   {
    "duration": 8,
    "start_time": "2022-06-10T16:57:18.064Z"
   },
   {
    "duration": 5,
    "start_time": "2022-06-10T16:57:18.074Z"
   },
   {
    "duration": 11,
    "start_time": "2022-06-10T16:57:18.082Z"
   },
   {
    "duration": 230,
    "start_time": "2022-06-10T16:57:18.095Z"
   },
   {
    "duration": 513,
    "start_time": "2022-06-10T16:57:18.327Z"
   },
   {
    "duration": 553,
    "start_time": "2022-06-10T16:57:18.842Z"
   },
   {
    "duration": 188,
    "start_time": "2022-06-10T16:57:19.396Z"
   },
   {
    "duration": 204,
    "start_time": "2022-06-10T16:57:19.586Z"
   },
   {
    "duration": 213,
    "start_time": "2022-06-10T16:57:19.792Z"
   },
   {
    "duration": 75,
    "start_time": "2022-06-10T16:57:20.007Z"
   },
   {
    "duration": 183,
    "start_time": "2022-06-10T16:57:20.084Z"
   },
   {
    "duration": 7,
    "start_time": "2022-06-10T16:57:20.269Z"
   },
   {
    "duration": 53,
    "start_time": "2022-06-10T16:57:20.278Z"
   },
   {
    "duration": 329,
    "start_time": "2022-06-10T16:57:20.333Z"
   },
   {
    "duration": 48,
    "start_time": "2022-06-10T16:57:20.664Z"
   },
   {
    "duration": 26,
    "start_time": "2022-06-10T16:57:20.714Z"
   },
   {
    "duration": 148,
    "start_time": "2022-06-10T16:57:20.742Z"
   },
   {
    "duration": 72,
    "start_time": "2022-06-10T16:57:20.892Z"
   },
   {
    "duration": 62,
    "start_time": "2022-06-10T16:57:20.965Z"
   },
   {
    "duration": 5,
    "start_time": "2022-06-10T16:57:21.028Z"
   },
   {
    "duration": 25,
    "start_time": "2022-06-10T16:57:21.037Z"
   },
   {
    "duration": 44,
    "start_time": "2022-06-10T16:57:21.063Z"
   },
   {
    "duration": 383,
    "start_time": "2022-06-10T16:57:21.108Z"
   },
   {
    "duration": 54,
    "start_time": "2022-06-10T16:57:21.493Z"
   },
   {
    "duration": 5,
    "start_time": "2022-06-10T16:57:21.559Z"
   },
   {
    "duration": 110,
    "start_time": "2022-06-10T16:57:21.566Z"
   },
   {
    "duration": 6,
    "start_time": "2022-06-10T16:57:21.678Z"
   },
   {
    "duration": 10,
    "start_time": "2022-06-10T16:57:21.685Z"
   },
   {
    "duration": 42,
    "start_time": "2022-06-10T16:57:21.697Z"
   },
   {
    "duration": 17,
    "start_time": "2022-06-10T16:57:21.742Z"
   },
   {
    "duration": 4,
    "start_time": "2022-06-10T16:57:21.762Z"
   },
   {
    "duration": 732,
    "start_time": "2022-06-10T16:57:21.768Z"
   },
   {
    "duration": 348,
    "start_time": "2022-06-10T16:57:22.502Z"
   },
   {
    "duration": 120,
    "start_time": "2022-06-10T16:57:22.853Z"
   },
   {
    "duration": 3,
    "start_time": "2022-06-10T16:57:22.975Z"
   },
   {
    "duration": 17,
    "start_time": "2022-06-10T16:57:22.980Z"
   },
   {
    "duration": 10,
    "start_time": "2022-06-10T16:57:23.000Z"
   },
   {
    "duration": 23,
    "start_time": "2022-06-10T16:57:23.012Z"
   },
   {
    "duration": 3,
    "start_time": "2022-06-10T16:58:01.652Z"
   },
   {
    "duration": 22939,
    "start_time": "2022-06-10T16:58:02.521Z"
   },
   {
    "duration": 93387,
    "start_time": "2022-06-10T16:58:51.585Z"
   },
   {
    "duration": 5,
    "start_time": "2022-06-10T17:00:29.528Z"
   },
   {
    "duration": 3,
    "start_time": "2022-06-10T17:03:20.380Z"
   },
   {
    "duration": 369,
    "start_time": "2022-06-10T17:04:51.493Z"
   },
   {
    "duration": 447,
    "start_time": "2022-06-10T17:05:29.913Z"
   },
   {
    "duration": 132373,
    "start_time": "2022-06-10T17:08:46.386Z"
   },
   {
    "duration": 5,
    "start_time": "2022-06-10T17:10:58.761Z"
   },
   {
    "duration": 3,
    "start_time": "2022-06-10T17:15:44.635Z"
   },
   {
    "duration": 2,
    "start_time": "2022-06-10T17:17:11.641Z"
   },
   {
    "duration": 119636,
    "start_time": "2022-06-10T17:17:34.922Z"
   },
   {
    "duration": 3,
    "start_time": "2022-06-10T17:19:37.540Z"
   },
   {
    "duration": 5,
    "start_time": "2022-06-10T17:19:48.600Z"
   },
   {
    "duration": 3,
    "start_time": "2022-06-10T17:25:16.198Z"
   },
   {
    "duration": 2,
    "start_time": "2022-06-10T17:25:18.342Z"
   },
   {
    "duration": 106913,
    "start_time": "2022-06-10T17:25:22.650Z"
   },
   {
    "duration": 5,
    "start_time": "2022-06-10T17:27:19.815Z"
   },
   {
    "duration": 3,
    "start_time": "2022-06-10T17:28:10.735Z"
   },
   {
    "duration": 4,
    "start_time": "2022-06-10T17:28:17.600Z"
   },
   {
    "duration": 25267,
    "start_time": "2022-06-10T17:31:25.463Z"
   },
   {
    "duration": 122745,
    "start_time": "2022-06-10T17:33:24.313Z"
   },
   {
    "duration": 5,
    "start_time": "2022-06-10T17:35:36.692Z"
   },
   {
    "duration": 139533,
    "start_time": "2022-06-10T17:39:15.925Z"
   },
   {
    "duration": 5,
    "start_time": "2022-06-10T17:41:37.542Z"
   },
   {
    "duration": 215548,
    "start_time": "2022-06-10T17:42:24.618Z"
   },
   {
    "duration": 4,
    "start_time": "2022-06-10T17:46:03.151Z"
   },
   {
    "duration": 4,
    "start_time": "2022-06-10T17:46:43.188Z"
   },
   {
    "duration": 3,
    "start_time": "2022-06-10T17:51:12.303Z"
   },
   {
    "duration": 3,
    "start_time": "2022-06-10T17:51:51.066Z"
   },
   {
    "duration": 235317,
    "start_time": "2022-06-10T17:52:10.568Z"
   },
   {
    "duration": 5,
    "start_time": "2022-06-10T17:56:11.826Z"
   },
   {
    "duration": 80,
    "start_time": "2022-06-10T17:59:26.172Z"
   },
   {
    "duration": 13,
    "start_time": "2022-06-10T18:01:55.971Z"
   },
   {
    "duration": 4,
    "start_time": "2022-06-10T18:02:00.368Z"
   },
   {
    "duration": 3,
    "start_time": "2022-06-10T18:02:07.343Z"
   },
   {
    "duration": 28,
    "start_time": "2022-06-10T18:03:02.766Z"
   },
   {
    "duration": 62,
    "start_time": "2022-06-10T18:03:33.088Z"
   },
   {
    "duration": 3,
    "start_time": "2022-06-10T18:03:33.934Z"
   },
   {
    "duration": 10346,
    "start_time": "2022-06-10T18:03:34.794Z"
   },
   {
    "duration": 9845,
    "start_time": "2022-06-10T18:04:01.766Z"
   },
   {
    "duration": 703,
    "start_time": "2022-06-10T18:04:59.409Z"
   },
   {
    "duration": 3,
    "start_time": "2022-06-10T18:05:30.249Z"
   },
   {
    "duration": 723,
    "start_time": "2022-06-10T18:05:38.336Z"
   },
   {
    "duration": 3,
    "start_time": "2022-06-10T18:07:27.906Z"
   },
   {
    "duration": 15654,
    "start_time": "2022-06-10T18:08:13.297Z"
   },
   {
    "duration": 42900,
    "start_time": "2022-06-10T18:08:31.851Z"
   },
   {
    "duration": 5,
    "start_time": "2022-06-10T18:09:36.183Z"
   },
   {
    "duration": 4,
    "start_time": "2022-06-10T18:09:46.546Z"
   },
   {
    "duration": 6,
    "start_time": "2022-06-10T18:09:51.897Z"
   },
   {
    "duration": 4,
    "start_time": "2022-06-10T18:09:55.902Z"
   },
   {
    "duration": 4,
    "start_time": "2022-06-10T18:15:32.202Z"
   },
   {
    "duration": 3,
    "start_time": "2022-06-10T18:15:48.511Z"
   },
   {
    "duration": 3,
    "start_time": "2022-06-10T18:16:33.977Z"
   },
   {
    "duration": 3,
    "start_time": "2022-06-10T18:21:29.243Z"
   },
   {
    "duration": 3,
    "start_time": "2022-06-10T18:22:58.144Z"
   },
   {
    "duration": 38922,
    "start_time": "2022-06-10T18:23:01.744Z"
   },
   {
    "duration": 4,
    "start_time": "2022-06-10T18:23:47.072Z"
   },
   {
    "duration": 4,
    "start_time": "2022-06-10T18:32:11.293Z"
   },
   {
    "duration": 259,
    "start_time": "2022-06-10T18:33:18.387Z"
   },
   {
    "duration": 13,
    "start_time": "2022-06-10T18:33:37.295Z"
   },
   {
    "duration": 3,
    "start_time": "2022-06-10T18:33:42.827Z"
   },
   {
    "duration": 14,
    "start_time": "2022-06-10T18:33:43.475Z"
   },
   {
    "duration": 58,
    "start_time": "2022-06-10T18:34:09.161Z"
   },
   {
    "duration": 267,
    "start_time": "2022-06-10T18:34:09.792Z"
   },
   {
    "duration": 3,
    "start_time": "2022-06-10T18:34:10.327Z"
   },
   {
    "duration": 13,
    "start_time": "2022-06-10T18:34:10.982Z"
   },
   {
    "duration": 268,
    "start_time": "2022-06-10T18:35:52.016Z"
   },
   {
    "duration": 3,
    "start_time": "2022-06-10T18:35:54.038Z"
   },
   {
    "duration": 10023,
    "start_time": "2022-06-10T18:35:59.833Z"
   },
   {
    "duration": 248,
    "start_time": "2022-06-10T18:36:42.257Z"
   },
   {
    "duration": 17,
    "start_time": "2022-06-10T18:36:54.442Z"
   },
   {
    "duration": 17,
    "start_time": "2022-06-10T18:37:18.281Z"
   },
   {
    "duration": 1007,
    "start_time": "2022-06-10T18:38:14.654Z"
   },
   {
    "duration": 3,
    "start_time": "2022-06-10T18:38:18.574Z"
   },
   {
    "duration": 9842,
    "start_time": "2022-06-10T18:38:19.057Z"
   },
   {
    "duration": 43,
    "start_time": "2022-06-11T02:24:55.621Z"
   },
   {
    "duration": 1335,
    "start_time": "2022-06-11T02:25:03.729Z"
   },
   {
    "duration": 3,
    "start_time": "2022-06-11T02:25:05.066Z"
   },
   {
    "duration": 1033,
    "start_time": "2022-06-11T02:25:05.070Z"
   },
   {
    "duration": 15,
    "start_time": "2022-06-11T02:25:06.105Z"
   },
   {
    "duration": 160,
    "start_time": "2022-06-11T02:25:06.121Z"
   },
   {
    "duration": 106,
    "start_time": "2022-06-11T02:25:06.283Z"
   },
   {
    "duration": 4,
    "start_time": "2022-06-11T02:25:06.390Z"
   },
   {
    "duration": 7,
    "start_time": "2022-06-11T02:25:06.395Z"
   },
   {
    "duration": 88,
    "start_time": "2022-06-11T02:25:09.368Z"
   },
   {
    "duration": 91,
    "start_time": "2022-06-11T02:27:00.336Z"
   },
   {
    "duration": 5,
    "start_time": "2022-06-11T02:27:09.509Z"
   },
   {
    "duration": 11,
    "start_time": "2022-06-11T02:28:02.543Z"
   },
   {
    "duration": 3,
    "start_time": "2022-06-11T02:29:25.457Z"
   },
   {
    "duration": 5,
    "start_time": "2022-06-11T02:29:25.463Z"
   },
   {
    "duration": 746,
    "start_time": "2022-06-11T02:29:25.469Z"
   },
   {
    "duration": 16,
    "start_time": "2022-06-11T02:29:26.218Z"
   },
   {
    "duration": 166,
    "start_time": "2022-06-11T02:29:26.235Z"
   },
   {
    "duration": 79,
    "start_time": "2022-06-11T02:29:26.403Z"
   },
   {
    "duration": 4,
    "start_time": "2022-06-11T02:29:26.483Z"
   },
   {
    "duration": 33,
    "start_time": "2022-06-11T02:29:26.489Z"
   },
   {
    "duration": 181,
    "start_time": "2022-06-11T02:29:28.505Z"
   },
   {
    "duration": 15,
    "start_time": "2022-06-11T02:29:42.693Z"
   },
   {
    "duration": 6,
    "start_time": "2022-06-11T02:30:31.212Z"
   },
   {
    "duration": 22,
    "start_time": "2022-06-11T02:34:27.179Z"
   },
   {
    "duration": 12,
    "start_time": "2022-06-11T02:34:37.741Z"
   },
   {
    "duration": 192,
    "start_time": "2022-06-11T02:34:46.354Z"
   },
   {
    "duration": 190,
    "start_time": "2022-06-11T02:34:54.639Z"
   },
   {
    "duration": 4,
    "start_time": "2022-06-11T02:42:56.023Z"
   },
   {
    "duration": 10,
    "start_time": "2022-06-11T02:42:56.028Z"
   },
   {
    "duration": 780,
    "start_time": "2022-06-11T02:42:56.039Z"
   },
   {
    "duration": 14,
    "start_time": "2022-06-11T02:42:56.821Z"
   },
   {
    "duration": 129,
    "start_time": "2022-06-11T02:42:56.837Z"
   },
   {
    "duration": 88,
    "start_time": "2022-06-11T02:42:56.968Z"
   },
   {
    "duration": 3,
    "start_time": "2022-06-11T02:42:57.058Z"
   },
   {
    "duration": 11,
    "start_time": "2022-06-11T02:42:57.063Z"
   },
   {
    "duration": 204,
    "start_time": "2022-06-11T02:42:57.075Z"
   },
   {
    "duration": 5,
    "start_time": "2022-06-11T02:42:57.281Z"
   },
   {
    "duration": 204,
    "start_time": "2022-06-11T02:42:57.288Z"
   },
   {
    "duration": 2,
    "start_time": "2022-06-11T02:42:57.494Z"
   },
   {
    "duration": 11,
    "start_time": "2022-06-11T02:42:57.498Z"
   },
   {
    "duration": 202,
    "start_time": "2022-06-11T02:42:57.510Z"
   },
   {
    "duration": 278,
    "start_time": "2022-06-11T02:42:57.713Z"
   },
   {
    "duration": 313,
    "start_time": "2022-06-11T02:42:57.993Z"
   },
   {
    "duration": 172,
    "start_time": "2022-06-11T02:42:58.308Z"
   },
   {
    "duration": 106,
    "start_time": "2022-06-11T02:42:58.482Z"
   },
   {
    "duration": 103,
    "start_time": "2022-06-11T02:43:02.709Z"
   },
   {
    "duration": 105,
    "start_time": "2022-06-11T02:43:18.853Z"
   },
   {
    "duration": 9,
    "start_time": "2022-06-11T02:46:14.328Z"
   },
   {
    "duration": 7,
    "start_time": "2022-06-11T02:46:46.191Z"
   },
   {
    "duration": 4,
    "start_time": "2022-06-11T02:46:52.036Z"
   },
   {
    "duration": 4,
    "start_time": "2022-06-11T02:46:56.534Z"
   },
   {
    "duration": 5,
    "start_time": "2022-06-11T02:47:12.338Z"
   },
   {
    "duration": 295,
    "start_time": "2022-06-11T02:49:09.904Z"
   },
   {
    "duration": 24,
    "start_time": "2022-06-11T02:49:11.780Z"
   },
   {
    "duration": 91,
    "start_time": "2022-06-11T02:49:17.170Z"
   },
   {
    "duration": 6,
    "start_time": "2022-06-11T02:49:22.265Z"
   },
   {
    "duration": 40,
    "start_time": "2022-06-11T02:49:23.001Z"
   },
   {
    "duration": 263,
    "start_time": "2022-06-11T02:49:24.304Z"
   },
   {
    "duration": 32,
    "start_time": "2022-06-11T02:49:27.964Z"
   },
   {
    "duration": 5,
    "start_time": "2022-06-11T02:49:31.226Z"
   },
   {
    "duration": 32,
    "start_time": "2022-06-11T02:49:46.050Z"
   },
   {
    "duration": 34,
    "start_time": "2022-06-11T02:49:46.791Z"
   },
   {
    "duration": 5,
    "start_time": "2022-06-11T02:49:47.481Z"
   },
   {
    "duration": 8,
    "start_time": "2022-06-11T02:49:48.697Z"
   },
   {
    "duration": 208,
    "start_time": "2022-06-11T02:53:43.632Z"
   },
   {
    "duration": 24,
    "start_time": "2022-06-11T02:53:44.072Z"
   },
   {
    "duration": 32,
    "start_time": "2022-06-11T02:53:44.718Z"
   },
   {
    "duration": 6,
    "start_time": "2022-06-11T02:53:46.441Z"
   },
   {
    "duration": 31,
    "start_time": "2022-06-11T02:53:46.868Z"
   },
   {
    "duration": 258,
    "start_time": "2022-06-11T02:53:48.317Z"
   },
   {
    "duration": 30,
    "start_time": "2022-06-11T02:54:28.804Z"
   },
   {
    "duration": 249,
    "start_time": "2022-06-11T02:54:29.411Z"
   },
   {
    "duration": 31,
    "start_time": "2022-06-11T02:54:30.511Z"
   },
   {
    "duration": 4,
    "start_time": "2022-06-11T02:54:31.471Z"
   },
   {
    "duration": 5,
    "start_time": "2022-06-11T02:55:03.491Z"
   },
   {
    "duration": 4,
    "start_time": "2022-06-11T02:55:20.318Z"
   },
   {
    "duration": 7,
    "start_time": "2022-06-11T02:55:20.323Z"
   },
   {
    "duration": 686,
    "start_time": "2022-06-11T02:55:20.331Z"
   },
   {
    "duration": 14,
    "start_time": "2022-06-11T02:55:21.019Z"
   },
   {
    "duration": 125,
    "start_time": "2022-06-11T02:55:21.035Z"
   },
   {
    "duration": 153,
    "start_time": "2022-06-11T02:55:21.162Z"
   },
   {
    "duration": 11,
    "start_time": "2022-06-11T02:55:21.316Z"
   },
   {
    "duration": 4,
    "start_time": "2022-06-11T02:55:21.328Z"
   },
   {
    "duration": 214,
    "start_time": "2022-06-11T02:55:21.333Z"
   },
   {
    "duration": 5,
    "start_time": "2022-06-11T02:55:21.550Z"
   },
   {
    "duration": 193,
    "start_time": "2022-06-11T02:55:21.556Z"
   },
   {
    "duration": 3,
    "start_time": "2022-06-11T02:55:21.750Z"
   },
   {
    "duration": 7,
    "start_time": "2022-06-11T02:55:21.754Z"
   },
   {
    "duration": 186,
    "start_time": "2022-06-11T02:55:21.762Z"
   },
   {
    "duration": 252,
    "start_time": "2022-06-11T02:55:21.950Z"
   },
   {
    "duration": 308,
    "start_time": "2022-06-11T02:55:22.204Z"
   },
   {
    "duration": 122,
    "start_time": "2022-06-11T02:55:22.513Z"
   },
   {
    "duration": 115,
    "start_time": "2022-06-11T02:55:22.637Z"
   },
   {
    "duration": 110,
    "start_time": "2022-06-11T02:55:22.753Z"
   },
   {
    "duration": 8,
    "start_time": "2022-06-11T02:55:22.865Z"
   },
   {
    "duration": 178,
    "start_time": "2022-06-11T02:55:22.875Z"
   },
   {
    "duration": 90,
    "start_time": "2022-06-11T02:55:23.055Z"
   },
   {
    "duration": 90,
    "start_time": "2022-06-11T02:55:23.147Z"
   },
   {
    "duration": 8,
    "start_time": "2022-06-11T02:55:23.239Z"
   },
   {
    "duration": 34,
    "start_time": "2022-06-11T02:55:23.250Z"
   },
   {
    "duration": 285,
    "start_time": "2022-06-11T02:55:23.286Z"
   },
   {
    "duration": 32,
    "start_time": "2022-06-11T02:55:23.573Z"
   },
   {
    "duration": 20,
    "start_time": "2022-06-11T02:55:23.607Z"
   },
   {
    "duration": 34,
    "start_time": "2022-06-11T02:55:23.629Z"
   },
   {
    "duration": 42,
    "start_time": "2022-06-11T02:55:23.664Z"
   },
   {
    "duration": 21,
    "start_time": "2022-06-11T02:55:23.708Z"
   },
   {
    "duration": 10,
    "start_time": "2022-06-11T02:55:23.731Z"
   },
   {
    "duration": 31,
    "start_time": "2022-06-11T02:55:23.743Z"
   },
   {
    "duration": 309,
    "start_time": "2022-06-11T02:55:23.775Z"
   },
   {
    "duration": 43,
    "start_time": "2022-06-11T02:55:24.086Z"
   },
   {
    "duration": 4,
    "start_time": "2022-06-11T02:55:24.131Z"
   },
   {
    "duration": 5,
    "start_time": "2022-06-11T02:55:29.029Z"
   },
   {
    "duration": 3,
    "start_time": "2022-06-11T02:55:39.551Z"
   },
   {
    "duration": 5,
    "start_time": "2022-06-11T02:55:45.112Z"
   },
   {
    "duration": 34,
    "start_time": "2022-06-11T02:58:24.473Z"
   },
   {
    "duration": 3,
    "start_time": "2022-06-11T03:00:42.859Z"
   },
   {
    "duration": 16,
    "start_time": "2022-06-11T03:06:39.262Z"
   },
   {
    "duration": 3,
    "start_time": "2022-06-11T03:07:15.368Z"
   },
   {
    "duration": 3,
    "start_time": "2022-06-11T03:11:32.047Z"
   },
   {
    "duration": 3,
    "start_time": "2022-06-11T03:11:47.598Z"
   },
   {
    "duration": 3,
    "start_time": "2022-06-11T03:12:57.597Z"
   },
   {
    "duration": 3,
    "start_time": "2022-06-11T03:13:04.076Z"
   },
   {
    "duration": 536,
    "start_time": "2022-06-11T03:16:23.840Z"
   },
   {
    "duration": 10,
    "start_time": "2022-06-11T03:16:25.318Z"
   },
   {
    "duration": 3,
    "start_time": "2022-06-11T03:16:30.697Z"
   },
   {
    "duration": 3,
    "start_time": "2022-06-11T03:18:45.773Z"
   },
   {
    "duration": 3,
    "start_time": "2022-06-11T03:18:46.006Z"
   },
   {
    "duration": 317,
    "start_time": "2022-06-11T03:19:08.413Z"
   },
   {
    "duration": 520,
    "start_time": "2022-06-11T03:24:06.620Z"
   },
   {
    "duration": 93,
    "start_time": "2022-06-11T03:25:01.571Z"
   },
   {
    "duration": 2,
    "start_time": "2022-06-11T03:25:08.307Z"
   },
   {
    "duration": 9,
    "start_time": "2022-06-11T03:25:11.905Z"
   },
   {
    "duration": 2,
    "start_time": "2022-06-11T03:25:16.546Z"
   },
   {
    "duration": 3,
    "start_time": "2022-06-11T03:25:17.112Z"
   },
   {
    "duration": 83141,
    "start_time": "2022-06-11T03:25:20.588Z"
   },
   {
    "duration": 4,
    "start_time": "2022-06-11T03:26:51.125Z"
   },
   {
    "duration": 4,
    "start_time": "2022-06-11T03:27:21.089Z"
   },
   {
    "duration": 18872,
    "start_time": "2022-06-11T03:27:51.158Z"
   },
   {
    "duration": 55,
    "start_time": "2022-06-11T03:34:22.299Z"
   },
   {
    "duration": 80,
    "start_time": "2022-06-11T03:34:58.970Z"
   },
   {
    "duration": 86,
    "start_time": "2022-06-11T03:35:04.296Z"
   },
   {
    "duration": 2,
    "start_time": "2022-06-11T03:40:21.306Z"
   },
   {
    "duration": 2,
    "start_time": "2022-06-11T03:41:26.171Z"
   },
   {
    "duration": 29,
    "start_time": "2022-06-11T03:42:01.740Z"
   },
   {
    "duration": 3,
    "start_time": "2022-06-11T03:42:32.157Z"
   },
   {
    "duration": 28,
    "start_time": "2022-06-11T03:42:44.780Z"
   },
   {
    "duration": 2,
    "start_time": "2022-06-11T03:43:01.512Z"
   },
   {
    "duration": 40,
    "start_time": "2022-06-11T03:43:03.135Z"
   },
   {
    "duration": 39,
    "start_time": "2022-06-11T03:44:14.876Z"
   },
   {
    "duration": 3,
    "start_time": "2022-06-11T03:44:44.693Z"
   },
   {
    "duration": 3,
    "start_time": "2022-06-11T03:46:07.542Z"
   },
   {
    "duration": 3,
    "start_time": "2022-06-11T03:46:09.976Z"
   },
   {
    "duration": 14,
    "start_time": "2022-06-11T03:46:10.647Z"
   },
   {
    "duration": 4,
    "start_time": "2022-06-11T03:46:24.847Z"
   },
   {
    "duration": 3,
    "start_time": "2022-06-11T03:48:14.123Z"
   },
   {
    "duration": 8,
    "start_time": "2022-06-11T03:48:21.130Z"
   },
   {
    "duration": 13,
    "start_time": "2022-06-11T03:48:39.795Z"
   },
   {
    "duration": 81,
    "start_time": "2022-06-11T03:50:32.071Z"
   },
   {
    "duration": 3,
    "start_time": "2022-06-11T03:50:32.504Z"
   },
   {
    "duration": 14,
    "start_time": "2022-06-11T03:50:32.919Z"
   },
   {
    "duration": 3,
    "start_time": "2022-06-11T03:50:35.867Z"
   },
   {
    "duration": 15,
    "start_time": "2022-06-11T03:50:43.798Z"
   },
   {
    "duration": 509,
    "start_time": "2022-06-11T03:52:19.362Z"
   },
   {
    "duration": 317,
    "start_time": "2022-06-11T03:52:20.963Z"
   },
   {
    "duration": 237681,
    "start_time": "2022-06-11T03:52:25.753Z"
   },
   {
    "duration": 3,
    "start_time": "2022-06-11T03:57:51.774Z"
   },
   {
    "duration": 2329,
    "start_time": "2022-06-11T03:58:53.926Z"
   },
   {
    "duration": 76,
    "start_time": "2022-06-11T04:02:02.485Z"
   },
   {
    "duration": 5,
    "start_time": "2022-06-11T04:02:25.164Z"
   },
   {
    "duration": 2,
    "start_time": "2022-06-11T04:02:36.618Z"
   },
   {
    "duration": 14,
    "start_time": "2022-06-11T04:02:43.018Z"
   },
   {
    "duration": 28,
    "start_time": "2022-06-11T04:17:34.715Z"
   },
   {
    "duration": 3,
    "start_time": "2022-06-11T04:17:42.267Z"
   },
   {
    "duration": 82,
    "start_time": "2022-06-11T04:20:00.648Z"
   },
   {
    "duration": 3,
    "start_time": "2022-06-11T04:20:02.788Z"
   },
   {
    "duration": 29,
    "start_time": "2022-06-11T04:20:10.014Z"
   },
   {
    "duration": 537,
    "start_time": "2022-06-11T04:20:40.813Z"
   },
   {
    "duration": 342,
    "start_time": "2022-06-11T04:20:42.196Z"
   },
   {
    "duration": 3,
    "start_time": "2022-06-11T04:20:43.774Z"
   },
   {
    "duration": 3,
    "start_time": "2022-06-11T04:34:02.930Z"
   },
   {
    "duration": 4,
    "start_time": "2022-06-11T04:36:19.456Z"
   },
   {
    "duration": 5,
    "start_time": "2022-06-11T04:36:33.966Z"
   },
   {
    "duration": 5,
    "start_time": "2022-06-11T04:37:02.394Z"
   },
   {
    "duration": 5,
    "start_time": "2022-06-11T04:38:38.832Z"
   },
   {
    "duration": 5,
    "start_time": "2022-06-11T04:40:38.620Z"
   },
   {
    "duration": 23,
    "start_time": "2022-06-11T04:41:55.351Z"
   },
   {
    "duration": 3,
    "start_time": "2022-06-11T04:42:43.478Z"
   },
   {
    "duration": 3,
    "start_time": "2022-06-11T04:44:22.631Z"
   },
   {
    "duration": 8,
    "start_time": "2022-06-11T04:45:12.020Z"
   },
   {
    "duration": 3,
    "start_time": "2022-06-11T04:45:23.926Z"
   },
   {
    "duration": 3,
    "start_time": "2022-06-11T04:45:24.354Z"
   },
   {
    "duration": 2,
    "start_time": "2022-06-11T04:45:24.867Z"
   },
   {
    "duration": 5,
    "start_time": "2022-06-11T04:46:58.596Z"
   },
   {
    "duration": 3,
    "start_time": "2022-06-11T04:47:42.259Z"
   },
   {
    "duration": 8,
    "start_time": "2022-06-11T04:47:44.815Z"
   },
   {
    "duration": 7,
    "start_time": "2022-06-11T04:48:22.981Z"
   },
   {
    "duration": 3,
    "start_time": "2022-06-11T04:49:40.952Z"
   },
   {
    "duration": 3,
    "start_time": "2022-06-11T04:49:41.824Z"
   },
   {
    "duration": 4,
    "start_time": "2022-06-11T04:49:42.520Z"
   },
   {
    "duration": 9,
    "start_time": "2022-06-11T04:49:43.537Z"
   },
   {
    "duration": 3,
    "start_time": "2022-06-11T04:51:44.583Z"
   },
   {
    "duration": 3,
    "start_time": "2022-06-11T04:51:44.684Z"
   },
   {
    "duration": 529294,
    "start_time": "2022-06-11T04:51:58.393Z"
   },
   {
    "duration": 128,
    "start_time": "2022-06-11T05:01:13.519Z"
   },
   {
    "duration": 5,
    "start_time": "2022-06-11T05:01:56.716Z"
   },
   {
    "duration": 33,
    "start_time": "2022-06-11T05:02:05.408Z"
   },
   {
    "duration": 28,
    "start_time": "2022-06-11T05:02:41.046Z"
   },
   {
    "duration": 22,
    "start_time": "2022-06-11T05:03:11.849Z"
   },
   {
    "duration": 37,
    "start_time": "2022-06-11T05:03:22.988Z"
   },
   {
    "duration": 27,
    "start_time": "2022-06-11T05:03:38.691Z"
   },
   {
    "duration": 27,
    "start_time": "2022-06-11T05:04:43.156Z"
   },
   {
    "duration": 37,
    "start_time": "2022-06-11T05:05:01.501Z"
   },
   {
    "duration": 6,
    "start_time": "2022-06-11T05:09:09.334Z"
   },
   {
    "duration": 3,
    "start_time": "2022-06-11T05:10:07.145Z"
   },
   {
    "duration": 9,
    "start_time": "2022-06-11T05:10:15.443Z"
   },
   {
    "duration": 2,
    "start_time": "2022-06-11T05:11:33.081Z"
   },
   {
    "duration": 11,
    "start_time": "2022-06-11T05:11:43.630Z"
   },
   {
    "duration": 3,
    "start_time": "2022-06-11T05:11:50.046Z"
   },
   {
    "duration": 21,
    "start_time": "2022-06-11T05:12:20.039Z"
   },
   {
    "duration": 101,
    "start_time": "2022-06-11T05:16:13.390Z"
   },
   {
    "duration": 32,
    "start_time": "2022-06-11T05:16:56.359Z"
   },
   {
    "duration": 29,
    "start_time": "2022-06-11T05:17:04.506Z"
   },
   {
    "duration": 198,
    "start_time": "2022-06-11T05:17:26.799Z"
   },
   {
    "duration": 15,
    "start_time": "2022-06-11T05:17:30.758Z"
   },
   {
    "duration": 5,
    "start_time": "2022-06-11T05:17:53.538Z"
   },
   {
    "duration": 14,
    "start_time": "2022-06-11T05:18:39.880Z"
   },
   {
    "duration": 167595,
    "start_time": "2022-06-11T05:18:52.555Z"
   },
   {
    "duration": 0,
    "start_time": "2022-06-11T05:21:40.228Z"
   },
   {
    "duration": 0,
    "start_time": "2022-06-11T05:21:40.229Z"
   },
   {
    "duration": 85,
    "start_time": "2022-06-11T05:21:49.215Z"
   },
   {
    "duration": 286,
    "start_time": "2022-06-11T05:21:50.075Z"
   },
   {
    "duration": 3,
    "start_time": "2022-06-11T05:21:51.178Z"
   },
   {
    "duration": 4,
    "start_time": "2022-06-11T05:21:51.713Z"
   },
   {
    "duration": 3,
    "start_time": "2022-06-11T05:21:57.902Z"
   },
   {
    "duration": 136846,
    "start_time": "2022-06-11T05:22:01.203Z"
   },
   {
    "duration": 4,
    "start_time": "2022-06-11T05:24:54.621Z"
   },
   {
    "duration": 903899,
    "start_time": "2022-06-11T05:25:07.560Z"
   },
   {
    "duration": 3,
    "start_time": "2022-06-11T05:40:19.643Z"
   },
   {
    "duration": 0,
    "start_time": "2022-06-11T05:45:49.044Z"
   },
   {
    "duration": 3,
    "start_time": "2022-06-11T05:46:01.646Z"
   },
   {
    "duration": 9,
    "start_time": "2022-06-11T05:46:11.040Z"
   },
   {
    "duration": 74,
    "start_time": "2022-06-11T05:46:24.039Z"
   },
   {
    "duration": 313,
    "start_time": "2022-06-11T05:46:25.087Z"
   },
   {
    "duration": 26,
    "start_time": "2022-06-11T05:46:28.467Z"
   },
   {
    "duration": 39,
    "start_time": "2022-06-11T05:46:55.990Z"
   },
   {
    "duration": 20459,
    "start_time": "2022-06-11T05:48:44.380Z"
   },
   {
    "duration": 2,
    "start_time": "2022-06-11T05:52:37.620Z"
   },
   {
    "duration": 431351,
    "start_time": "2022-06-11T05:52:40.399Z"
   },
   {
    "duration": 3,
    "start_time": "2022-06-11T05:59:56.265Z"
   },
   {
    "duration": 9,
    "start_time": "2022-06-11T06:02:20.697Z"
   },
   {
    "duration": 9,
    "start_time": "2022-06-11T06:02:37.214Z"
   },
   {
    "duration": 9,
    "start_time": "2022-06-11T06:03:21.839Z"
   },
   {
    "duration": 9,
    "start_time": "2022-06-11T06:03:27.937Z"
   },
   {
    "duration": 10,
    "start_time": "2022-06-11T06:05:39.502Z"
   },
   {
    "duration": 9,
    "start_time": "2022-06-11T06:05:46.743Z"
   },
   {
    "duration": 10,
    "start_time": "2022-06-11T06:06:24.283Z"
   },
   {
    "duration": 3,
    "start_time": "2022-06-11T06:06:37.036Z"
   },
   {
    "duration": 10,
    "start_time": "2022-06-11T06:06:44.660Z"
   },
   {
    "duration": 8,
    "start_time": "2022-06-11T06:09:45.658Z"
   },
   {
    "duration": 4,
    "start_time": "2022-06-11T06:09:57.347Z"
   },
   {
    "duration": 10,
    "start_time": "2022-06-11T06:22:54.254Z"
   },
   {
    "duration": 4,
    "start_time": "2022-06-11T06:22:56.517Z"
   },
   {
    "duration": 10,
    "start_time": "2022-06-11T06:23:06.152Z"
   },
   {
    "duration": 14,
    "start_time": "2022-06-11T06:23:15.031Z"
   },
   {
    "duration": 10,
    "start_time": "2022-06-11T06:23:27.685Z"
   },
   {
    "duration": 10,
    "start_time": "2022-06-11T06:23:38.137Z"
   },
   {
    "duration": 11,
    "start_time": "2022-06-11T06:23:43.499Z"
   },
   {
    "duration": 7,
    "start_time": "2022-06-11T06:23:51.560Z"
   },
   {
    "duration": 4,
    "start_time": "2022-06-11T06:23:59.821Z"
   },
   {
    "duration": 4,
    "start_time": "2022-06-11T06:24:03.406Z"
   },
   {
    "duration": 1371341,
    "start_time": "2022-06-11T06:24:07.605Z"
   },
   {
    "duration": 3,
    "start_time": "2022-06-11T06:47:07.418Z"
   },
   {
    "duration": 539,
    "start_time": "2022-06-11T06:50:46.580Z"
   },
   {
    "duration": 308,
    "start_time": "2022-06-11T06:50:47.754Z"
   },
   {
    "duration": 75,
    "start_time": "2022-06-11T06:50:48.600Z"
   },
   {
    "duration": 3,
    "start_time": "2022-06-11T06:50:49.277Z"
   },
   {
    "duration": 145862,
    "start_time": "2022-06-11T06:50:49.865Z"
   },
   {
    "duration": 4,
    "start_time": "2022-06-11T06:53:19.383Z"
   },
   {
    "duration": 28636,
    "start_time": "2022-06-11T06:53:27.200Z"
   },
   {
    "duration": 121,
    "start_time": "2022-06-11T06:54:01.610Z"
   },
   {
    "duration": 5,
    "start_time": "2022-06-11T06:54:49.708Z"
   },
   {
    "duration": 4,
    "start_time": "2022-06-11T06:57:57.346Z"
   },
   {
    "duration": 85,
    "start_time": "2022-06-11T06:58:57.770Z"
   },
   {
    "duration": 267,
    "start_time": "2022-06-11T06:59:02.815Z"
   },
   {
    "duration": 3,
    "start_time": "2022-06-11T06:59:03.690Z"
   },
   {
    "duration": 3,
    "start_time": "2022-06-11T07:01:29.367Z"
   },
   {
    "duration": 4,
    "start_time": "2022-06-11T07:01:43.336Z"
   },
   {
    "duration": 5,
    "start_time": "2022-06-11T07:01:43.906Z"
   },
   {
    "duration": 315759,
    "start_time": "2022-06-11T07:01:52.900Z"
   },
   {
    "duration": 3,
    "start_time": "2022-06-11T07:07:17.207Z"
   },
   {
    "duration": 2126033,
    "start_time": "2022-06-11T07:07:20.045Z"
   },
   {
    "duration": 10,
    "start_time": "2022-06-11T07:42:49.644Z"
   },
   {
    "duration": 99,
    "start_time": "2022-06-11T07:42:54.126Z"
   },
   {
    "duration": 110,
    "start_time": "2022-06-11T07:47:31.207Z"
   },
   {
    "duration": 4,
    "start_time": "2022-06-11T07:47:32.003Z"
   },
   {
    "duration": 10,
    "start_time": "2022-06-11T07:47:57.879Z"
   },
   {
    "duration": 45,
    "start_time": "2022-06-11T07:48:08.304Z"
   },
   {
    "duration": 3,
    "start_time": "2022-06-11T07:48:12.760Z"
   },
   {
    "duration": 3,
    "start_time": "2022-06-11T07:48:13.454Z"
   },
   {
    "duration": 13918,
    "start_time": "2022-06-11T07:48:29.231Z"
   },
   {
    "duration": 10082,
    "start_time": "2022-06-11T07:48:48.358Z"
   },
   {
    "duration": 4,
    "start_time": "2022-06-11T07:49:04.776Z"
   },
   {
    "duration": 3,
    "start_time": "2022-06-11T07:49:05.156Z"
   },
   {
    "duration": 17895,
    "start_time": "2022-06-11T07:49:05.843Z"
   },
   {
    "duration": 0,
    "start_time": "2022-06-11T07:49:23.740Z"
   },
   {
    "duration": 4,
    "start_time": "2022-06-11T07:49:23.741Z"
   },
   {
    "duration": 3,
    "start_time": "2022-06-11T07:49:27.550Z"
   },
   {
    "duration": 2,
    "start_time": "2022-06-11T07:49:28.199Z"
   },
   {
    "duration": 269612,
    "start_time": "2022-06-11T07:49:29.085Z"
   },
   {
    "duration": 1415,
    "start_time": "2022-06-13T05:48:10.858Z"
   },
   {
    "duration": 3,
    "start_time": "2022-06-13T05:48:12.276Z"
   },
   {
    "duration": 1077,
    "start_time": "2022-06-13T05:48:12.281Z"
   },
   {
    "duration": 19,
    "start_time": "2022-06-13T05:48:13.360Z"
   },
   {
    "duration": 127,
    "start_time": "2022-06-13T05:48:13.380Z"
   },
   {
    "duration": 124,
    "start_time": "2022-06-13T05:48:13.509Z"
   },
   {
    "duration": 4,
    "start_time": "2022-06-13T05:48:13.635Z"
   },
   {
    "duration": 12,
    "start_time": "2022-06-13T05:48:13.640Z"
   },
   {
    "duration": 280,
    "start_time": "2022-06-13T05:48:13.653Z"
   },
   {
    "duration": 6,
    "start_time": "2022-06-13T05:48:13.936Z"
   },
   {
    "duration": 222,
    "start_time": "2022-06-13T05:48:13.943Z"
   },
   {
    "duration": 4,
    "start_time": "2022-06-13T05:48:14.166Z"
   },
   {
    "duration": 11,
    "start_time": "2022-06-13T05:48:14.171Z"
   },
   {
    "duration": 202,
    "start_time": "2022-06-13T05:48:14.183Z"
   },
   {
    "duration": 293,
    "start_time": "2022-06-13T05:48:14.386Z"
   },
   {
    "duration": 451,
    "start_time": "2022-06-13T05:48:14.680Z"
   },
   {
    "duration": 117,
    "start_time": "2022-06-13T05:48:15.132Z"
   },
   {
    "duration": 116,
    "start_time": "2022-06-13T05:48:15.251Z"
   },
   {
    "duration": 117,
    "start_time": "2022-06-13T05:48:15.369Z"
   },
   {
    "duration": 7,
    "start_time": "2022-06-13T05:48:15.488Z"
   },
   {
    "duration": 288,
    "start_time": "2022-06-13T05:48:15.496Z"
   },
   {
    "duration": 42,
    "start_time": "2022-06-13T05:48:15.786Z"
   },
   {
    "duration": 114,
    "start_time": "2022-06-13T05:48:15.830Z"
   },
   {
    "duration": 6,
    "start_time": "2022-06-13T05:48:15.945Z"
   },
   {
    "duration": 41,
    "start_time": "2022-06-13T05:48:15.952Z"
   },
   {
    "duration": 305,
    "start_time": "2022-06-13T05:48:15.995Z"
   },
   {
    "duration": 45,
    "start_time": "2022-06-13T05:48:16.302Z"
   },
   {
    "duration": 7,
    "start_time": "2022-06-13T05:48:16.350Z"
   },
   {
    "duration": 41,
    "start_time": "2022-06-13T05:48:16.358Z"
   },
   {
    "duration": 54,
    "start_time": "2022-06-13T05:48:16.401Z"
   },
   {
    "duration": 5,
    "start_time": "2022-06-13T05:48:16.458Z"
   },
   {
    "duration": 24,
    "start_time": "2022-06-13T05:48:16.464Z"
   },
   {
    "duration": 49,
    "start_time": "2022-06-13T05:48:16.490Z"
   },
   {
    "duration": 246,
    "start_time": "2022-06-13T05:48:16.540Z"
   },
   {
    "duration": 46,
    "start_time": "2022-06-13T05:48:16.788Z"
   },
   {
    "duration": 4,
    "start_time": "2022-06-13T05:48:16.835Z"
   },
   {
    "duration": 51,
    "start_time": "2022-06-13T05:48:16.840Z"
   },
   {
    "duration": 3,
    "start_time": "2022-06-13T05:48:16.893Z"
   },
   {
    "duration": 10,
    "start_time": "2022-06-13T05:48:16.898Z"
   },
   {
    "duration": 3,
    "start_time": "2022-06-13T05:48:16.927Z"
   },
   {
    "duration": 5,
    "start_time": "2022-06-13T05:48:16.931Z"
   },
   {
    "duration": 9,
    "start_time": "2022-06-13T05:48:16.938Z"
   },
   {
    "duration": 69,
    "start_time": "2022-06-13T05:48:36.952Z"
   },
   {
    "duration": 252,
    "start_time": "2022-06-13T05:48:41.108Z"
   },
   {
    "duration": 10,
    "start_time": "2022-06-13T05:49:38.966Z"
   },
   {
    "duration": 11,
    "start_time": "2022-06-13T05:49:46.075Z"
   },
   {
    "duration": 3,
    "start_time": "2022-06-13T05:49:50.157Z"
   },
   {
    "duration": 3,
    "start_time": "2022-06-13T05:49:52.214Z"
   },
   {
    "duration": 36,
    "start_time": "2022-06-13T05:49:56.292Z"
   },
   {
    "duration": 3,
    "start_time": "2022-06-13T05:50:01.667Z"
   },
   {
    "duration": 7,
    "start_time": "2022-06-13T05:50:08.761Z"
   },
   {
    "duration": 1606428,
    "start_time": "2022-06-13T05:51:37.243Z"
   },
   {
    "duration": 3,
    "start_time": "2022-06-13T06:19:08.831Z"
   },
   {
    "duration": 3,
    "start_time": "2022-06-13T06:19:13.211Z"
   },
   {
    "duration": 4706,
    "start_time": "2022-06-13T06:20:02.564Z"
   },
   {
    "duration": 8,
    "start_time": "2022-06-13T06:20:34.443Z"
   },
   {
    "duration": 72,
    "start_time": "2022-06-13T06:20:57.921Z"
   },
   {
    "duration": 32,
    "start_time": "2022-06-13T06:21:05.986Z"
   },
   {
    "duration": 8736,
    "start_time": "2022-06-13T06:21:19.126Z"
   },
   {
    "duration": 2,
    "start_time": "2022-06-13T06:21:31.592Z"
   },
   {
    "duration": 239065,
    "start_time": "2022-06-13T06:21:36.438Z"
   },
   {
    "duration": 5,
    "start_time": "2022-06-13T06:26:40.945Z"
   },
   {
    "duration": 5,
    "start_time": "2022-06-13T06:26:51.285Z"
   },
   {
    "duration": 2,
    "start_time": "2022-06-13T06:27:08.663Z"
   },
   {
    "duration": 3,
    "start_time": "2022-06-13T06:27:12.138Z"
   },
   {
    "duration": 32746,
    "start_time": "2022-06-13T06:27:16.085Z"
   },
   {
    "duration": 3,
    "start_time": "2022-06-13T06:28:05.579Z"
   },
   {
    "duration": 2,
    "start_time": "2022-06-13T06:28:33.114Z"
   },
   {
    "duration": 31506,
    "start_time": "2022-06-13T06:28:36.520Z"
   },
   {
    "duration": 4,
    "start_time": "2022-06-13T06:29:14.623Z"
   },
   {
    "duration": 10625,
    "start_time": "2022-06-13T06:29:15.578Z"
   },
   {
    "duration": 3,
    "start_time": "2022-06-13T06:30:19.758Z"
   },
   {
    "duration": 3,
    "start_time": "2022-06-13T06:30:21.266Z"
   },
   {
    "duration": 15018,
    "start_time": "2022-06-13T06:30:22.179Z"
   },
   {
    "duration": 3,
    "start_time": "2022-06-13T06:31:15.358Z"
   },
   {
    "duration": 3,
    "start_time": "2022-06-13T06:31:16.025Z"
   },
   {
    "duration": 125423,
    "start_time": "2022-06-13T06:31:16.706Z"
   },
   {
    "duration": 3,
    "start_time": "2022-06-13T06:33:24.743Z"
   },
   {
    "duration": 4,
    "start_time": "2022-06-13T06:33:25.321Z"
   },
   {
    "duration": 8052,
    "start_time": "2022-06-13T06:33:27.099Z"
   },
   {
    "duration": 3,
    "start_time": "2022-06-13T06:33:44.483Z"
   },
   {
    "duration": 5914,
    "start_time": "2022-06-13T06:33:45.536Z"
   },
   {
    "duration": 3,
    "start_time": "2022-06-13T06:33:57.542Z"
   },
   {
    "duration": 13840,
    "start_time": "2022-06-13T06:33:58.141Z"
   },
   {
    "duration": 3,
    "start_time": "2022-06-13T06:34:19.036Z"
   },
   {
    "duration": 32954,
    "start_time": "2022-06-13T06:34:19.585Z"
   },
   {
    "duration": 3,
    "start_time": "2022-06-13T06:35:04.163Z"
   },
   {
    "duration": 3,
    "start_time": "2022-06-13T06:35:04.666Z"
   },
   {
    "duration": 534230,
    "start_time": "2022-06-13T06:35:05.271Z"
   },
   {
    "duration": 4,
    "start_time": "2022-06-13T06:45:02.588Z"
   },
   {
    "duration": 4,
    "start_time": "2022-06-13T06:45:25.676Z"
   },
   {
    "duration": 3,
    "start_time": "2022-06-13T07:24:54.884Z"
   },
   {
    "duration": 4,
    "start_time": "2022-06-13T07:25:37.764Z"
   },
   {
    "duration": 2,
    "start_time": "2022-06-13T07:26:02.988Z"
   },
   {
    "duration": 160260,
    "start_time": "2022-06-13T07:27:11.155Z"
   },
   {
    "duration": 499,
    "start_time": "2022-06-13T07:30:22.496Z"
   },
   {
    "duration": 4,
    "start_time": "2022-06-13T07:34:24.876Z"
   },
   {
    "duration": 1244,
    "start_time": "2022-06-13T08:21:17.160Z"
   },
   {
    "duration": 1078,
    "start_time": "2022-06-13T08:21:18.406Z"
   },
   {
    "duration": 19,
    "start_time": "2022-06-13T08:21:19.486Z"
   },
   {
    "duration": 133,
    "start_time": "2022-06-13T08:21:19.507Z"
   },
   {
    "duration": 97,
    "start_time": "2022-06-13T08:21:19.641Z"
   },
   {
    "duration": 4,
    "start_time": "2022-06-13T08:21:19.739Z"
   },
   {
    "duration": 7,
    "start_time": "2022-06-13T08:21:19.745Z"
   },
   {
    "duration": 257,
    "start_time": "2022-06-13T08:21:19.754Z"
   },
   {
    "duration": 14,
    "start_time": "2022-06-13T08:21:20.013Z"
   },
   {
    "duration": 198,
    "start_time": "2022-06-13T08:21:20.030Z"
   },
   {
    "duration": 3,
    "start_time": "2022-06-13T08:21:20.229Z"
   },
   {
    "duration": 6,
    "start_time": "2022-06-13T08:21:20.234Z"
   },
   {
    "duration": 187,
    "start_time": "2022-06-13T08:21:20.241Z"
   },
   {
    "duration": 297,
    "start_time": "2022-06-13T08:21:20.430Z"
   },
   {
    "duration": 371,
    "start_time": "2022-06-13T08:21:20.729Z"
   },
   {
    "duration": 138,
    "start_time": "2022-06-13T08:21:21.102Z"
   },
   {
    "duration": 125,
    "start_time": "2022-06-13T08:21:21.241Z"
   },
   {
    "duration": 116,
    "start_time": "2022-06-13T08:21:21.367Z"
   },
   {
    "duration": 7,
    "start_time": "2022-06-13T08:21:21.484Z"
   },
   {
    "duration": 251,
    "start_time": "2022-06-13T08:21:21.493Z"
   },
   {
    "duration": 27,
    "start_time": "2022-06-13T08:21:21.746Z"
   },
   {
    "duration": 116,
    "start_time": "2022-06-13T08:21:21.775Z"
   },
   {
    "duration": 6,
    "start_time": "2022-06-13T08:21:21.893Z"
   },
   {
    "duration": 52,
    "start_time": "2022-06-13T08:21:21.900Z"
   },
   {
    "duration": 306,
    "start_time": "2022-06-13T08:21:21.954Z"
   },
   {
    "duration": 33,
    "start_time": "2022-06-13T08:21:22.262Z"
   },
   {
    "duration": 5,
    "start_time": "2022-06-13T08:21:22.296Z"
   },
   {
    "duration": 51,
    "start_time": "2022-06-13T08:21:22.305Z"
   },
   {
    "duration": 34,
    "start_time": "2022-06-13T08:21:22.358Z"
   },
   {
    "duration": 4,
    "start_time": "2022-06-13T08:21:22.393Z"
   },
   {
    "duration": 10,
    "start_time": "2022-06-13T08:21:22.399Z"
   },
   {
    "duration": 46,
    "start_time": "2022-06-13T08:21:22.410Z"
   },
   {
    "duration": 288,
    "start_time": "2022-06-13T08:21:22.458Z"
   },
   {
    "duration": 34,
    "start_time": "2022-06-13T08:21:22.747Z"
   },
   {
    "duration": 4,
    "start_time": "2022-06-13T08:21:22.782Z"
   },
   {
    "duration": 69,
    "start_time": "2022-06-13T08:21:22.788Z"
   },
   {
    "duration": 3,
    "start_time": "2022-06-13T08:21:22.859Z"
   },
   {
    "duration": 5,
    "start_time": "2022-06-13T08:21:22.864Z"
   },
   {
    "duration": 6,
    "start_time": "2022-06-13T08:21:22.870Z"
   },
   {
    "duration": 6,
    "start_time": "2022-06-13T08:21:22.878Z"
   },
   {
    "duration": 7,
    "start_time": "2022-06-13T08:21:22.885Z"
   },
   {
    "duration": 568,
    "start_time": "2022-06-13T08:21:22.893Z"
   },
   {
    "duration": 334,
    "start_time": "2022-06-13T08:21:23.463Z"
   },
   {
    "duration": 106,
    "start_time": "2022-06-13T08:21:23.799Z"
   },
   {
    "duration": 2,
    "start_time": "2022-06-13T08:21:23.907Z"
   },
   {
    "duration": 40417,
    "start_time": "2022-06-13T08:21:23.911Z"
   },
   {
    "duration": 5,
    "start_time": "2022-06-13T08:22:04.331Z"
   },
   {
    "duration": 19125,
    "start_time": "2022-06-13T08:22:04.427Z"
   },
   {
    "duration": 180,
    "start_time": "2022-06-13T08:22:23.554Z"
   },
   {
    "duration": 119,
    "start_time": "2022-06-13T08:22:23.736Z"
   },
   {
    "duration": 0,
    "start_time": "2022-06-13T08:22:23.856Z"
   },
   {
    "duration": 0,
    "start_time": "2022-06-13T08:22:23.858Z"
   },
   {
    "duration": 0,
    "start_time": "2022-06-13T08:22:23.859Z"
   },
   {
    "duration": 0,
    "start_time": "2022-06-13T08:22:23.860Z"
   },
   {
    "duration": 0,
    "start_time": "2022-06-13T08:22:23.862Z"
   },
   {
    "duration": 0,
    "start_time": "2022-06-13T08:22:23.863Z"
   },
   {
    "duration": 0,
    "start_time": "2022-06-13T08:22:23.864Z"
   },
   {
    "duration": 0,
    "start_time": "2022-06-13T08:22:23.865Z"
   },
   {
    "duration": 0,
    "start_time": "2022-06-13T08:22:23.868Z"
   },
   {
    "duration": 1,
    "start_time": "2022-06-13T08:22:23.868Z"
   },
   {
    "duration": 0,
    "start_time": "2022-06-13T08:22:23.870Z"
   },
   {
    "duration": 0,
    "start_time": "2022-06-13T08:22:23.871Z"
   },
   {
    "duration": 0,
    "start_time": "2022-06-13T08:22:23.873Z"
   },
   {
    "duration": 0,
    "start_time": "2022-06-13T08:22:23.874Z"
   },
   {
    "duration": 0,
    "start_time": "2022-06-13T08:22:23.875Z"
   },
   {
    "duration": 0,
    "start_time": "2022-06-13T08:22:23.876Z"
   },
   {
    "duration": 0,
    "start_time": "2022-06-13T08:22:23.877Z"
   },
   {
    "duration": 0,
    "start_time": "2022-06-13T08:22:23.928Z"
   },
   {
    "duration": 0,
    "start_time": "2022-06-13T08:22:23.929Z"
   },
   {
    "duration": 0,
    "start_time": "2022-06-13T08:22:23.929Z"
   },
   {
    "duration": 0,
    "start_time": "2022-06-13T08:22:23.930Z"
   },
   {
    "duration": 0,
    "start_time": "2022-06-13T08:22:23.931Z"
   },
   {
    "duration": 0,
    "start_time": "2022-06-13T08:22:23.932Z"
   },
   {
    "duration": 1260,
    "start_time": "2022-06-13T08:23:40.886Z"
   },
   {
    "duration": 759,
    "start_time": "2022-06-13T08:23:42.147Z"
   },
   {
    "duration": 21,
    "start_time": "2022-06-13T08:23:42.907Z"
   },
   {
    "duration": 141,
    "start_time": "2022-06-13T08:23:42.929Z"
   },
   {
    "duration": 94,
    "start_time": "2022-06-13T08:23:43.071Z"
   },
   {
    "duration": 4,
    "start_time": "2022-06-13T08:23:43.167Z"
   },
   {
    "duration": 9,
    "start_time": "2022-06-13T08:23:43.172Z"
   },
   {
    "duration": 278,
    "start_time": "2022-06-13T08:23:43.182Z"
   },
   {
    "duration": 6,
    "start_time": "2022-06-13T08:23:43.462Z"
   },
   {
    "duration": 215,
    "start_time": "2022-06-13T08:23:43.471Z"
   },
   {
    "duration": 3,
    "start_time": "2022-06-13T08:23:43.688Z"
   },
   {
    "duration": 6,
    "start_time": "2022-06-13T08:23:43.693Z"
   },
   {
    "duration": 203,
    "start_time": "2022-06-13T08:23:43.701Z"
   },
   {
    "duration": 317,
    "start_time": "2022-06-13T08:23:43.907Z"
   },
   {
    "duration": 373,
    "start_time": "2022-06-13T08:23:44.227Z"
   },
   {
    "duration": 119,
    "start_time": "2022-06-13T08:23:44.602Z"
   },
   {
    "duration": 124,
    "start_time": "2022-06-13T08:23:44.727Z"
   },
   {
    "duration": 116,
    "start_time": "2022-06-13T08:23:44.853Z"
   },
   {
    "duration": 7,
    "start_time": "2022-06-13T08:23:44.970Z"
   },
   {
    "duration": 252,
    "start_time": "2022-06-13T08:23:44.979Z"
   },
   {
    "duration": 29,
    "start_time": "2022-06-13T08:23:45.233Z"
   },
   {
    "duration": 129,
    "start_time": "2022-06-13T08:23:45.263Z"
   },
   {
    "duration": 6,
    "start_time": "2022-06-13T08:23:45.393Z"
   },
   {
    "duration": 54,
    "start_time": "2022-06-13T08:23:45.401Z"
   },
   {
    "duration": 302,
    "start_time": "2022-06-13T08:23:45.456Z"
   },
   {
    "duration": 34,
    "start_time": "2022-06-13T08:23:45.760Z"
   },
   {
    "duration": 6,
    "start_time": "2022-06-13T08:23:45.795Z"
   },
   {
    "duration": 33,
    "start_time": "2022-06-13T08:23:45.826Z"
   },
   {
    "duration": 35,
    "start_time": "2022-06-13T08:23:45.861Z"
   },
   {
    "duration": 4,
    "start_time": "2022-06-13T08:23:45.898Z"
   },
   {
    "duration": 13,
    "start_time": "2022-06-13T08:23:45.927Z"
   },
   {
    "duration": 31,
    "start_time": "2022-06-13T08:23:45.941Z"
   },
   {
    "duration": 330,
    "start_time": "2022-06-13T08:23:45.974Z"
   },
   {
    "duration": 53,
    "start_time": "2022-06-13T08:23:46.307Z"
   },
   {
    "duration": 5,
    "start_time": "2022-06-13T08:23:46.362Z"
   },
   {
    "duration": 77,
    "start_time": "2022-06-13T08:23:46.369Z"
   },
   {
    "duration": 4,
    "start_time": "2022-06-13T08:23:46.448Z"
   },
   {
    "duration": 8,
    "start_time": "2022-06-13T08:23:46.454Z"
   },
   {
    "duration": 12,
    "start_time": "2022-06-13T08:23:46.464Z"
   },
   {
    "duration": 13,
    "start_time": "2022-06-13T08:23:46.478Z"
   },
   {
    "duration": 6,
    "start_time": "2022-06-13T08:23:46.493Z"
   },
   {
    "duration": 566,
    "start_time": "2022-06-13T08:23:46.501Z"
   },
   {
    "duration": 335,
    "start_time": "2022-06-13T08:23:47.069Z"
   },
   {
    "duration": 88,
    "start_time": "2022-06-13T08:23:47.406Z"
   },
   {
    "duration": 3,
    "start_time": "2022-06-13T08:23:47.496Z"
   },
   {
    "duration": 97836,
    "start_time": "2022-06-13T08:23:47.501Z"
   },
   {
    "duration": 89,
    "start_time": "2022-06-13T08:25:25.340Z"
   },
   {
    "duration": 20847,
    "start_time": "2022-06-13T08:25:25.432Z"
   },
   {
    "duration": 259,
    "start_time": "2022-06-13T08:25:46.281Z"
   },
   {
    "duration": 89,
    "start_time": "2022-06-13T08:25:46.542Z"
   },
   {
    "duration": 80,
    "start_time": "2022-06-13T08:25:46.634Z"
   },
   {
    "duration": 11,
    "start_time": "2022-06-13T08:25:46.716Z"
   },
   {
    "duration": 5,
    "start_time": "2022-06-13T08:25:46.729Z"
   },
   {
    "duration": 5,
    "start_time": "2022-06-13T08:25:46.736Z"
   },
   {
    "duration": 66144,
    "start_time": "2022-06-13T08:25:46.742Z"
   },
   {
    "duration": 16,
    "start_time": "2022-06-13T08:26:52.887Z"
   },
   {
    "duration": 0,
    "start_time": "2022-06-13T08:26:52.905Z"
   },
   {
    "duration": 0,
    "start_time": "2022-06-13T08:26:52.906Z"
   },
   {
    "duration": 0,
    "start_time": "2022-06-13T08:26:52.907Z"
   },
   {
    "duration": 0,
    "start_time": "2022-06-13T08:26:52.908Z"
   },
   {
    "duration": 0,
    "start_time": "2022-06-13T08:26:52.910Z"
   },
   {
    "duration": 0,
    "start_time": "2022-06-13T08:26:52.911Z"
   },
   {
    "duration": 0,
    "start_time": "2022-06-13T08:26:52.912Z"
   },
   {
    "duration": 0,
    "start_time": "2022-06-13T08:26:52.913Z"
   },
   {
    "duration": 0,
    "start_time": "2022-06-13T08:26:52.913Z"
   },
   {
    "duration": 0,
    "start_time": "2022-06-13T08:26:52.914Z"
   },
   {
    "duration": 0,
    "start_time": "2022-06-13T08:26:52.916Z"
   },
   {
    "duration": 0,
    "start_time": "2022-06-13T08:26:52.917Z"
   },
   {
    "duration": 0,
    "start_time": "2022-06-13T08:26:52.918Z"
   },
   {
    "duration": 0,
    "start_time": "2022-06-13T08:26:52.919Z"
   },
   {
    "duration": 0,
    "start_time": "2022-06-13T08:26:52.920Z"
   },
   {
    "duration": 0,
    "start_time": "2022-06-13T08:26:52.921Z"
   },
   {
    "duration": 0,
    "start_time": "2022-06-13T08:26:52.922Z"
   },
   {
    "duration": 20,
    "start_time": "2022-06-13T08:31:52.168Z"
   },
   {
    "duration": 1221,
    "start_time": "2022-06-13T08:42:01.748Z"
   },
   {
    "duration": 791,
    "start_time": "2022-06-13T08:42:02.970Z"
   },
   {
    "duration": 15,
    "start_time": "2022-06-13T08:42:03.763Z"
   },
   {
    "duration": 148,
    "start_time": "2022-06-13T08:42:03.779Z"
   },
   {
    "duration": 87,
    "start_time": "2022-06-13T08:42:03.929Z"
   },
   {
    "duration": 4,
    "start_time": "2022-06-13T08:42:04.027Z"
   },
   {
    "duration": 13,
    "start_time": "2022-06-13T08:42:04.032Z"
   },
   {
    "duration": 267,
    "start_time": "2022-06-13T08:42:04.047Z"
   },
   {
    "duration": 5,
    "start_time": "2022-06-13T08:42:04.316Z"
   },
   {
    "duration": 202,
    "start_time": "2022-06-13T08:42:04.323Z"
   },
   {
    "duration": 2,
    "start_time": "2022-06-13T08:42:04.527Z"
   },
   {
    "duration": 36,
    "start_time": "2022-06-13T08:42:04.531Z"
   },
   {
    "duration": 213,
    "start_time": "2022-06-13T08:42:04.569Z"
   },
   {
    "duration": 300,
    "start_time": "2022-06-13T08:42:04.783Z"
   },
   {
    "duration": 379,
    "start_time": "2022-06-13T08:42:05.084Z"
   },
   {
    "duration": 120,
    "start_time": "2022-06-13T08:42:05.465Z"
   },
   {
    "duration": 117,
    "start_time": "2022-06-13T08:42:05.587Z"
   },
   {
    "duration": 113,
    "start_time": "2022-06-13T08:42:05.706Z"
   },
   {
    "duration": 13,
    "start_time": "2022-06-13T08:42:05.820Z"
   },
   {
    "duration": 233,
    "start_time": "2022-06-13T08:42:05.834Z"
   },
   {
    "duration": 29,
    "start_time": "2022-06-13T08:42:06.069Z"
   },
   {
    "duration": 120,
    "start_time": "2022-06-13T08:42:06.100Z"
   },
   {
    "duration": 8,
    "start_time": "2022-06-13T08:42:06.227Z"
   },
   {
    "duration": 69,
    "start_time": "2022-06-13T08:42:06.237Z"
   },
   {
    "duration": 292,
    "start_time": "2022-06-13T08:42:06.308Z"
   },
   {
    "duration": 49,
    "start_time": "2022-06-13T08:42:06.601Z"
   },
   {
    "duration": 6,
    "start_time": "2022-06-13T08:42:06.651Z"
   },
   {
    "duration": 45,
    "start_time": "2022-06-13T08:42:06.661Z"
   },
   {
    "duration": 39,
    "start_time": "2022-06-13T08:42:06.707Z"
   },
   {
    "duration": 4,
    "start_time": "2022-06-13T08:42:06.748Z"
   },
   {
    "duration": 25,
    "start_time": "2022-06-13T08:42:06.753Z"
   },
   {
    "duration": 54,
    "start_time": "2022-06-13T08:42:06.779Z"
   },
   {
    "duration": 239,
    "start_time": "2022-06-13T08:42:06.835Z"
   },
   {
    "duration": 28,
    "start_time": "2022-06-13T08:42:07.076Z"
   },
   {
    "duration": 3,
    "start_time": "2022-06-13T08:42:07.106Z"
   },
   {
    "duration": 29,
    "start_time": "2022-06-13T08:42:07.127Z"
   },
   {
    "duration": 2,
    "start_time": "2022-06-13T08:42:07.158Z"
   },
   {
    "duration": 28,
    "start_time": "2022-06-13T08:42:07.162Z"
   },
   {
    "duration": 21,
    "start_time": "2022-06-13T08:42:07.192Z"
   },
   {
    "duration": 15,
    "start_time": "2022-06-13T08:42:07.214Z"
   },
   {
    "duration": 34,
    "start_time": "2022-06-13T08:42:07.230Z"
   },
   {
    "duration": 101,
    "start_time": "2022-06-13T08:42:07.265Z"
   },
   {
    "duration": 2,
    "start_time": "2022-06-13T08:42:07.368Z"
   },
   {
    "duration": 23,
    "start_time": "2022-06-13T08:42:07.372Z"
   },
   {
    "duration": 108,
    "start_time": "2022-06-13T08:42:07.396Z"
   },
   {
    "duration": 0,
    "start_time": "2022-06-13T08:42:07.506Z"
   },
   {
    "duration": 0,
    "start_time": "2022-06-13T08:42:07.509Z"
   },
   {
    "duration": 0,
    "start_time": "2022-06-13T08:42:07.510Z"
   },
   {
    "duration": 0,
    "start_time": "2022-06-13T08:42:07.512Z"
   },
   {
    "duration": 0,
    "start_time": "2022-06-13T08:42:07.512Z"
   },
   {
    "duration": 0,
    "start_time": "2022-06-13T08:42:07.513Z"
   },
   {
    "duration": 0,
    "start_time": "2022-06-13T08:42:07.515Z"
   },
   {
    "duration": 0,
    "start_time": "2022-06-13T08:42:07.527Z"
   },
   {
    "duration": 0,
    "start_time": "2022-06-13T08:42:07.528Z"
   },
   {
    "duration": 0,
    "start_time": "2022-06-13T08:42:07.529Z"
   },
   {
    "duration": 0,
    "start_time": "2022-06-13T08:42:07.530Z"
   },
   {
    "duration": 0,
    "start_time": "2022-06-13T08:42:07.531Z"
   },
   {
    "duration": 0,
    "start_time": "2022-06-13T08:42:07.534Z"
   },
   {
    "duration": 0,
    "start_time": "2022-06-13T08:42:07.535Z"
   },
   {
    "duration": 0,
    "start_time": "2022-06-13T08:42:07.536Z"
   },
   {
    "duration": 0,
    "start_time": "2022-06-13T08:42:07.538Z"
   },
   {
    "duration": 0,
    "start_time": "2022-06-13T08:42:07.539Z"
   },
   {
    "duration": 0,
    "start_time": "2022-06-13T08:42:07.541Z"
   },
   {
    "duration": 0,
    "start_time": "2022-06-13T08:42:07.542Z"
   },
   {
    "duration": 0,
    "start_time": "2022-06-13T08:42:07.543Z"
   },
   {
    "duration": 0,
    "start_time": "2022-06-13T08:42:07.545Z"
   },
   {
    "duration": 0,
    "start_time": "2022-06-13T08:42:07.546Z"
   },
   {
    "duration": 0,
    "start_time": "2022-06-13T08:42:07.548Z"
   },
   {
    "duration": 0,
    "start_time": "2022-06-13T08:42:07.549Z"
   },
   {
    "duration": 0,
    "start_time": "2022-06-13T08:42:07.551Z"
   },
   {
    "duration": 0,
    "start_time": "2022-06-13T08:42:07.552Z"
   },
   {
    "duration": 0,
    "start_time": "2022-06-13T08:42:07.554Z"
   },
   {
    "duration": 0,
    "start_time": "2022-06-13T08:42:07.555Z"
   },
   {
    "duration": 0,
    "start_time": "2022-06-13T08:42:07.556Z"
   },
   {
    "duration": 0,
    "start_time": "2022-06-13T08:42:07.558Z"
   },
   {
    "duration": 1279,
    "start_time": "2022-06-13T08:42:25.265Z"
   },
   {
    "duration": 744,
    "start_time": "2022-06-13T08:42:26.546Z"
   },
   {
    "duration": 16,
    "start_time": "2022-06-13T08:42:27.292Z"
   },
   {
    "duration": 131,
    "start_time": "2022-06-13T08:42:27.311Z"
   },
   {
    "duration": 124,
    "start_time": "2022-06-13T08:42:27.443Z"
   },
   {
    "duration": 4,
    "start_time": "2022-06-13T08:42:27.568Z"
   },
   {
    "duration": 15,
    "start_time": "2022-06-13T08:42:27.573Z"
   },
   {
    "duration": 259,
    "start_time": "2022-06-13T08:42:27.589Z"
   },
   {
    "duration": 6,
    "start_time": "2022-06-13T08:42:27.849Z"
   },
   {
    "duration": 207,
    "start_time": "2022-06-13T08:42:27.857Z"
   },
   {
    "duration": 3,
    "start_time": "2022-06-13T08:42:28.065Z"
   },
   {
    "duration": 6,
    "start_time": "2022-06-13T08:42:28.069Z"
   },
   {
    "duration": 192,
    "start_time": "2022-06-13T08:42:28.076Z"
   },
   {
    "duration": 297,
    "start_time": "2022-06-13T08:42:28.270Z"
   },
   {
    "duration": 356,
    "start_time": "2022-06-13T08:42:28.569Z"
   },
   {
    "duration": 118,
    "start_time": "2022-06-13T08:42:28.927Z"
   },
   {
    "duration": 120,
    "start_time": "2022-06-13T08:42:29.047Z"
   },
   {
    "duration": 117,
    "start_time": "2022-06-13T08:42:29.169Z"
   },
   {
    "duration": 7,
    "start_time": "2022-06-13T08:42:29.287Z"
   },
   {
    "duration": 249,
    "start_time": "2022-06-13T08:42:29.296Z"
   },
   {
    "duration": 29,
    "start_time": "2022-06-13T08:42:29.546Z"
   },
   {
    "duration": 122,
    "start_time": "2022-06-13T08:42:29.576Z"
   },
   {
    "duration": 5,
    "start_time": "2022-06-13T08:42:29.700Z"
   },
   {
    "duration": 56,
    "start_time": "2022-06-13T08:42:29.707Z"
   },
   {
    "duration": 299,
    "start_time": "2022-06-13T08:42:29.764Z"
   },
   {
    "duration": 34,
    "start_time": "2022-06-13T08:42:30.065Z"
   },
   {
    "duration": 7,
    "start_time": "2022-06-13T08:42:30.101Z"
   },
   {
    "duration": 35,
    "start_time": "2022-06-13T08:42:30.130Z"
   },
   {
    "duration": 43,
    "start_time": "2022-06-13T08:42:30.167Z"
   },
   {
    "duration": 16,
    "start_time": "2022-06-13T08:42:30.212Z"
   },
   {
    "duration": 27,
    "start_time": "2022-06-13T08:42:30.231Z"
   },
   {
    "duration": 62,
    "start_time": "2022-06-13T08:42:30.260Z"
   },
   {
    "duration": 265,
    "start_time": "2022-06-13T08:42:30.324Z"
   },
   {
    "duration": 37,
    "start_time": "2022-06-13T08:42:30.591Z"
   },
   {
    "duration": 5,
    "start_time": "2022-06-13T08:42:30.630Z"
   },
   {
    "duration": 84,
    "start_time": "2022-06-13T08:42:30.637Z"
   },
   {
    "duration": 15,
    "start_time": "2022-06-13T08:42:30.723Z"
   },
   {
    "duration": 34,
    "start_time": "2022-06-13T08:42:30.739Z"
   },
   {
    "duration": 27,
    "start_time": "2022-06-13T08:42:30.774Z"
   },
   {
    "duration": 19,
    "start_time": "2022-06-13T08:42:30.803Z"
   },
   {
    "duration": 30,
    "start_time": "2022-06-13T08:42:30.823Z"
   },
   {
    "duration": 91,
    "start_time": "2022-06-13T08:42:30.855Z"
   },
   {
    "duration": 2,
    "start_time": "2022-06-13T08:42:30.948Z"
   },
   {
    "duration": 44,
    "start_time": "2022-06-13T08:42:30.951Z"
   },
   {
    "duration": 19,
    "start_time": "2022-06-13T08:42:30.996Z"
   },
   {
    "duration": 972,
    "start_time": "2022-06-13T08:42:31.017Z"
   },
   {
    "duration": 10,
    "start_time": "2022-06-13T08:42:31.991Z"
   },
   {
    "duration": 0,
    "start_time": "2022-06-13T08:42:32.003Z"
   },
   {
    "duration": 0,
    "start_time": "2022-06-13T08:42:32.005Z"
   },
   {
    "duration": 0,
    "start_time": "2022-06-13T08:42:32.008Z"
   },
   {
    "duration": 0,
    "start_time": "2022-06-13T08:42:32.009Z"
   },
   {
    "duration": 0,
    "start_time": "2022-06-13T08:42:32.027Z"
   },
   {
    "duration": 0,
    "start_time": "2022-06-13T08:42:32.028Z"
   },
   {
    "duration": 0,
    "start_time": "2022-06-13T08:42:32.032Z"
   },
   {
    "duration": 0,
    "start_time": "2022-06-13T08:42:32.033Z"
   },
   {
    "duration": 0,
    "start_time": "2022-06-13T08:42:32.035Z"
   },
   {
    "duration": 0,
    "start_time": "2022-06-13T08:42:32.036Z"
   },
   {
    "duration": 0,
    "start_time": "2022-06-13T08:42:32.037Z"
   },
   {
    "duration": 0,
    "start_time": "2022-06-13T08:42:32.038Z"
   },
   {
    "duration": 0,
    "start_time": "2022-06-13T08:42:32.039Z"
   },
   {
    "duration": 0,
    "start_time": "2022-06-13T08:42:32.041Z"
   },
   {
    "duration": 0,
    "start_time": "2022-06-13T08:42:32.042Z"
   },
   {
    "duration": 0,
    "start_time": "2022-06-13T08:42:32.043Z"
   },
   {
    "duration": 0,
    "start_time": "2022-06-13T08:42:32.044Z"
   },
   {
    "duration": 0,
    "start_time": "2022-06-13T08:42:32.046Z"
   },
   {
    "duration": 0,
    "start_time": "2022-06-13T08:42:32.047Z"
   },
   {
    "duration": 0,
    "start_time": "2022-06-13T08:42:32.048Z"
   },
   {
    "duration": 0,
    "start_time": "2022-06-13T08:42:32.049Z"
   },
   {
    "duration": 0,
    "start_time": "2022-06-13T08:42:32.050Z"
   },
   {
    "duration": 0,
    "start_time": "2022-06-13T08:42:32.051Z"
   },
   {
    "duration": 0,
    "start_time": "2022-06-13T08:42:32.054Z"
   },
   {
    "duration": 0,
    "start_time": "2022-06-13T08:42:32.055Z"
   },
   {
    "duration": 0,
    "start_time": "2022-06-13T08:42:32.056Z"
   },
   {
    "duration": 0,
    "start_time": "2022-06-13T08:42:32.057Z"
   },
   {
    "duration": 0,
    "start_time": "2022-06-13T08:42:32.057Z"
   },
   {
    "duration": 83,
    "start_time": "2022-06-13T08:45:01.469Z"
   },
   {
    "duration": 260,
    "start_time": "2022-06-13T08:45:02.520Z"
   },
   {
    "duration": 72,
    "start_time": "2022-06-13T08:45:46.112Z"
   },
   {
    "duration": 239,
    "start_time": "2022-06-13T08:45:46.529Z"
   },
   {
    "duration": 3,
    "start_time": "2022-06-13T08:45:46.940Z"
   },
   {
    "duration": 3,
    "start_time": "2022-06-13T08:45:47.369Z"
   },
   {
    "duration": 3,
    "start_time": "2022-06-13T08:45:47.925Z"
   },
   {
    "duration": 423,
    "start_time": "2022-06-13T08:45:48.810Z"
   },
   {
    "duration": 509,
    "start_time": "2022-06-13T08:47:51.849Z"
   },
   {
    "duration": 327,
    "start_time": "2022-06-13T08:47:52.914Z"
   },
   {
    "duration": 4,
    "start_time": "2022-06-13T08:47:54.294Z"
   },
   {
    "duration": 3,
    "start_time": "2022-06-13T08:47:58.729Z"
   },
   {
    "duration": 3,
    "start_time": "2022-06-13T08:47:59.545Z"
   },
   {
    "duration": 60288,
    "start_time": "2022-06-13T08:48:00.457Z"
   },
   {
    "duration": 1250,
    "start_time": "2022-06-13T08:49:11.962Z"
   },
   {
    "duration": 784,
    "start_time": "2022-06-13T08:49:13.214Z"
   },
   {
    "duration": 15,
    "start_time": "2022-06-13T08:49:13.999Z"
   },
   {
    "duration": 138,
    "start_time": "2022-06-13T08:49:14.016Z"
   },
   {
    "duration": 101,
    "start_time": "2022-06-13T08:49:14.155Z"
   },
   {
    "duration": 3,
    "start_time": "2022-06-13T08:49:14.258Z"
   },
   {
    "duration": 8,
    "start_time": "2022-06-13T08:49:14.263Z"
   },
   {
    "duration": 262,
    "start_time": "2022-06-13T08:49:14.273Z"
   },
   {
    "duration": 5,
    "start_time": "2022-06-13T08:49:14.537Z"
   },
   {
    "duration": 188,
    "start_time": "2022-06-13T08:49:14.545Z"
   },
   {
    "duration": 3,
    "start_time": "2022-06-13T08:49:14.735Z"
   },
   {
    "duration": 6,
    "start_time": "2022-06-13T08:49:14.740Z"
   },
   {
    "duration": 210,
    "start_time": "2022-06-13T08:49:14.747Z"
   },
   {
    "duration": 296,
    "start_time": "2022-06-13T08:49:14.959Z"
   },
   {
    "duration": 370,
    "start_time": "2022-06-13T08:49:15.257Z"
   },
   {
    "duration": 116,
    "start_time": "2022-06-13T08:49:15.629Z"
   },
   {
    "duration": 128,
    "start_time": "2022-06-13T08:49:15.746Z"
   },
   {
    "duration": 113,
    "start_time": "2022-06-13T08:49:15.875Z"
   },
   {
    "duration": 7,
    "start_time": "2022-06-13T08:49:15.989Z"
   },
   {
    "duration": 262,
    "start_time": "2022-06-13T08:49:15.998Z"
   },
   {
    "duration": 28,
    "start_time": "2022-06-13T08:49:16.262Z"
   },
   {
    "duration": 124,
    "start_time": "2022-06-13T08:49:16.292Z"
   },
   {
    "duration": 12,
    "start_time": "2022-06-13T08:49:16.417Z"
   },
   {
    "duration": 44,
    "start_time": "2022-06-13T08:49:16.430Z"
   },
   {
    "duration": 329,
    "start_time": "2022-06-13T08:49:16.476Z"
   },
   {
    "duration": 51,
    "start_time": "2022-06-13T08:49:16.807Z"
   },
   {
    "duration": 7,
    "start_time": "2022-06-13T08:49:16.860Z"
   },
   {
    "duration": 39,
    "start_time": "2022-06-13T08:49:16.872Z"
   },
   {
    "duration": 49,
    "start_time": "2022-06-13T08:49:16.912Z"
   },
   {
    "duration": 4,
    "start_time": "2022-06-13T08:49:16.963Z"
   },
   {
    "duration": 10,
    "start_time": "2022-06-13T08:49:16.968Z"
   },
   {
    "duration": 49,
    "start_time": "2022-06-13T08:49:16.980Z"
   },
   {
    "duration": 252,
    "start_time": "2022-06-13T08:49:17.030Z"
   },
   {
    "duration": 49,
    "start_time": "2022-06-13T08:49:17.284Z"
   },
   {
    "duration": 4,
    "start_time": "2022-06-13T08:49:17.334Z"
   },
   {
    "duration": 58,
    "start_time": "2022-06-13T08:49:17.339Z"
   },
   {
    "duration": 3,
    "start_time": "2022-06-13T08:49:17.399Z"
   },
   {
    "duration": 8,
    "start_time": "2022-06-13T08:49:17.403Z"
   },
   {
    "duration": 14,
    "start_time": "2022-06-13T08:49:17.413Z"
   },
   {
    "duration": 3,
    "start_time": "2022-06-13T08:49:17.428Z"
   },
   {
    "duration": 4,
    "start_time": "2022-06-13T08:49:17.432Z"
   },
   {
    "duration": 625,
    "start_time": "2022-06-13T08:49:17.438Z"
   },
   {
    "duration": 333,
    "start_time": "2022-06-13T08:49:18.065Z"
   },
   {
    "duration": 3,
    "start_time": "2022-06-13T08:49:18.400Z"
   },
   {
    "duration": 5,
    "start_time": "2022-06-13T08:49:18.404Z"
   },
   {
    "duration": 4,
    "start_time": "2022-06-13T08:49:18.411Z"
   },
   {
    "duration": 57667,
    "start_time": "2022-06-13T08:49:18.416Z"
   },
   {
    "duration": 20,
    "start_time": "2022-06-13T08:50:16.085Z"
   },
   {
    "duration": 1,
    "start_time": "2022-06-13T08:50:16.106Z"
   },
   {
    "duration": 0,
    "start_time": "2022-06-13T08:50:16.108Z"
   },
   {
    "duration": 0,
    "start_time": "2022-06-13T08:50:16.109Z"
   },
   {
    "duration": 0,
    "start_time": "2022-06-13T08:50:16.110Z"
   },
   {
    "duration": 0,
    "start_time": "2022-06-13T08:50:16.111Z"
   },
   {
    "duration": 0,
    "start_time": "2022-06-13T08:50:16.112Z"
   },
   {
    "duration": 0,
    "start_time": "2022-06-13T08:50:16.113Z"
   },
   {
    "duration": 0,
    "start_time": "2022-06-13T08:50:16.115Z"
   },
   {
    "duration": 0,
    "start_time": "2022-06-13T08:50:16.116Z"
   },
   {
    "duration": 0,
    "start_time": "2022-06-13T08:50:16.117Z"
   },
   {
    "duration": 0,
    "start_time": "2022-06-13T08:50:16.127Z"
   },
   {
    "duration": 0,
    "start_time": "2022-06-13T08:50:16.128Z"
   },
   {
    "duration": 0,
    "start_time": "2022-06-13T08:50:16.129Z"
   },
   {
    "duration": 0,
    "start_time": "2022-06-13T08:50:16.131Z"
   },
   {
    "duration": 0,
    "start_time": "2022-06-13T08:50:16.132Z"
   },
   {
    "duration": 0,
    "start_time": "2022-06-13T08:50:16.134Z"
   },
   {
    "duration": 0,
    "start_time": "2022-06-13T08:50:16.135Z"
   },
   {
    "duration": 0,
    "start_time": "2022-06-13T08:50:16.137Z"
   },
   {
    "duration": 0,
    "start_time": "2022-06-13T08:50:16.138Z"
   },
   {
    "duration": 0,
    "start_time": "2022-06-13T08:50:16.139Z"
   },
   {
    "duration": 0,
    "start_time": "2022-06-13T08:50:16.140Z"
   },
   {
    "duration": 0,
    "start_time": "2022-06-13T08:50:16.142Z"
   },
   {
    "duration": 0,
    "start_time": "2022-06-13T08:50:16.143Z"
   },
   {
    "duration": 0,
    "start_time": "2022-06-13T08:50:16.145Z"
   },
   {
    "duration": 0,
    "start_time": "2022-06-13T08:50:16.146Z"
   },
   {
    "duration": 0,
    "start_time": "2022-06-13T08:50:16.147Z"
   },
   {
    "duration": 0,
    "start_time": "2022-06-13T08:50:16.149Z"
   },
   {
    "duration": 0,
    "start_time": "2022-06-13T08:50:16.150Z"
   },
   {
    "duration": 1244,
    "start_time": "2022-06-13T08:51:06.667Z"
   },
   {
    "duration": 862,
    "start_time": "2022-06-13T08:51:07.919Z"
   },
   {
    "duration": 15,
    "start_time": "2022-06-13T08:51:08.783Z"
   },
   {
    "duration": 132,
    "start_time": "2022-06-13T08:51:08.799Z"
   },
   {
    "duration": 95,
    "start_time": "2022-06-13T08:51:08.933Z"
   },
   {
    "duration": 4,
    "start_time": "2022-06-13T08:51:09.029Z"
   },
   {
    "duration": 26,
    "start_time": "2022-06-13T08:51:09.034Z"
   },
   {
    "duration": 261,
    "start_time": "2022-06-13T08:51:09.061Z"
   },
   {
    "duration": 6,
    "start_time": "2022-06-13T08:51:09.324Z"
   },
   {
    "duration": 199,
    "start_time": "2022-06-13T08:51:09.331Z"
   },
   {
    "duration": 2,
    "start_time": "2022-06-13T08:51:09.532Z"
   },
   {
    "duration": 6,
    "start_time": "2022-06-13T08:51:09.536Z"
   },
   {
    "duration": 196,
    "start_time": "2022-06-13T08:51:09.543Z"
   },
   {
    "duration": 293,
    "start_time": "2022-06-13T08:51:09.742Z"
   },
   {
    "duration": 358,
    "start_time": "2022-06-13T08:51:10.036Z"
   },
   {
    "duration": 119,
    "start_time": "2022-06-13T08:51:10.396Z"
   },
   {
    "duration": 110,
    "start_time": "2022-06-13T08:51:10.517Z"
   },
   {
    "duration": 117,
    "start_time": "2022-06-13T08:51:10.628Z"
   },
   {
    "duration": 7,
    "start_time": "2022-06-13T08:51:10.747Z"
   },
   {
    "duration": 203,
    "start_time": "2022-06-13T08:51:10.756Z"
   },
   {
    "duration": 30,
    "start_time": "2022-06-13T08:51:10.961Z"
   },
   {
    "duration": 143,
    "start_time": "2022-06-13T08:51:10.992Z"
   },
   {
    "duration": 6,
    "start_time": "2022-06-13T08:51:11.136Z"
   },
   {
    "duration": 47,
    "start_time": "2022-06-13T08:51:11.144Z"
   },
   {
    "duration": 290,
    "start_time": "2022-06-13T08:51:11.193Z"
   },
   {
    "duration": 48,
    "start_time": "2022-06-13T08:51:11.485Z"
   },
   {
    "duration": 5,
    "start_time": "2022-06-13T08:51:11.535Z"
   },
   {
    "duration": 49,
    "start_time": "2022-06-13T08:51:11.542Z"
   },
   {
    "duration": 35,
    "start_time": "2022-06-13T08:51:11.592Z"
   },
   {
    "duration": 4,
    "start_time": "2022-06-13T08:51:11.629Z"
   },
   {
    "duration": 31,
    "start_time": "2022-06-13T08:51:11.635Z"
   },
   {
    "duration": 39,
    "start_time": "2022-06-13T08:51:11.668Z"
   },
   {
    "duration": 286,
    "start_time": "2022-06-13T08:51:11.709Z"
   },
   {
    "duration": 39,
    "start_time": "2022-06-13T08:51:11.996Z"
   },
   {
    "duration": 4,
    "start_time": "2022-06-13T08:51:12.036Z"
   },
   {
    "duration": 52,
    "start_time": "2022-06-13T08:51:12.042Z"
   },
   {
    "duration": 7,
    "start_time": "2022-06-13T08:51:12.096Z"
   },
   {
    "duration": 30,
    "start_time": "2022-06-13T08:51:12.105Z"
   },
   {
    "duration": 11,
    "start_time": "2022-06-13T08:51:12.136Z"
   },
   {
    "duration": 15,
    "start_time": "2022-06-13T08:51:12.148Z"
   },
   {
    "duration": 8,
    "start_time": "2022-06-13T08:51:12.167Z"
   },
   {
    "duration": 568,
    "start_time": "2022-06-13T08:51:12.177Z"
   },
   {
    "duration": 323,
    "start_time": "2022-06-13T08:51:12.747Z"
   },
   {
    "duration": 4,
    "start_time": "2022-06-13T08:51:13.072Z"
   },
   {
    "duration": 0,
    "start_time": "2022-06-13T08:51:13.077Z"
   },
   {
    "duration": 0,
    "start_time": "2022-06-13T08:51:13.079Z"
   },
   {
    "duration": 0,
    "start_time": "2022-06-13T08:51:13.080Z"
   },
   {
    "duration": 0,
    "start_time": "2022-06-13T08:51:13.081Z"
   },
   {
    "duration": 0,
    "start_time": "2022-06-13T08:51:13.083Z"
   },
   {
    "duration": 0,
    "start_time": "2022-06-13T08:51:13.084Z"
   },
   {
    "duration": 0,
    "start_time": "2022-06-13T08:51:13.085Z"
   },
   {
    "duration": 0,
    "start_time": "2022-06-13T08:51:13.088Z"
   },
   {
    "duration": 0,
    "start_time": "2022-06-13T08:51:13.089Z"
   },
   {
    "duration": 0,
    "start_time": "2022-06-13T08:51:13.089Z"
   },
   {
    "duration": 0,
    "start_time": "2022-06-13T08:51:13.090Z"
   },
   {
    "duration": 0,
    "start_time": "2022-06-13T08:51:13.091Z"
   },
   {
    "duration": 0,
    "start_time": "2022-06-13T08:51:13.092Z"
   },
   {
    "duration": 0,
    "start_time": "2022-06-13T08:51:13.093Z"
   },
   {
    "duration": 0,
    "start_time": "2022-06-13T08:51:13.094Z"
   },
   {
    "duration": 0,
    "start_time": "2022-06-13T08:51:13.127Z"
   },
   {
    "duration": 0,
    "start_time": "2022-06-13T08:51:13.128Z"
   },
   {
    "duration": 0,
    "start_time": "2022-06-13T08:51:13.129Z"
   },
   {
    "duration": 0,
    "start_time": "2022-06-13T08:51:13.130Z"
   },
   {
    "duration": 0,
    "start_time": "2022-06-13T08:51:13.131Z"
   },
   {
    "duration": 0,
    "start_time": "2022-06-13T08:51:13.132Z"
   },
   {
    "duration": 0,
    "start_time": "2022-06-13T08:51:13.133Z"
   },
   {
    "duration": 0,
    "start_time": "2022-06-13T08:51:13.133Z"
   },
   {
    "duration": 0,
    "start_time": "2022-06-13T08:51:13.134Z"
   },
   {
    "duration": 0,
    "start_time": "2022-06-13T08:51:13.135Z"
   },
   {
    "duration": 0,
    "start_time": "2022-06-13T08:51:13.136Z"
   },
   {
    "duration": 0,
    "start_time": "2022-06-13T08:51:13.137Z"
   },
   {
    "duration": 0,
    "start_time": "2022-06-13T08:51:13.138Z"
   },
   {
    "duration": 0,
    "start_time": "2022-06-13T08:51:13.139Z"
   },
   {
    "duration": 0,
    "start_time": "2022-06-13T08:51:13.140Z"
   },
   {
    "duration": 0,
    "start_time": "2022-06-13T08:51:13.141Z"
   },
   {
    "duration": 0,
    "start_time": "2022-06-13T08:51:13.143Z"
   },
   {
    "duration": 1192,
    "start_time": "2022-06-13T08:51:46.483Z"
   },
   {
    "duration": 759,
    "start_time": "2022-06-13T08:51:47.677Z"
   },
   {
    "duration": 16,
    "start_time": "2022-06-13T08:51:48.438Z"
   },
   {
    "duration": 142,
    "start_time": "2022-06-13T08:51:48.456Z"
   },
   {
    "duration": 94,
    "start_time": "2022-06-13T08:51:48.600Z"
   },
   {
    "duration": 4,
    "start_time": "2022-06-13T08:51:48.695Z"
   },
   {
    "duration": 9,
    "start_time": "2022-06-13T08:51:48.700Z"
   },
   {
    "duration": 265,
    "start_time": "2022-06-13T08:51:48.710Z"
   },
   {
    "duration": 5,
    "start_time": "2022-06-13T08:51:48.977Z"
   },
   {
    "duration": 201,
    "start_time": "2022-06-13T08:51:48.985Z"
   },
   {
    "duration": 3,
    "start_time": "2022-06-13T08:51:49.188Z"
   },
   {
    "duration": 7,
    "start_time": "2022-06-13T08:51:49.193Z"
   },
   {
    "duration": 199,
    "start_time": "2022-06-13T08:51:49.202Z"
   },
   {
    "duration": 302,
    "start_time": "2022-06-13T08:51:49.403Z"
   },
   {
    "duration": 386,
    "start_time": "2022-06-13T08:51:49.707Z"
   },
   {
    "duration": 126,
    "start_time": "2022-06-13T08:51:50.095Z"
   },
   {
    "duration": 125,
    "start_time": "2022-06-13T08:51:50.227Z"
   },
   {
    "duration": 125,
    "start_time": "2022-06-13T08:51:50.354Z"
   },
   {
    "duration": 8,
    "start_time": "2022-06-13T08:51:50.481Z"
   },
   {
    "duration": 267,
    "start_time": "2022-06-13T08:51:50.491Z"
   },
   {
    "duration": 29,
    "start_time": "2022-06-13T08:51:50.760Z"
   },
   {
    "duration": 127,
    "start_time": "2022-06-13T08:51:50.790Z"
   },
   {
    "duration": 9,
    "start_time": "2022-06-13T08:51:50.919Z"
   },
   {
    "duration": 43,
    "start_time": "2022-06-13T08:51:50.929Z"
   },
   {
    "duration": 292,
    "start_time": "2022-06-13T08:51:50.974Z"
   },
   {
    "duration": 39,
    "start_time": "2022-06-13T08:51:51.268Z"
   },
   {
    "duration": 22,
    "start_time": "2022-06-13T08:51:51.308Z"
   },
   {
    "duration": 32,
    "start_time": "2022-06-13T08:51:51.334Z"
   },
   {
    "duration": 35,
    "start_time": "2022-06-13T08:51:51.368Z"
   },
   {
    "duration": 5,
    "start_time": "2022-06-13T08:51:51.404Z"
   },
   {
    "duration": 8,
    "start_time": "2022-06-13T08:51:51.427Z"
   },
   {
    "duration": 31,
    "start_time": "2022-06-13T08:51:51.436Z"
   },
   {
    "duration": 288,
    "start_time": "2022-06-13T08:51:51.469Z"
   },
   {
    "duration": 28,
    "start_time": "2022-06-13T08:51:51.758Z"
   },
   {
    "duration": 4,
    "start_time": "2022-06-13T08:51:51.788Z"
   },
   {
    "duration": 52,
    "start_time": "2022-06-13T08:51:51.794Z"
   },
   {
    "duration": 3,
    "start_time": "2022-06-13T08:51:51.847Z"
   },
   {
    "duration": 23,
    "start_time": "2022-06-13T08:51:51.851Z"
   },
   {
    "duration": 19,
    "start_time": "2022-06-13T08:51:51.876Z"
   },
   {
    "duration": 11,
    "start_time": "2022-06-13T08:51:51.897Z"
   },
   {
    "duration": 24,
    "start_time": "2022-06-13T08:51:51.909Z"
   },
   {
    "duration": 516,
    "start_time": "2022-06-13T08:51:51.935Z"
   },
   {
    "duration": 321,
    "start_time": "2022-06-13T08:51:52.452Z"
   },
   {
    "duration": 4,
    "start_time": "2022-06-13T08:51:52.774Z"
   },
   {
    "duration": 11,
    "start_time": "2022-06-13T08:51:52.780Z"
   },
   {
    "duration": 20,
    "start_time": "2022-06-13T08:51:52.793Z"
   },
   {
    "duration": 194363,
    "start_time": "2022-06-13T08:51:52.815Z"
   },
   {
    "duration": 10,
    "start_time": "2022-06-13T08:55:07.180Z"
   },
   {
    "duration": 0,
    "start_time": "2022-06-13T08:55:07.192Z"
   },
   {
    "duration": 0,
    "start_time": "2022-06-13T08:55:07.193Z"
   },
   {
    "duration": 0,
    "start_time": "2022-06-13T08:55:07.194Z"
   },
   {
    "duration": 0,
    "start_time": "2022-06-13T08:55:07.195Z"
   },
   {
    "duration": 0,
    "start_time": "2022-06-13T08:55:07.195Z"
   },
   {
    "duration": 0,
    "start_time": "2022-06-13T08:55:07.196Z"
   },
   {
    "duration": 0,
    "start_time": "2022-06-13T08:55:07.197Z"
   },
   {
    "duration": 0,
    "start_time": "2022-06-13T08:55:07.198Z"
   },
   {
    "duration": 0,
    "start_time": "2022-06-13T08:55:07.199Z"
   },
   {
    "duration": 0,
    "start_time": "2022-06-13T08:55:07.200Z"
   },
   {
    "duration": 0,
    "start_time": "2022-06-13T08:55:07.201Z"
   },
   {
    "duration": 0,
    "start_time": "2022-06-13T08:55:07.202Z"
   },
   {
    "duration": 0,
    "start_time": "2022-06-13T08:55:07.203Z"
   },
   {
    "duration": 0,
    "start_time": "2022-06-13T08:55:07.204Z"
   },
   {
    "duration": 0,
    "start_time": "2022-06-13T08:55:07.205Z"
   },
   {
    "duration": 0,
    "start_time": "2022-06-13T08:55:07.206Z"
   },
   {
    "duration": 0,
    "start_time": "2022-06-13T08:55:07.231Z"
   },
   {
    "duration": 0,
    "start_time": "2022-06-13T08:55:07.232Z"
   },
   {
    "duration": 0,
    "start_time": "2022-06-13T08:55:07.234Z"
   },
   {
    "duration": 0,
    "start_time": "2022-06-13T08:55:07.235Z"
   },
   {
    "duration": 0,
    "start_time": "2022-06-13T08:55:07.236Z"
   },
   {
    "duration": 0,
    "start_time": "2022-06-13T08:55:07.238Z"
   },
   {
    "duration": 0,
    "start_time": "2022-06-13T08:55:07.239Z"
   },
   {
    "duration": 0,
    "start_time": "2022-06-13T08:55:07.240Z"
   },
   {
    "duration": 0,
    "start_time": "2022-06-13T08:55:07.241Z"
   },
   {
    "duration": 0,
    "start_time": "2022-06-13T08:55:07.242Z"
   },
   {
    "duration": 0,
    "start_time": "2022-06-13T08:55:07.243Z"
   },
   {
    "duration": 0,
    "start_time": "2022-06-13T08:55:07.244Z"
   },
   {
    "duration": 1215,
    "start_time": "2022-06-13T08:57:24.745Z"
   },
   {
    "duration": 795,
    "start_time": "2022-06-13T08:57:25.962Z"
   },
   {
    "duration": 16,
    "start_time": "2022-06-13T08:57:26.758Z"
   },
   {
    "duration": 140,
    "start_time": "2022-06-13T08:57:26.776Z"
   },
   {
    "duration": 84,
    "start_time": "2022-06-13T08:57:26.918Z"
   },
   {
    "duration": 3,
    "start_time": "2022-06-13T08:57:27.004Z"
   },
   {
    "duration": 19,
    "start_time": "2022-06-13T08:57:27.009Z"
   },
   {
    "duration": 253,
    "start_time": "2022-06-13T08:57:27.029Z"
   },
   {
    "duration": 7,
    "start_time": "2022-06-13T08:57:27.283Z"
   },
   {
    "duration": 191,
    "start_time": "2022-06-13T08:57:27.294Z"
   },
   {
    "duration": 3,
    "start_time": "2022-06-13T08:57:27.486Z"
   },
   {
    "duration": 5,
    "start_time": "2022-06-13T08:57:27.491Z"
   },
   {
    "duration": 200,
    "start_time": "2022-06-13T08:57:27.498Z"
   },
   {
    "duration": 289,
    "start_time": "2022-06-13T08:57:27.699Z"
   },
   {
    "duration": 368,
    "start_time": "2022-06-13T08:57:27.990Z"
   },
   {
    "duration": 119,
    "start_time": "2022-06-13T08:57:28.360Z"
   },
   {
    "duration": 115,
    "start_time": "2022-06-13T08:57:28.480Z"
   },
   {
    "duration": 112,
    "start_time": "2022-06-13T08:57:28.597Z"
   },
   {
    "duration": 7,
    "start_time": "2022-06-13T08:57:28.710Z"
   },
   {
    "duration": 224,
    "start_time": "2022-06-13T08:57:28.719Z"
   },
   {
    "duration": 28,
    "start_time": "2022-06-13T08:57:28.944Z"
   },
   {
    "duration": 118,
    "start_time": "2022-06-13T08:57:28.974Z"
   },
   {
    "duration": 6,
    "start_time": "2022-06-13T08:57:29.093Z"
   },
   {
    "duration": 45,
    "start_time": "2022-06-13T08:57:29.100Z"
   },
   {
    "duration": 239,
    "start_time": "2022-06-13T08:57:29.147Z"
   },
   {
    "duration": 67,
    "start_time": "2022-06-13T08:57:29.388Z"
   },
   {
    "duration": 5,
    "start_time": "2022-06-13T08:57:29.457Z"
   },
   {
    "duration": 32,
    "start_time": "2022-06-13T08:57:29.466Z"
   },
   {
    "duration": 55,
    "start_time": "2022-06-13T08:57:29.499Z"
   },
   {
    "duration": 4,
    "start_time": "2022-06-13T08:57:29.556Z"
   },
   {
    "duration": 10,
    "start_time": "2022-06-13T08:57:29.561Z"
   },
   {
    "duration": 30,
    "start_time": "2022-06-13T08:57:29.572Z"
   },
   {
    "duration": 269,
    "start_time": "2022-06-13T08:57:29.604Z"
   },
   {
    "duration": 28,
    "start_time": "2022-06-13T08:57:29.874Z"
   },
   {
    "duration": 4,
    "start_time": "2022-06-13T08:57:29.903Z"
   },
   {
    "duration": 41,
    "start_time": "2022-06-13T08:57:29.908Z"
   },
   {
    "duration": 2,
    "start_time": "2022-06-13T08:57:29.951Z"
   },
   {
    "duration": 5,
    "start_time": "2022-06-13T08:57:29.955Z"
   },
   {
    "duration": 6,
    "start_time": "2022-06-13T08:57:29.961Z"
   },
   {
    "duration": 4,
    "start_time": "2022-06-13T08:57:29.968Z"
   },
   {
    "duration": 4,
    "start_time": "2022-06-13T08:57:29.974Z"
   },
   {
    "duration": 589,
    "start_time": "2022-06-13T08:57:29.980Z"
   },
   {
    "duration": 328,
    "start_time": "2022-06-13T08:57:30.570Z"
   },
   {
    "duration": 110,
    "start_time": "2022-06-13T08:57:30.900Z"
   },
   {
    "duration": 0,
    "start_time": "2022-06-13T08:57:31.011Z"
   },
   {
    "duration": 0,
    "start_time": "2022-06-13T08:57:31.013Z"
   },
   {
    "duration": 0,
    "start_time": "2022-06-13T08:57:31.014Z"
   },
   {
    "duration": 0,
    "start_time": "2022-06-13T08:57:31.015Z"
   },
   {
    "duration": 0,
    "start_time": "2022-06-13T08:57:31.016Z"
   },
   {
    "duration": 0,
    "start_time": "2022-06-13T08:57:31.017Z"
   },
   {
    "duration": 1,
    "start_time": "2022-06-13T08:57:31.026Z"
   },
   {
    "duration": 0,
    "start_time": "2022-06-13T08:57:31.027Z"
   },
   {
    "duration": 0,
    "start_time": "2022-06-13T08:57:31.029Z"
   },
   {
    "duration": 0,
    "start_time": "2022-06-13T08:57:31.029Z"
   },
   {
    "duration": 0,
    "start_time": "2022-06-13T08:57:31.031Z"
   },
   {
    "duration": 0,
    "start_time": "2022-06-13T08:57:31.032Z"
   },
   {
    "duration": 0,
    "start_time": "2022-06-13T08:57:31.033Z"
   },
   {
    "duration": 0,
    "start_time": "2022-06-13T08:57:31.034Z"
   },
   {
    "duration": 1,
    "start_time": "2022-06-13T08:57:31.034Z"
   },
   {
    "duration": 0,
    "start_time": "2022-06-13T08:57:31.036Z"
   },
   {
    "duration": 0,
    "start_time": "2022-06-13T08:57:31.037Z"
   },
   {
    "duration": 0,
    "start_time": "2022-06-13T08:57:31.038Z"
   },
   {
    "duration": 0,
    "start_time": "2022-06-13T08:57:31.039Z"
   },
   {
    "duration": 0,
    "start_time": "2022-06-13T08:57:31.040Z"
   },
   {
    "duration": 0,
    "start_time": "2022-06-13T08:57:31.041Z"
   },
   {
    "duration": 0,
    "start_time": "2022-06-13T08:57:31.042Z"
   },
   {
    "duration": 0,
    "start_time": "2022-06-13T08:57:31.043Z"
   },
   {
    "duration": 0,
    "start_time": "2022-06-13T08:57:31.044Z"
   },
   {
    "duration": 0,
    "start_time": "2022-06-13T08:57:31.045Z"
   },
   {
    "duration": 0,
    "start_time": "2022-06-13T08:57:31.046Z"
   },
   {
    "duration": 0,
    "start_time": "2022-06-13T08:57:31.047Z"
   },
   {
    "duration": 0,
    "start_time": "2022-06-13T08:57:31.048Z"
   },
   {
    "duration": 0,
    "start_time": "2022-06-13T08:57:31.049Z"
   },
   {
    "duration": 0,
    "start_time": "2022-06-13T08:57:31.050Z"
   },
   {
    "duration": 0,
    "start_time": "2022-06-13T08:57:31.050Z"
   },
   {
    "duration": 0,
    "start_time": "2022-06-13T08:57:31.052Z"
   },
   {
    "duration": 1258,
    "start_time": "2022-06-13T08:57:50.456Z"
   },
   {
    "duration": 760,
    "start_time": "2022-06-13T08:57:51.716Z"
   },
   {
    "duration": 16,
    "start_time": "2022-06-13T08:57:52.477Z"
   },
   {
    "duration": 132,
    "start_time": "2022-06-13T08:57:52.495Z"
   },
   {
    "duration": 122,
    "start_time": "2022-06-13T08:57:52.628Z"
   },
   {
    "duration": 4,
    "start_time": "2022-06-13T08:57:52.752Z"
   },
   {
    "duration": 9,
    "start_time": "2022-06-13T08:57:52.757Z"
   },
   {
    "duration": 269,
    "start_time": "2022-06-13T08:57:52.768Z"
   },
   {
    "duration": 5,
    "start_time": "2022-06-13T08:57:53.039Z"
   },
   {
    "duration": 224,
    "start_time": "2022-06-13T08:57:53.046Z"
   },
   {
    "duration": 3,
    "start_time": "2022-06-13T08:57:53.272Z"
   },
   {
    "duration": 11,
    "start_time": "2022-06-13T08:57:53.277Z"
   },
   {
    "duration": 190,
    "start_time": "2022-06-13T08:57:53.289Z"
   },
   {
    "duration": 296,
    "start_time": "2022-06-13T08:57:53.481Z"
   },
   {
    "duration": 374,
    "start_time": "2022-06-13T08:57:53.779Z"
   },
   {
    "duration": 119,
    "start_time": "2022-06-13T08:57:54.155Z"
   },
   {
    "duration": 117,
    "start_time": "2022-06-13T08:57:54.276Z"
   },
   {
    "duration": 113,
    "start_time": "2022-06-13T08:57:54.395Z"
   },
   {
    "duration": 8,
    "start_time": "2022-06-13T08:57:54.509Z"
   },
   {
    "duration": 216,
    "start_time": "2022-06-13T08:57:54.526Z"
   },
   {
    "duration": 30,
    "start_time": "2022-06-13T08:57:54.744Z"
   },
   {
    "duration": 112,
    "start_time": "2022-06-13T08:57:54.776Z"
   },
   {
    "duration": 6,
    "start_time": "2022-06-13T08:57:54.890Z"
   },
   {
    "duration": 51,
    "start_time": "2022-06-13T08:57:54.897Z"
   },
   {
    "duration": 290,
    "start_time": "2022-06-13T08:57:54.949Z"
   },
   {
    "duration": 44,
    "start_time": "2022-06-13T08:57:55.242Z"
   },
   {
    "duration": 5,
    "start_time": "2022-06-13T08:57:55.289Z"
   },
   {
    "duration": 54,
    "start_time": "2022-06-13T08:57:55.297Z"
   },
   {
    "duration": 38,
    "start_time": "2022-06-13T08:57:55.353Z"
   },
   {
    "duration": 5,
    "start_time": "2022-06-13T08:57:55.394Z"
   },
   {
    "duration": 27,
    "start_time": "2022-06-13T08:57:55.401Z"
   },
   {
    "duration": 34,
    "start_time": "2022-06-13T08:57:55.429Z"
   },
   {
    "duration": 293,
    "start_time": "2022-06-13T08:57:55.465Z"
   },
   {
    "duration": 29,
    "start_time": "2022-06-13T08:57:55.760Z"
   },
   {
    "duration": 4,
    "start_time": "2022-06-13T08:57:55.790Z"
   },
   {
    "duration": 45,
    "start_time": "2022-06-13T08:57:55.796Z"
   },
   {
    "duration": 3,
    "start_time": "2022-06-13T08:57:55.843Z"
   },
   {
    "duration": 11,
    "start_time": "2022-06-13T08:57:55.847Z"
   },
   {
    "duration": 5,
    "start_time": "2022-06-13T08:57:55.859Z"
   },
   {
    "duration": 5,
    "start_time": "2022-06-13T08:57:55.865Z"
   },
   {
    "duration": 5,
    "start_time": "2022-06-13T08:57:55.872Z"
   },
   {
    "duration": 553,
    "start_time": "2022-06-13T08:57:55.878Z"
   },
   {
    "duration": 325,
    "start_time": "2022-06-13T08:57:56.433Z"
   },
   {
    "duration": 3,
    "start_time": "2022-06-13T08:57:56.760Z"
   },
   {
    "duration": 6,
    "start_time": "2022-06-13T08:57:56.764Z"
   },
   {
    "duration": 8,
    "start_time": "2022-06-13T08:57:56.771Z"
   },
   {
    "duration": 34182,
    "start_time": "2022-06-13T08:57:56.780Z"
   },
   {
    "duration": 3,
    "start_time": "2022-06-13T08:58:30.964Z"
   },
   {
    "duration": 23,
    "start_time": "2022-06-13T08:58:30.968Z"
   },
   {
    "duration": 14,
    "start_time": "2022-06-13T08:58:30.992Z"
   },
   {
    "duration": 3632,
    "start_time": "2022-06-13T08:58:31.007Z"
   },
   {
    "duration": 146,
    "start_time": "2022-06-13T08:58:34.641Z"
   },
   {
    "duration": 5,
    "start_time": "2022-06-13T08:58:34.789Z"
   },
   {
    "duration": 99,
    "start_time": "2022-06-13T08:58:34.795Z"
   },
   {
    "duration": 3,
    "start_time": "2022-06-13T08:58:34.895Z"
   },
   {
    "duration": 12,
    "start_time": "2022-06-13T08:58:34.899Z"
   },
   {
    "duration": 15,
    "start_time": "2022-06-13T08:58:34.912Z"
   },
   {
    "duration": 1686965,
    "start_time": "2022-06-13T08:58:34.928Z"
   },
   {
    "duration": 3,
    "start_time": "2022-06-13T09:26:41.895Z"
   },
   {
    "duration": 16,
    "start_time": "2022-06-13T09:26:41.899Z"
   },
   {
    "duration": 6,
    "start_time": "2022-06-13T09:26:41.916Z"
   },
   {
    "duration": 247997,
    "start_time": "2022-06-13T09:26:41.923Z"
   },
   {
    "duration": 1037,
    "start_time": "2022-06-13T09:30:49.921Z"
   },
   {
    "duration": 10,
    "start_time": "2022-06-13T09:30:50.960Z"
   },
   {
    "duration": 89,
    "start_time": "2022-06-13T09:30:50.972Z"
   },
   {
    "duration": 264,
    "start_time": "2022-06-13T09:30:51.063Z"
   },
   {
    "duration": 2,
    "start_time": "2022-06-13T09:30:51.329Z"
   },
   {
    "duration": 6,
    "start_time": "2022-06-13T09:30:51.333Z"
   },
   {
    "duration": 6,
    "start_time": "2022-06-13T09:30:51.340Z"
   },
   {
    "duration": 115100,
    "start_time": "2022-06-13T09:30:51.347Z"
   },
   {
    "duration": 5,
    "start_time": "2022-06-13T09:32:46.449Z"
   },
   {
    "duration": 10,
    "start_time": "2022-06-13T09:32:46.456Z"
   },
   {
    "duration": 60,
    "start_time": "2022-06-13T09:32:46.468Z"
   },
   {
    "duration": 10621,
    "start_time": "2022-06-13T09:32:46.530Z"
   },
   {
    "duration": 1082,
    "start_time": "2022-06-13T09:32:57.152Z"
   },
   {
    "duration": 3,
    "start_time": "2022-06-13T09:32:58.236Z"
   },
   {
    "duration": 40,
    "start_time": "2022-06-13T10:43:05.483Z"
   },
   {
    "duration": 18,
    "start_time": "2022-06-13T10:43:51.141Z"
   }
  ],
  "kernelspec": {
   "display_name": "Python 3",
   "language": "python",
   "name": "python3"
  },
  "language_info": {
   "codemirror_mode": {
    "name": "ipython",
    "version": 3
   },
   "file_extension": ".py",
   "mimetype": "text/x-python",
   "name": "python",
   "nbconvert_exporter": "python",
   "pygments_lexer": "ipython3",
   "version": "3.8.8"
  },
  "toc": {
   "base_numbering": 1,
   "nav_menu": {},
   "number_sections": true,
   "sideBar": true,
   "skip_h1_title": true,
   "title_cell": "Содержание",
   "title_sidebar": "Содержание",
   "toc_cell": true,
   "toc_position": {
    "height": "calc(100% - 180px)",
    "left": "10px",
    "top": "150px",
    "width": "273.188px"
   },
   "toc_section_display": true,
   "toc_window_display": true
  }
 },
 "nbformat": 4,
 "nbformat_minor": 2
}
